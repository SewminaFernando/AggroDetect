{
 "cells": [
  {
   "cell_type": "code",
   "execution_count": 1,
   "metadata": {},
   "outputs": [],
   "source": [
    "import pandas as pd\n",
    "import numpy as np\n",
    "import os\n",
    "import librosa\n",
    "import librosa.display\n",
    "import matplotlib.pyplot as plt\n",
    "import IPython.display as ipd\n",
    "import warnings\n",
    "import resampy\n",
    "warnings.filterwarnings('ignore')"
   ]
  },
  {
   "cell_type": "code",
   "execution_count": 2,
   "metadata": {},
   "outputs": [
    {
     "name": "stderr",
     "output_type": "stream",
     "text": [
      "WARNING: pip is being invoked by an old script wrapper. This will fail in a future version of pip.\n",
      "Please see https://github.com/pypa/pip/issues/5599 for advice on fixing the underlying issue.\n",
      "To avoid this problem you can invoke Python with '-m pip' instead of running pip directly.\n"
     ]
    },
    {
     "data": {
      "text/html": [
       "<pre style=\"white-space:pre;overflow-x:auto;line-height:normal;font-family:Menlo,'DejaVu Sans Mono',consolas,'Courier New',monospace\">Collecting resampy\n",
       "</pre>\n"
      ],
      "text/plain": [
       "Collecting resampy\n"
      ]
     },
     "metadata": {},
     "output_type": "display_data"
    },
    {
     "data": {
      "text/html": [
       "<pre style=\"white-space:pre;overflow-x:auto;line-height:normal;font-family:Menlo,'DejaVu Sans Mono',consolas,'Courier New',monospace\">  Using cached resampy-0.4.2-py3-none-any.whl (3.1 MB)\n",
       "</pre>\n"
      ],
      "text/plain": [
       "  Using cached resampy-0.4.2-py3-none-any.whl (3.1 MB)\n"
      ]
     },
     "metadata": {},
     "output_type": "display_data"
    },
    {
     "data": {
      "text/html": [
       "<pre style=\"white-space:pre;overflow-x:auto;line-height:normal;font-family:Menlo,'DejaVu Sans Mono',consolas,'Courier New',monospace\">Requirement already satisfied: numpy&gt;=1.17 in c:\\users\\94777\\appdata\\local\\programs\\python\\python310\\lib\\site-packages (from resampy) (1.26.0)\n",
       "</pre>\n"
      ],
      "text/plain": [
       "Requirement already satisfied: numpy>=1.17 in c:\\users\\94777\\appdata\\local\\programs\\python\\python310\\lib\\site-packages (from resampy) (1.26.0)\n"
      ]
     },
     "metadata": {},
     "output_type": "display_data"
    },
    {
     "data": {
      "text/html": [
       "<pre style=\"white-space:pre;overflow-x:auto;line-height:normal;font-family:Menlo,'DejaVu Sans Mono',consolas,'Courier New',monospace\">Requirement already satisfied: numba&gt;=0.53 in c:\\users\\94777\\appdata\\local\\programs\\python\\python310\\lib\\site-packages (from resampy) (0.58.1)\n",
       "</pre>\n"
      ],
      "text/plain": [
       "Requirement already satisfied: numba>=0.53 in c:\\users\\94777\\appdata\\local\\programs\\python\\python310\\lib\\site-packages (from resampy) (0.58.1)\n"
      ]
     },
     "metadata": {},
     "output_type": "display_data"
    },
    {
     "data": {
      "text/html": [
       "<pre style=\"white-space:pre;overflow-x:auto;line-height:normal;font-family:Menlo,'DejaVu Sans Mono',consolas,'Courier New',monospace\">Requirement already satisfied: llvmlite&lt;0.42,&gt;=0.41.0dev0 in c:\\users\\94777\\appdata\\local\\programs\\python\\python310\\lib\\site-packages (from numba&gt;=0.53-&gt;resampy) (0.41.1)\n",
       "</pre>\n"
      ],
      "text/plain": [
       "Requirement already satisfied: llvmlite<0.42,>=0.41.0dev0 in c:\\users\\94777\\appdata\\local\\programs\\python\\python310\\lib\\site-packages (from numba>=0.53->resampy) (0.41.1)\n"
      ]
     },
     "metadata": {},
     "output_type": "display_data"
    },
    {
     "data": {
      "text/html": [
       "<pre style=\"white-space:pre;overflow-x:auto;line-height:normal;font-family:Menlo,'DejaVu Sans Mono',consolas,'Courier New',monospace\">Installing collected packages: resampy\n",
       "</pre>\n"
      ],
      "text/plain": [
       "Installing collected packages: resampy\n"
      ]
     },
     "metadata": {},
     "output_type": "display_data"
    },
    {
     "data": {
      "text/html": [
       "<pre style=\"white-space:pre;overflow-x:auto;line-height:normal;font-family:Menlo,'DejaVu Sans Mono',consolas,'Courier New',monospace\">Successfully installed resampy-0.4.2\n",
       "</pre>\n"
      ],
      "text/plain": [
       "Successfully installed resampy-0.4.2\n"
      ]
     },
     "metadata": {},
     "output_type": "display_data"
    },
    {
     "data": {
      "text/html": [
       "<pre style=\"white-space:pre;overflow-x:auto;line-height:normal;font-family:Menlo,'DejaVu Sans Mono',consolas,'Courier New',monospace\">\n",
       "<span style=\"font-weight: bold\">[</span><span style=\"color: #000080; text-decoration-color: #000080; background-color: #ffffff\">notice</span><span style=\"color: #000000; text-decoration-color: #000000; background-color: #ffffff; font-weight: bold\">]</span><span style=\"color: #000000; text-decoration-color: #000000; background-color: #ffffff\"> A new release of pip is available: </span><span style=\"color: #800000; text-decoration-color: #800000; background-color: #ffffff\">23.2.1</span><span style=\"color: #000000; text-decoration-color: #000000; background-color: #ffffff\"> -&gt; </span><span style=\"color: #008000; text-decoration-color: #008000; background-color: #ffffff\">23.3.1</span>\n",
       "<span style=\"font-weight: bold\">[</span><span style=\"color: #000080; text-decoration-color: #000080; background-color: #ffffff\">notice</span><span style=\"color: #000000; text-decoration-color: #000000; background-color: #ffffff; font-weight: bold\">]</span><span style=\"color: #000000; text-decoration-color: #000000; background-color: #ffffff\"> To update, run: </span><span style=\"color: #008000; text-decoration-color: #008000; background-color: #ffffff\">python.exe -m pip install --upgrade pip</span>\n",
       "</pre>\n"
      ],
      "text/plain": [
       "\n",
       "\u001b[1m[\u001b[0m\u001b[34;49mnotice\u001b[0m\u001b[1;39;49m]\u001b[0m\u001b[39;49m A new release of pip is available: \u001b[0m\u001b[31;49m23.2.1\u001b[0m\u001b[39;49m -> \u001b[0m\u001b[32;49m23.3.1\u001b[0m\n",
       "\u001b[1m[\u001b[0m\u001b[34;49mnotice\u001b[0m\u001b[1;39;49m]\u001b[0m\u001b[39;49m To update, run: \u001b[0m\u001b[32;49mpython.exe -m pip install --upgrade pip\u001b[0m\n"
      ]
     },
     "metadata": {},
     "output_type": "display_data"
    },
    {
     "data": {
      "text/plain": [
       "0"
      ]
     },
     "execution_count": 2,
     "metadata": {},
     "output_type": "execute_result"
    }
   ],
   "source": [
    "# import pip\n",
    "# pip.main(['install','resampy'])"
   ]
  },
  {
   "cell_type": "code",
   "execution_count": 4,
   "metadata": {},
   "outputs": [
    {
     "name": "stderr",
     "output_type": "stream",
     "text": [
      "WARNING: pip is being invoked by an old script wrapper. This will fail in a future version of pip.\n",
      "Please see https://github.com/pypa/pip/issues/5599 for advice on fixing the underlying issue.\n",
      "To avoid this problem you can invoke Python with '-m pip' instead of running pip directly.\n"
     ]
    },
    {
     "data": {
      "text/html": [
       "<pre style=\"white-space:pre;overflow-x:auto;line-height:normal;font-family:Menlo,'DejaVu Sans Mono',consolas,'Courier New',monospace\">Collecting pydub\n",
       "</pre>\n"
      ],
      "text/plain": [
       "Collecting pydub\n"
      ]
     },
     "metadata": {},
     "output_type": "display_data"
    },
    {
     "data": {
      "text/html": [
       "<pre style=\"white-space:pre;overflow-x:auto;line-height:normal;font-family:Menlo,'DejaVu Sans Mono',consolas,'Courier New',monospace\">  Using cached pydub-0.25.1-py2.py3-none-any.whl (32 kB)\n",
       "</pre>\n"
      ],
      "text/plain": [
       "  Using cached pydub-0.25.1-py2.py3-none-any.whl (32 kB)\n"
      ]
     },
     "metadata": {},
     "output_type": "display_data"
    },
    {
     "data": {
      "text/html": [
       "<pre style=\"white-space:pre;overflow-x:auto;line-height:normal;font-family:Menlo,'DejaVu Sans Mono',consolas,'Courier New',monospace\">Installing collected packages: pydub\n",
       "</pre>\n"
      ],
      "text/plain": [
       "Installing collected packages: pydub\n"
      ]
     },
     "metadata": {},
     "output_type": "display_data"
    },
    {
     "data": {
      "text/html": [
       "<pre style=\"white-space:pre;overflow-x:auto;line-height:normal;font-family:Menlo,'DejaVu Sans Mono',consolas,'Courier New',monospace\">Successfully installed pydub-0.25.1\n",
       "</pre>\n"
      ],
      "text/plain": [
       "Successfully installed pydub-0.25.1\n"
      ]
     },
     "metadata": {},
     "output_type": "display_data"
    },
    {
     "data": {
      "text/html": [
       "<pre style=\"white-space:pre;overflow-x:auto;line-height:normal;font-family:Menlo,'DejaVu Sans Mono',consolas,'Courier New',monospace\">\n",
       "<span style=\"font-weight: bold\">[</span><span style=\"color: #000080; text-decoration-color: #000080; background-color: #ffffff\">notice</span><span style=\"color: #000000; text-decoration-color: #000000; background-color: #ffffff; font-weight: bold\">]</span><span style=\"color: #000000; text-decoration-color: #000000; background-color: #ffffff\"> A new release of pip is available: </span><span style=\"color: #800000; text-decoration-color: #800000; background-color: #ffffff\">23.2.1</span><span style=\"color: #000000; text-decoration-color: #000000; background-color: #ffffff\"> -&gt; </span><span style=\"color: #008000; text-decoration-color: #008000; background-color: #ffffff\">23.3.1</span>\n",
       "<span style=\"font-weight: bold\">[</span><span style=\"color: #000080; text-decoration-color: #000080; background-color: #ffffff\">notice</span><span style=\"color: #000000; text-decoration-color: #000000; background-color: #ffffff; font-weight: bold\">]</span><span style=\"color: #000000; text-decoration-color: #000000; background-color: #ffffff\"> To update, run: </span><span style=\"color: #008000; text-decoration-color: #008000; background-color: #ffffff\">python.exe -m pip install --upgrade pip</span>\n",
       "</pre>\n"
      ],
      "text/plain": [
       "\n",
       "\u001b[1m[\u001b[0m\u001b[34;49mnotice\u001b[0m\u001b[1;39;49m]\u001b[0m\u001b[39;49m A new release of pip is available: \u001b[0m\u001b[31;49m23.2.1\u001b[0m\u001b[39;49m -> \u001b[0m\u001b[32;49m23.3.1\u001b[0m\n",
       "\u001b[1m[\u001b[0m\u001b[34;49mnotice\u001b[0m\u001b[1;39;49m]\u001b[0m\u001b[39;49m To update, run: \u001b[0m\u001b[32;49mpython.exe -m pip install --upgrade pip\u001b[0m\n"
      ]
     },
     "metadata": {},
     "output_type": "display_data"
    },
    {
     "data": {
      "text/plain": [
       "0"
      ]
     },
     "execution_count": 4,
     "metadata": {},
     "output_type": "execute_result"
    }
   ],
   "source": [
    "# import pip\n",
    "# pip.main(['install','pydub'])"
   ]
  },
  {
   "cell_type": "code",
   "execution_count": 3,
   "metadata": {},
   "outputs": [],
   "source": [
    "DATA_FRAMES = True\n",
    "fem_path = 'Female_features.csv'\n",
    "mal_path = 'Male_features.csv'"
   ]
  },
  {
   "cell_type": "code",
   "execution_count": 3,
   "metadata": {},
   "outputs": [],
   "source": [
    "# Path to the Audio Dataset\n",
    "female_aggressive_path = \"D:\\\\DSGP\\\\Extraction\\\\Audio Dataset\\\\Female\\\\Aggressive\"\n",
    "female_neutral_path = \"D:\\\\DSGP\\\\Extraction\\\\Audio Dataset\\\\Female\\\\Non-Aggressive\"\n",
    "male_aggresive_path = \"D:\\\\DSGP\\Extraction\\\\Audio Dataset\\\\Male\\\\Aggressive\"\n",
    "male_neutral_path = \"D:\\\\DSGP\\\\Extraction\\\\Audio Dataset\\\\Male\\\\Non-Aggressive\""
   ]
  },
  {
   "cell_type": "code",
   "execution_count": 4,
   "metadata": {},
   "outputs": [
    {
     "data": {
      "text/html": [
       "<div>\n",
       "<style scoped>\n",
       "    .dataframe tbody tr th:only-of-type {\n",
       "        vertical-align: middle;\n",
       "    }\n",
       "\n",
       "    .dataframe tbody tr th {\n",
       "        vertical-align: top;\n",
       "    }\n",
       "\n",
       "    .dataframe thead th {\n",
       "        text-align: right;\n",
       "    }\n",
       "</style>\n",
       "<table border=\"1\" class=\"dataframe\">\n",
       "  <thead>\n",
       "    <tr style=\"text-align: right;\">\n",
       "      <th></th>\n",
       "      <th>path</th>\n",
       "      <th>emotion</th>\n",
       "    </tr>\n",
       "  </thead>\n",
       "  <tbody>\n",
       "    <tr>\n",
       "      <th>0</th>\n",
       "      <td>D:\\DSGP\\Extraction\\Audio Dataset\\Female\\Aggres...</td>\n",
       "      <td>aggressive</td>\n",
       "    </tr>\n",
       "    <tr>\n",
       "      <th>1</th>\n",
       "      <td>D:\\DSGP\\Extraction\\Audio Dataset\\Female\\Aggres...</td>\n",
       "      <td>aggressive</td>\n",
       "    </tr>\n",
       "    <tr>\n",
       "      <th>2</th>\n",
       "      <td>D:\\DSGP\\Extraction\\Audio Dataset\\Female\\Aggres...</td>\n",
       "      <td>aggressive</td>\n",
       "    </tr>\n",
       "    <tr>\n",
       "      <th>3</th>\n",
       "      <td>D:\\DSGP\\Extraction\\Audio Dataset\\Female\\Aggres...</td>\n",
       "      <td>aggressive</td>\n",
       "    </tr>\n",
       "    <tr>\n",
       "      <th>4</th>\n",
       "      <td>D:\\DSGP\\Extraction\\Audio Dataset\\Female\\Aggres...</td>\n",
       "      <td>aggressive</td>\n",
       "    </tr>\n",
       "  </tbody>\n",
       "</table>\n",
       "</div>"
      ],
      "text/plain": [
       "                                                path     emotion\n",
       "0  D:\\DSGP\\Extraction\\Audio Dataset\\Female\\Aggres...  aggressive\n",
       "1  D:\\DSGP\\Extraction\\Audio Dataset\\Female\\Aggres...  aggressive\n",
       "2  D:\\DSGP\\Extraction\\Audio Dataset\\Female\\Aggres...  aggressive\n",
       "3  D:\\DSGP\\Extraction\\Audio Dataset\\Female\\Aggres...  aggressive\n",
       "4  D:\\DSGP\\Extraction\\Audio Dataset\\Female\\Aggres...  aggressive"
      ]
     },
     "execution_count": 4,
     "metadata": {},
     "output_type": "execute_result"
    }
   ],
   "source": [
    "# Save the path to audio and their labels in a dataframe\n",
    "\n",
    "female_agg_dir_list = os.listdir(female_aggressive_path)\n",
    "path = []\n",
    "emotion = []\n",
    "for i in female_agg_dir_list:\n",
    "    path.append(female_aggressive_path + '\\\\' + i)\n",
    "    emotion.append('aggressive')\n",
    "\n",
    "female_agg_df = pd.DataFrame({'path': path, 'emotion': emotion})\n",
    "female_agg_df.head()"
   ]
  },
  {
   "cell_type": "code",
   "execution_count": 5,
   "metadata": {},
   "outputs": [
    {
     "data": {
      "text/html": [
       "<div>\n",
       "<style scoped>\n",
       "    .dataframe tbody tr th:only-of-type {\n",
       "        vertical-align: middle;\n",
       "    }\n",
       "\n",
       "    .dataframe tbody tr th {\n",
       "        vertical-align: top;\n",
       "    }\n",
       "\n",
       "    .dataframe thead th {\n",
       "        text-align: right;\n",
       "    }\n",
       "</style>\n",
       "<table border=\"1\" class=\"dataframe\">\n",
       "  <thead>\n",
       "    <tr style=\"text-align: right;\">\n",
       "      <th></th>\n",
       "      <th>path</th>\n",
       "      <th>emotion</th>\n",
       "    </tr>\n",
       "  </thead>\n",
       "  <tbody>\n",
       "    <tr>\n",
       "      <th>0</th>\n",
       "      <td>D:\\DSGP\\Extraction\\Audio Dataset\\Female\\Non-Ag...</td>\n",
       "      <td>non-aggressive</td>\n",
       "    </tr>\n",
       "    <tr>\n",
       "      <th>1</th>\n",
       "      <td>D:\\DSGP\\Extraction\\Audio Dataset\\Female\\Non-Ag...</td>\n",
       "      <td>non-aggressive</td>\n",
       "    </tr>\n",
       "    <tr>\n",
       "      <th>2</th>\n",
       "      <td>D:\\DSGP\\Extraction\\Audio Dataset\\Female\\Non-Ag...</td>\n",
       "      <td>non-aggressive</td>\n",
       "    </tr>\n",
       "    <tr>\n",
       "      <th>3</th>\n",
       "      <td>D:\\DSGP\\Extraction\\Audio Dataset\\Female\\Non-Ag...</td>\n",
       "      <td>non-aggressive</td>\n",
       "    </tr>\n",
       "    <tr>\n",
       "      <th>4</th>\n",
       "      <td>D:\\DSGP\\Extraction\\Audio Dataset\\Female\\Non-Ag...</td>\n",
       "      <td>non-aggressive</td>\n",
       "    </tr>\n",
       "  </tbody>\n",
       "</table>\n",
       "</div>"
      ],
      "text/plain": [
       "                                                path         emotion\n",
       "0  D:\\DSGP\\Extraction\\Audio Dataset\\Female\\Non-Ag...  non-aggressive\n",
       "1  D:\\DSGP\\Extraction\\Audio Dataset\\Female\\Non-Ag...  non-aggressive\n",
       "2  D:\\DSGP\\Extraction\\Audio Dataset\\Female\\Non-Ag...  non-aggressive\n",
       "3  D:\\DSGP\\Extraction\\Audio Dataset\\Female\\Non-Ag...  non-aggressive\n",
       "4  D:\\DSGP\\Extraction\\Audio Dataset\\Female\\Non-Ag...  non-aggressive"
      ]
     },
     "execution_count": 5,
     "metadata": {},
     "output_type": "execute_result"
    }
   ],
   "source": [
    "female_non_agg_dir_list = os.listdir(female_neutral_path)\n",
    "path = []\n",
    "emotion = []\n",
    "for i in female_non_agg_dir_list:\n",
    "    path.append(female_neutral_path + '\\\\' + i)\n",
    "    emotion.append('non-aggressive')\n",
    "\n",
    "female_non_agg_df = pd.DataFrame({'path': path, 'emotion': emotion})\n",
    "female_non_agg_df.head()"
   ]
  },
  {
   "cell_type": "code",
   "execution_count": 6,
   "metadata": {},
   "outputs": [
    {
     "data": {
      "text/html": [
       "<div>\n",
       "<style scoped>\n",
       "    .dataframe tbody tr th:only-of-type {\n",
       "        vertical-align: middle;\n",
       "    }\n",
       "\n",
       "    .dataframe tbody tr th {\n",
       "        vertical-align: top;\n",
       "    }\n",
       "\n",
       "    .dataframe thead th {\n",
       "        text-align: right;\n",
       "    }\n",
       "</style>\n",
       "<table border=\"1\" class=\"dataframe\">\n",
       "  <thead>\n",
       "    <tr style=\"text-align: right;\">\n",
       "      <th></th>\n",
       "      <th>path</th>\n",
       "      <th>emotion</th>\n",
       "    </tr>\n",
       "  </thead>\n",
       "  <tbody>\n",
       "    <tr>\n",
       "      <th>0</th>\n",
       "      <td>D:\\DSGP\\Extraction\\Audio Dataset\\Male\\Aggressi...</td>\n",
       "      <td>aggressive</td>\n",
       "    </tr>\n",
       "    <tr>\n",
       "      <th>1</th>\n",
       "      <td>D:\\DSGP\\Extraction\\Audio Dataset\\Male\\Aggressi...</td>\n",
       "      <td>aggressive</td>\n",
       "    </tr>\n",
       "    <tr>\n",
       "      <th>2</th>\n",
       "      <td>D:\\DSGP\\Extraction\\Audio Dataset\\Male\\Aggressi...</td>\n",
       "      <td>aggressive</td>\n",
       "    </tr>\n",
       "    <tr>\n",
       "      <th>3</th>\n",
       "      <td>D:\\DSGP\\Extraction\\Audio Dataset\\Male\\Aggressi...</td>\n",
       "      <td>aggressive</td>\n",
       "    </tr>\n",
       "    <tr>\n",
       "      <th>4</th>\n",
       "      <td>D:\\DSGP\\Extraction\\Audio Dataset\\Male\\Aggressi...</td>\n",
       "      <td>aggressive</td>\n",
       "    </tr>\n",
       "  </tbody>\n",
       "</table>\n",
       "</div>"
      ],
      "text/plain": [
       "                                                path     emotion\n",
       "0  D:\\DSGP\\Extraction\\Audio Dataset\\Male\\Aggressi...  aggressive\n",
       "1  D:\\DSGP\\Extraction\\Audio Dataset\\Male\\Aggressi...  aggressive\n",
       "2  D:\\DSGP\\Extraction\\Audio Dataset\\Male\\Aggressi...  aggressive\n",
       "3  D:\\DSGP\\Extraction\\Audio Dataset\\Male\\Aggressi...  aggressive\n",
       "4  D:\\DSGP\\Extraction\\Audio Dataset\\Male\\Aggressi...  aggressive"
      ]
     },
     "execution_count": 6,
     "metadata": {},
     "output_type": "execute_result"
    }
   ],
   "source": [
    "male_agg_dir_list = os.listdir(male_aggresive_path)\n",
    "path = []\n",
    "emotion = []\n",
    "for i in male_agg_dir_list:\n",
    "    path.append(male_aggresive_path + '\\\\' + i)\n",
    "    emotion.append('aggressive')\n",
    "\n",
    "male_agg_df = pd.DataFrame({'path': path, 'emotion': emotion})\n",
    "male_agg_df.head()"
   ]
  },
  {
   "cell_type": "code",
   "execution_count": 7,
   "metadata": {},
   "outputs": [
    {
     "data": {
      "text/html": [
       "<div>\n",
       "<style scoped>\n",
       "    .dataframe tbody tr th:only-of-type {\n",
       "        vertical-align: middle;\n",
       "    }\n",
       "\n",
       "    .dataframe tbody tr th {\n",
       "        vertical-align: top;\n",
       "    }\n",
       "\n",
       "    .dataframe thead th {\n",
       "        text-align: right;\n",
       "    }\n",
       "</style>\n",
       "<table border=\"1\" class=\"dataframe\">\n",
       "  <thead>\n",
       "    <tr style=\"text-align: right;\">\n",
       "      <th></th>\n",
       "      <th>path</th>\n",
       "      <th>emotion</th>\n",
       "    </tr>\n",
       "  </thead>\n",
       "  <tbody>\n",
       "    <tr>\n",
       "      <th>0</th>\n",
       "      <td>D:\\DSGP\\Extraction\\Audio Dataset\\Male\\Non-Aggr...</td>\n",
       "      <td>non-aggressive</td>\n",
       "    </tr>\n",
       "    <tr>\n",
       "      <th>1</th>\n",
       "      <td>D:\\DSGP\\Extraction\\Audio Dataset\\Male\\Non-Aggr...</td>\n",
       "      <td>non-aggressive</td>\n",
       "    </tr>\n",
       "    <tr>\n",
       "      <th>2</th>\n",
       "      <td>D:\\DSGP\\Extraction\\Audio Dataset\\Male\\Non-Aggr...</td>\n",
       "      <td>non-aggressive</td>\n",
       "    </tr>\n",
       "    <tr>\n",
       "      <th>3</th>\n",
       "      <td>D:\\DSGP\\Extraction\\Audio Dataset\\Male\\Non-Aggr...</td>\n",
       "      <td>non-aggressive</td>\n",
       "    </tr>\n",
       "    <tr>\n",
       "      <th>4</th>\n",
       "      <td>D:\\DSGP\\Extraction\\Audio Dataset\\Male\\Non-Aggr...</td>\n",
       "      <td>non-aggressive</td>\n",
       "    </tr>\n",
       "  </tbody>\n",
       "</table>\n",
       "</div>"
      ],
      "text/plain": [
       "                                                path         emotion\n",
       "0  D:\\DSGP\\Extraction\\Audio Dataset\\Male\\Non-Aggr...  non-aggressive\n",
       "1  D:\\DSGP\\Extraction\\Audio Dataset\\Male\\Non-Aggr...  non-aggressive\n",
       "2  D:\\DSGP\\Extraction\\Audio Dataset\\Male\\Non-Aggr...  non-aggressive\n",
       "3  D:\\DSGP\\Extraction\\Audio Dataset\\Male\\Non-Aggr...  non-aggressive\n",
       "4  D:\\DSGP\\Extraction\\Audio Dataset\\Male\\Non-Aggr...  non-aggressive"
      ]
     },
     "execution_count": 7,
     "metadata": {},
     "output_type": "execute_result"
    }
   ],
   "source": [
    "male_non_agg_dir_list = os.listdir(male_neutral_path)\n",
    "path = []\n",
    "emotion = []\n",
    "for i in male_non_agg_dir_list:\n",
    "    path.append(male_neutral_path + '\\\\' + i)\n",
    "    emotion.append('non-aggressive')\n",
    "\n",
    "male_non_agg_df = pd.DataFrame({'path': path, 'emotion': emotion})\n",
    "male_non_agg_df.head()"
   ]
  },
  {
   "cell_type": "code",
   "execution_count": 8,
   "metadata": {},
   "outputs": [
    {
     "data": {
      "text/html": [
       "<div>\n",
       "<style scoped>\n",
       "    .dataframe tbody tr th:only-of-type {\n",
       "        vertical-align: middle;\n",
       "    }\n",
       "\n",
       "    .dataframe tbody tr th {\n",
       "        vertical-align: top;\n",
       "    }\n",
       "\n",
       "    .dataframe thead th {\n",
       "        text-align: right;\n",
       "    }\n",
       "</style>\n",
       "<table border=\"1\" class=\"dataframe\">\n",
       "  <thead>\n",
       "    <tr style=\"text-align: right;\">\n",
       "      <th></th>\n",
       "      <th>path</th>\n",
       "      <th>emotion</th>\n",
       "    </tr>\n",
       "  </thead>\n",
       "  <tbody>\n",
       "    <tr>\n",
       "      <th>0</th>\n",
       "      <td>D:\\DSGP\\Extraction\\Audio Dataset\\Female\\Aggres...</td>\n",
       "      <td>aggressive</td>\n",
       "    </tr>\n",
       "    <tr>\n",
       "      <th>1</th>\n",
       "      <td>D:\\DSGP\\Extraction\\Audio Dataset\\Female\\Aggres...</td>\n",
       "      <td>aggressive</td>\n",
       "    </tr>\n",
       "    <tr>\n",
       "      <th>2</th>\n",
       "      <td>D:\\DSGP\\Extraction\\Audio Dataset\\Female\\Aggres...</td>\n",
       "      <td>aggressive</td>\n",
       "    </tr>\n",
       "    <tr>\n",
       "      <th>3</th>\n",
       "      <td>D:\\DSGP\\Extraction\\Audio Dataset\\Female\\Aggres...</td>\n",
       "      <td>aggressive</td>\n",
       "    </tr>\n",
       "    <tr>\n",
       "      <th>4</th>\n",
       "      <td>D:\\DSGP\\Extraction\\Audio Dataset\\Female\\Aggres...</td>\n",
       "      <td>aggressive</td>\n",
       "    </tr>\n",
       "  </tbody>\n",
       "</table>\n",
       "</div>"
      ],
      "text/plain": [
       "                                                path     emotion\n",
       "0  D:\\DSGP\\Extraction\\Audio Dataset\\Female\\Aggres...  aggressive\n",
       "1  D:\\DSGP\\Extraction\\Audio Dataset\\Female\\Aggres...  aggressive\n",
       "2  D:\\DSGP\\Extraction\\Audio Dataset\\Female\\Aggres...  aggressive\n",
       "3  D:\\DSGP\\Extraction\\Audio Dataset\\Female\\Aggres...  aggressive\n",
       "4  D:\\DSGP\\Extraction\\Audio Dataset\\Female\\Aggres...  aggressive"
      ]
     },
     "execution_count": 8,
     "metadata": {},
     "output_type": "execute_result"
    }
   ],
   "source": [
    "# Merge all the dataframes into one\n",
    "data = pd.concat([female_agg_df,female_non_agg_df,male_agg_df,male_non_agg_df], axis=0)\n",
    "\n",
    "# # Save the dataframe to a csv file\n",
    "# data.to_csv('D:\\\\DSGP\\\\Extraction\\\\Audio Dataset\\\\Audio_Dataset.csv', index=False)\n",
    "\n",
    "data.head()"
   ]
  },
  {
   "cell_type": "code",
   "execution_count": 9,
   "metadata": {},
   "outputs": [
    {
     "data": {
      "text/plain": [
       "(3591, 2)"
      ]
     },
     "execution_count": 9,
     "metadata": {},
     "output_type": "execute_result"
    }
   ],
   "source": [
    "data.shape"
   ]
  },
  {
   "cell_type": "code",
   "execution_count": 10,
   "metadata": {},
   "outputs": [
    {
     "data": {
      "text/plain": [
       "emotion\n",
       "aggressive        1923\n",
       "non-aggressive    1668\n",
       "Name: count, dtype: int64"
      ]
     },
     "execution_count": 10,
     "metadata": {},
     "output_type": "execute_result"
    }
   ],
   "source": [
    "data['emotion'].value_counts()"
   ]
  },
  {
   "cell_type": "code",
   "execution_count": 12,
   "metadata": {},
   "outputs": [],
   "source": [
    "# Merge data male and female\n",
    "Males = pd.concat([male_agg_df,male_non_agg_df], axis = 0)\n",
    "Males.to_csv(\"males_emotion_df.csv\", index=False)\n",
    "\n",
    "Females = pd.concat([female_agg_df,female_non_agg_df], axis = 0)\n",
    "Females.to_csv(\"females_emotion_df.csv\", index=False)"
   ]
  },
  {
   "cell_type": "code",
   "execution_count": 14,
   "metadata": {},
   "outputs": [
    {
     "data": {
      "text/plain": [
       "(1570, 2)"
      ]
     },
     "execution_count": 14,
     "metadata": {},
     "output_type": "execute_result"
    }
   ],
   "source": [
    "Males.shape"
   ]
  },
  {
   "cell_type": "code",
   "execution_count": 15,
   "metadata": {},
   "outputs": [
    {
     "data": {
      "text/plain": [
       "(2021, 2)"
      ]
     },
     "execution_count": 15,
     "metadata": {},
     "output_type": "execute_result"
    }
   ],
   "source": [
    "Females.shape"
   ]
  },
  {
   "cell_type": "markdown",
   "metadata": {},
   "source": [
    "# Data Augmentation"
   ]
  },
  {
   "cell_type": "code",
   "execution_count": 30,
   "metadata": {},
   "outputs": [],
   "source": [
    "def noise(data):\n",
    "    noise_amp = 0.04*np.random.uniform()*np.amax(data)\n",
    "    data = data + noise_amp*np.random.normal(size=data.shape[0])\n",
    "    return data\n",
    "\n",
    "# def stretch(data, rate=0.70):\n",
    "#     return librosa.effects.time_stretch(data, rate)\n",
    "\n",
    "def shift(data):\n",
    "    shift_range = int(np.random.uniform(low=-5, high = 5)*1000)\n",
    "    return np.roll(data, shift_range)\n",
    "\n",
    "# def pitch(data, sampling_rate, pitch_factor=0.8):\n",
    "#     return librosa.effects.pitch_shift(data, sampling_rate, pitch_factor)\n",
    "\n",
    "# def higher_speed(data, speed_factor = 1.25):\n",
    "#     return librosa.effects.time_stretch(data, speed_factor)\n",
    "\n",
    "# def lower_speed(data, speed_factor = 0.75):\n",
    "#     return librosa.effects.time_stretch(data, speed_factor)"
   ]
  },
  {
   "cell_type": "code",
   "execution_count": 39,
   "metadata": {},
   "outputs": [],
   "source": [
    "?librosa.effects.time_stretch"
   ]
  },
  {
   "cell_type": "code",
   "execution_count": 31,
   "metadata": {},
   "outputs": [],
   "source": [
    "sample_rate = 22050\n",
    "\n",
    "def extract_features(data):\n",
    "    \n",
    "    result = np.array([])\n",
    "    # MFCC\n",
    "    mfcc = np.mean(librosa.feature.mfcc(y=data).T, axis=0)\n",
    "    result = np.hstack((result, mfcc)) # stacking horizontally\n",
    "    return result"
   ]
  },
  {
   "cell_type": "code",
   "execution_count": 32,
   "metadata": {},
   "outputs": [],
   "source": [
    "def get_features(path):\n",
    "    # duration and offset are used to take care of the no audio in start and the ending of each audio files.\n",
    "    data, sample_rate = librosa.load(path, duration=3, offset=0.5, res_type='kaiser_fast')\n",
    "    \n",
    "    #without augmentation\n",
    "    res1 = extract_features(data)\n",
    "    result = np.array(res1)\n",
    "    \n",
    "    #noised\n",
    "    noise_data = noise(data)\n",
    "    res2 = extract_features(noise_data)\n",
    "    result = np.vstack((result, res2)) # stacking vertically\n",
    "\n",
    "#     #stretched\n",
    "#     stretch_data = stretch(data)\n",
    "#     res3 = extract_features(stretch_data)\n",
    "#     result = np.vstack((result, res3))\n",
    "    \n",
    "    #shifted\n",
    "    shift_data = shift(data)\n",
    "    res4 = extract_features(shift_data)\n",
    "    result = np.vstack((result, res4))\n",
    "    \n",
    "#     #pitched\n",
    "#     pitch_data = pitch(data, sample_rate)\n",
    "#     res5 = extract_features(pitch_data)\n",
    "#     result = np.vstack((result, res5)) \n",
    "    \n",
    "#     #speed up\n",
    "#     higher_speed_data = higher_speed(data)\n",
    "#     res6 = extract_features(higher_speed_data)\n",
    "#     result = np.vstack((result, res6))\n",
    "\n",
    "#     #speed down\n",
    "#     lower_speed_data = lower_speed(data)\n",
    "#     res7 = extract_features(lower_speed_data)\n",
    "#     result = np.vstack((result, res7))\n",
    "\n",
    "    return result"
   ]
  },
  {
   "cell_type": "code",
   "execution_count": 33,
   "metadata": {},
   "outputs": [
    {
     "name": "stdout",
     "output_type": "stream",
     "text": [
      "Check shapes:\n",
      "Female features: 6063, labels: 6063\n",
      "Male features:   4710, labels: 4710\n"
     ]
    }
   ],
   "source": [
    "if not DATA_FRAMES:\n",
    "    \n",
    "    female_X, female_Y = [], []\n",
    "    for path, emotion in zip(Females.path, Females.emotion):\n",
    "        features = get_features(path)\n",
    "        #adding augmentation, get_features return a multi dimensional array (for each augmentation), so we have to use a loop to fill the df\n",
    "        for elem in features: \n",
    "            female_X.append(elem)        \n",
    "            female_Y.append(emotion)\n",
    "    \n",
    "\n",
    "    male_X, male_Y = [], []\n",
    "    for path, emotion in zip(Males.path, Males.emotion):\n",
    "        features = get_features(path)\n",
    "        for elem in features:\n",
    "            male_X.append(elem)\n",
    "            male_Y.append(emotion)\n",
    "            \n",
    "    print(f'Check shapes:\\nFemale features: {len(female_X)}, labels: {len(female_Y)}\\nMale features:   {len(male_X)}, labels: {len(male_Y)}')"
   ]
  },
  {
   "cell_type": "code",
   "execution_count": 34,
   "metadata": {},
   "outputs": [],
   "source": [
    "def setup_dataframe(gender, features, labels):\n",
    "    df = pd.DataFrame(features)\n",
    "    df['labels'] = labels\n",
    "    df.to_csv(f'{gender}_features.csv', index=False)\n",
    "    \n",
    "    print(f'{gender} dataframe')\n",
    "    df.sample(frac=1).head()\n",
    "    \n",
    "    return df"
   ]
  },
  {
   "cell_type": "code",
   "execution_count": 4,
   "metadata": {},
   "outputs": [],
   "source": [
    "if not DATA_FRAMES:\n",
    "    Females_Features = setup_dataframe('Female', female_X, female_Y)\n",
    "else:\n",
    "    Females_Features = pd.read_csv(fem_path)"
   ]
  },
  {
   "cell_type": "code",
   "execution_count": 5,
   "metadata": {},
   "outputs": [],
   "source": [
    "if not DATA_FRAMES:\n",
    "    Males_Features = setup_dataframe('Male', male_X, male_Y)\n",
    "else:\n",
    "    Males_Features = pd.read_csv(mal_path)"
   ]
  }
 ],
 "metadata": {
  "kernelspec": {
   "display_name": "Python 3 (ipykernel)",
   "language": "python",
   "name": "python3"
  },
  "language_info": {
   "codemirror_mode": {
    "name": "ipython",
    "version": 3
   },
   "file_extension": ".py",
   "mimetype": "text/x-python",
   "name": "python",
   "nbconvert_exporter": "python",
   "pygments_lexer": "ipython3",
   "version": "3.10.2"
  }
 },
 "nbformat": 4,
 "nbformat_minor": 2
}
