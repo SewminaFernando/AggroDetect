{
 "cells": [
  {
   "cell_type": "code",
   "execution_count": 1,
   "metadata": {},
   "outputs": [
    {
     "name": "stderr",
     "output_type": "stream",
     "text": [
      "C:\\Users\\Pehansi Karunaratne\\AppData\\Local\\Temp\\ipykernel_15536\\3064049372.py:2: DeprecationWarning: \n",
      "Pyarrow will become a required dependency of pandas in the next major release of pandas (pandas 3.0),\n",
      "(to allow more performant data types, such as the Arrow string type, and better interoperability with other libraries)\n",
      "but was not found to be installed on your system.\n",
      "If this would cause problems for you,\n",
      "please provide us feedback at https://github.com/pandas-dev/pandas/issues/54466\n",
      "        \n",
      "  import pandas as pd\n"
     ]
    }
   ],
   "source": [
    "# Import Libraries\n",
    "import pandas as pd\n",
    "import numpy as np\n",
    "import seaborn as sns # used for plot interactive graph.\n",
    "import matplotlib.pyplot as plt\n",
    "from sklearn.feature_extraction.text import TfidfVectorizer\n",
    "from sklearn.model_selection import train_test_split\n",
    "from sklearn.feature_extraction.text import TfidfTransformer\n",
    "from sklearn.svm import SVC\n",
    "from sklearn.model_selection import cross_val_score\n",
    "from sklearn import metrics\n",
    "from sklearn.model_selection import GridSearchCV"
   ]
  },
  {
   "cell_type": "code",
   "execution_count": 4,
   "metadata": {},
   "outputs": [
    {
     "name": "stdout",
     "output_type": "stream",
     "text": [
      "(420, 2)\n"
     ]
    }
   ],
   "source": [
    "# Loading data\n",
    "df = pd.read_csv('Datasets/balanced_augmented_NewDepartments_dataset.csv')\n",
    "print(df.shape)"
   ]
  },
  {
   "cell_type": "code",
   "execution_count": 5,
   "metadata": {},
   "outputs": [
    {
     "data": {
      "text/html": [
       "<div>\n",
       "<style scoped>\n",
       "    .dataframe tbody tr th:only-of-type {\n",
       "        vertical-align: middle;\n",
       "    }\n",
       "\n",
       "    .dataframe tbody tr th {\n",
       "        vertical-align: top;\n",
       "    }\n",
       "\n",
       "    .dataframe thead th {\n",
       "        text-align: right;\n",
       "    }\n",
       "</style>\n",
       "<table border=\"1\" class=\"dataframe\">\n",
       "  <thead>\n",
       "    <tr style=\"text-align: right;\">\n",
       "      <th></th>\n",
       "      <th>0</th>\n",
       "      <th>1</th>\n",
       "      <th>2</th>\n",
       "    </tr>\n",
       "  </thead>\n",
       "  <tbody>\n",
       "    <tr>\n",
       "      <th>Complaints</th>\n",
       "      <td>I have a phone connection also in this number ...</td>\n",
       "      <td>My internet speed is much slower than what I'm...</td>\n",
       "      <td>I need to just make it a high priority because...</td>\n",
       "    </tr>\n",
       "    <tr>\n",
       "      <th>Department</th>\n",
       "      <td>Technical</td>\n",
       "      <td>Technical</td>\n",
       "      <td>Technical</td>\n",
       "    </tr>\n",
       "  </tbody>\n",
       "</table>\n",
       "</div>"
      ],
      "text/plain": [
       "                                                            0  \\\n",
       "Complaints  I have a phone connection also in this number ...   \n",
       "Department                                          Technical   \n",
       "\n",
       "                                                            1  \\\n",
       "Complaints  My internet speed is much slower than what I'm...   \n",
       "Department                                          Technical   \n",
       "\n",
       "                                                            2  \n",
       "Complaints  I need to just make it a high priority because...  \n",
       "Department                                          Technical  "
      ]
     },
     "execution_count": 5,
     "metadata": {},
     "output_type": "execute_result"
    }
   ],
   "source": [
    "df.head(3).T #Display First 3 lines"
   ]
  },
  {
   "cell_type": "code",
   "execution_count": 6,
   "metadata": {},
   "outputs": [
    {
     "data": {
      "text/plain": [
       "array([['Technical'],\n",
       "       ['Billing'],\n",
       "       ['HR']], dtype=object)"
      ]
     },
     "execution_count": 6,
     "metadata": {},
     "output_type": "execute_result"
    }
   ],
   "source": [
    "pd.DataFrame(df.Department.unique()).values #Get unique values in department column"
   ]
  },
  {
   "cell_type": "code",
   "execution_count": 7,
   "metadata": {},
   "outputs": [
    {
     "data": {
      "text/html": [
       "<div>\n",
       "<style scoped>\n",
       "    .dataframe tbody tr th:only-of-type {\n",
       "        vertical-align: middle;\n",
       "    }\n",
       "\n",
       "    .dataframe tbody tr th {\n",
       "        vertical-align: top;\n",
       "    }\n",
       "\n",
       "    .dataframe thead th {\n",
       "        text-align: right;\n",
       "    }\n",
       "</style>\n",
       "<table border=\"1\" class=\"dataframe\">\n",
       "  <thead>\n",
       "    <tr style=\"text-align: right;\">\n",
       "      <th></th>\n",
       "      <th>Complaints</th>\n",
       "      <th>Department</th>\n",
       "      <th>department_id</th>\n",
       "    </tr>\n",
       "  </thead>\n",
       "  <tbody>\n",
       "    <tr>\n",
       "      <th>378</th>\n",
       "      <td>The representative was unprofessional during o...</td>\n",
       "      <td>HR</td>\n",
       "      <td>0</td>\n",
       "    </tr>\n",
       "    <tr>\n",
       "      <th>165</th>\n",
       "      <td>Is it not possibly a disconnection due to loss...</td>\n",
       "      <td>Billing</td>\n",
       "      <td>1</td>\n",
       "    </tr>\n",
       "    <tr>\n",
       "      <th>17</th>\n",
       "      <td>I frequently travel to a specific area, and th...</td>\n",
       "      <td>Technical</td>\n",
       "      <td>2</td>\n",
       "    </tr>\n",
       "    <tr>\n",
       "      <th>179</th>\n",
       "      <td>There are some fees on my bill that weren't di...</td>\n",
       "      <td>Billing</td>\n",
       "      <td>1</td>\n",
       "    </tr>\n",
       "    <tr>\n",
       "      <th>4</th>\n",
       "      <td>I want to log a complaint that my internet, TV...</td>\n",
       "      <td>Technical</td>\n",
       "      <td>2</td>\n",
       "    </tr>\n",
       "  </tbody>\n",
       "</table>\n",
       "</div>"
      ],
      "text/plain": [
       "                                            Complaints Department  \\\n",
       "378  The representative was unprofessional during o...         HR   \n",
       "165  Is it not possibly a disconnection due to loss...    Billing   \n",
       "17   I frequently travel to a specific area, and th...  Technical   \n",
       "179  There are some fees on my bill that weren't di...    Billing   \n",
       "4    I want to log a complaint that my internet, TV...  Technical   \n",
       "\n",
       "     department_id  \n",
       "378              0  \n",
       "165              1  \n",
       "17               2  \n",
       "179              1  \n",
       "4                2  "
      ]
     },
     "execution_count": 7,
     "metadata": {},
     "output_type": "execute_result"
    }
   ],
   "source": [
    "# Create a new column 'department_id' with encoded Departments\n",
    "df2 = df.sample(420, random_state=1).copy()\n",
    "df2['department_id'] = df2['Department'].factorize()[0]\n",
    "department_id_df = df2[['Department', 'department_id']].drop_duplicates()\n",
    "# Dictionaries for future use\n",
    "department_to_id = dict(department_id_df.values)\n",
    "id_to_department = dict(department_id_df[['department_id', 'Department']].values)\n",
    "# New dataframe\n",
    "df2.head()"
   ]
  },
  {
   "cell_type": "code",
   "execution_count": 8,
   "metadata": {},
   "outputs": [
    {
     "data": {
      "image/png": "[encoded data removed]",
      "text/plain": [
       "<Figure size 800x600 with 1 Axes>"
      ]
     },
     "metadata": {},
     "output_type": "display_data"
    }
   ],
   "source": [
    "#Plot to see number of complaints in each department\n",
    "ig = plt.figure(figsize=(8,6))\n",
    "colors = ['orange','green','darkblue',]\n",
    "df2.groupby('Department').Complaints.count().sort_values().plot.barh(\n",
    "    ylim=0, color=colors, title= 'NUMBER OF COMPLAINTS IN EACH DEPARTMENT')\n",
    "plt.xlabel('Number of ocurrences', fontsize = 10);"
   ]
  },
  {
   "cell_type": "code",
   "execution_count": 9,
   "metadata": {},
   "outputs": [],
   "source": [
    "X = df2['Complaints'] # Collection of documents\n",
    "y = df2['Department'] # Labels we want to predict\n",
    "#Splitting data into training and testing\n",
    "#test_size=0.25 means 25% of data will be using for testing and 75% of data will be used to train the model\n",
    "#random_state = 0 means, when the code is run multiple times, it will get the same split each time\n",
    "X_train, X_test, y_train, y_test = train_test_split(X, y,\n",
    "                                                    test_size=0.25,\n",
    "                                                    random_state = 0)"
   ]
  },
  {
   "cell_type": "code",
   "execution_count": 10,
   "metadata": {},
   "outputs": [
    {
     "data": {
      "text/html": [
       "<div>\n",
       "<style scoped>\n",
       "    .dataframe tbody tr th:only-of-type {\n",
       "        vertical-align: middle;\n",
       "    }\n",
       "\n",
       "    .dataframe tbody tr th {\n",
       "        vertical-align: top;\n",
       "    }\n",
       "\n",
       "    .dataframe thead th {\n",
       "        text-align: right;\n",
       "    }\n",
       "</style>\n",
       "<table border=\"1\" class=\"dataframe\">\n",
       "  <thead>\n",
       "    <tr style=\"text-align: right;\">\n",
       "      <th></th>\n",
       "      <th>model_name</th>\n",
       "      <th>fold_idx</th>\n",
       "      <th>accuracy</th>\n",
       "    </tr>\n",
       "  </thead>\n",
       "  <tbody>\n",
       "    <tr>\n",
       "      <th>0</th>\n",
       "      <td>SVC</td>\n",
       "      <td>0</td>\n",
       "      <td>0.871429</td>\n",
       "    </tr>\n",
       "    <tr>\n",
       "      <th>1</th>\n",
       "      <td>SVC</td>\n",
       "      <td>1</td>\n",
       "      <td>0.957143</td>\n",
       "    </tr>\n",
       "    <tr>\n",
       "      <th>2</th>\n",
       "      <td>SVC</td>\n",
       "      <td>2</td>\n",
       "      <td>0.921429</td>\n",
       "    </tr>\n",
       "  </tbody>\n",
       "</table>\n",
       "</div>"
      ],
      "text/plain": [
       "  model_name  fold_idx  accuracy\n",
       "0        SVC         0  0.871429\n",
       "1        SVC         1  0.957143\n",
       "2        SVC         2  0.921429"
      ]
     },
     "execution_count": 10,
     "metadata": {},
     "output_type": "execute_result"
    }
   ],
   "source": [
    "models = [\n",
    "    SVC(kernel='linear', C=1),\n",
    "\n",
    "]\n",
    "tfidf = TfidfVectorizer(sublinear_tf=True, min_df=5,\n",
    "                        ngram_range=(1, 2),\n",
    "                        stop_words='english')\n",
    "features = tfidf.fit_transform(df2.Complaints).toarray()\n",
    "labels = df2.department_id\n",
    "# 3 Cross-validation\n",
    "CV = 3\n",
    "cv_df = pd.DataFrame(index=range(CV * len(models)))\n",
    "entries = []\n",
    "for model in models:\n",
    "  model_name = model.__class__.__name__\n",
    "  accuracies = cross_val_score(model, features, labels, scoring='accuracy', cv=CV)\n",
    "  for fold_idx, accuracy in enumerate(accuracies):\n",
    "    entries.append((model_name, fold_idx, accuracy))\n",
    "cv_df = pd.DataFrame(entries, columns=['model_name', 'fold_idx', 'accuracy'])\n",
    "cv_df"
   ]
  },
  {
   "cell_type": "code",
   "execution_count": 11,
   "metadata": {},
   "outputs": [
    {
     "data": {
      "image/png": "[encoded data removed]",
      "text/plain": [
       "<Figure size 800x500 with 1 Axes>"
      ]
     },
     "metadata": {},
     "output_type": "display_data"
    }
   ],
   "source": [
    "# Set up the plot with a specific figure size\n",
    "plt.figure(figsize=(8, 5))\n",
    "\n",
    "# Create a boxplot to visualize the distribution of accuracy scores for the single model\n",
    "sns.boxplot(x='model_name', y='accuracy',\n",
    "            data=cv_df,\n",
    "            color='lightblue',  # Set the color of the boxes\n",
    "            showmeans=True)    # Display the mean value as a diamond marker\n",
    "\n",
    "# Add a title to the plot\n",
    "plt.title(\"MEAN ACCURACY (cv = 3)\", size=14)\n",
    "\n",
    "# Display the plot\n",
    "plt.show()\n"
   ]
  },
  {
   "cell_type": "code",
   "execution_count": 12,
   "metadata": {},
   "outputs": [],
   "source": [
    "# Split the data into training and testing sets\n",
    "# The third argument (df2.index) represents the indices of the original DataFrame\n",
    "X_train, X_test, y_train, y_test, indices_train, indices_test = train_test_split(features,\n",
    "                                                                               labels,\n",
    "                                                                               df2.index,\n",
    "                                                                               test_size=0.25,\n",
    "                                                                               random_state=1)\n",
    "\n",
    "# Create a SVM with specific parameters\n",
    "model = SVC(kernel='linear', C=1)\n",
    "\n",
    "# Train the model on the training data\n",
    "model.fit(X_train, y_train)\n",
    "\n",
    "# Make predictions on the test data\n",
    "y_pred = model.predict(X_test)\n"
   ]
  },
  {
   "cell_type": "code",
   "execution_count": 13,
   "metadata": {},
   "outputs": [
    {
     "name": "stdout",
     "output_type": "stream",
     "text": [
      "CLASSIFICATIION METRICS\n",
      "              precision    recall  f1-score   support\n",
      "\n",
      "          HR       0.88      0.97      0.92        30\n",
      "     Billing       1.00      0.79      0.88        38\n",
      "   Technical       0.88      1.00      0.94        37\n",
      "\n",
      "    accuracy                           0.91       105\n",
      "   macro avg       0.92      0.92      0.91       105\n",
      "weighted avg       0.92      0.91      0.91       105\n",
      "\n"
     ]
    }
   ],
   "source": [
    "# Classification report\n",
    "print('CLASSIFICATIION METRICS')\n",
    "print(metrics.classification_report(y_test, y_pred,\n",
    "                                    target_names= df2['Department'].unique()))"
   ]
  },
  {
   "cell_type": "code",
   "execution_count": 15,
   "metadata": {},
   "outputs": [],
   "source": [
    "# Split the data into training and testing sets\n",
    "X_train, X_test, y_train, y_test = train_test_split(X, y,\n",
    "                                                    test_size=0.25,\n",
    "                                                    random_state=0)\n",
    "\n",
    "# Create a TF-IDF vectorizer with specific parameters\n",
    "tfidf = TfidfVectorizer(sublinear_tf=True, min_df=5,\n",
    "                        ngram_range=(1, 2),\n",
    "                        stop_words='english')\n",
    "\n",
    "# Fit the vectorizer on the training data\n",
    "fitted_vectorizer = tfidf.fit(X_train)\n",
    "\n",
    "# Transform the training data into TF-IDF vectors\n",
    "tfidf_vectorizer_vectors = fitted_vectorizer.transform(X_train)\n",
    "\n",
    "# Create a SVM with specific parameters and fit it on the TF-IDF vectors and corresponding labels\n",
    "model = SVC(kernel='linear', C=1).fit(tfidf_vectorizer_vectors, y_train)\n"
   ]
  },
  {
   "cell_type": "code",
   "execution_count": 16,
   "metadata": {},
   "outputs": [
    {
     "name": "stdout",
     "output_type": "stream",
     "text": [
      "Billing\n"
     ]
    }
   ],
   "source": [
    "complaint = \"\"\"I need to know the balance of my bill\"\"\"\n",
    "prediction = model.predict(fitted_vectorizer.transform([complaint]))[0]\n",
    "\n",
    "print(prediction)\n"
   ]
  },
  {
   "cell_type": "code",
   "execution_count": 17,
   "metadata": {},
   "outputs": [
    {
     "name": "stdout",
     "output_type": "stream",
     "text": [
      "HR\n"
     ]
    }
   ],
   "source": [
    "complaint = \"\"\"One of your agent was so rude to me\"\"\"\n",
    "prediction = model.predict(fitted_vectorizer.transform([complaint]))[0]\n",
    "\n",
    "print(prediction)"
   ]
  },
  {
   "cell_type": "code",
   "execution_count": 18,
   "metadata": {},
   "outputs": [
    {
     "name": "stdout",
     "output_type": "stream",
     "text": [
      "Technical\n"
     ]
    }
   ],
   "source": [
    "complaint = \"\"\"My data is not working and i can't send messages\"\"\"\n",
    "prediction = model.predict(fitted_vectorizer.transform([complaint]))[0]\n",
    "\n",
    "print(prediction)"
   ]
  },
  {
   "cell_type": "code",
   "execution_count": 19,
   "metadata": {},
   "outputs": [
    {
     "name": "stdout",
     "output_type": "stream",
     "text": [
      "HR\n"
     ]
    }
   ],
   "source": [
    "complaint = \"\"\"Previous agent ignored my call and didn't gave me a proper response\"\"\"\n",
    "prediction = model.predict(fitted_vectorizer.transform([complaint]))[0]\n",
    "\n",
    "print(prediction)"
   ]
  },
  {
   "cell_type": "code",
   "execution_count": 20,
   "metadata": {},
   "outputs": [
    {
     "name": "stdout",
     "output_type": "stream",
     "text": [
      "Billing\n"
     ]
    }
   ],
   "source": [
    "complaint = \"\"\"I was billed for a service i cancelled last year\"\"\"\n",
    "prediction = model.predict(fitted_vectorizer.transform([complaint]))[0]\n",
    "\n",
    "print(prediction)"
   ]
  },
  {
   "cell_type": "code",
   "execution_count": 21,
   "metadata": {},
   "outputs": [
    {
     "name": "stdout",
     "output_type": "stream",
     "text": [
      "Billing\n"
     ]
    }
   ],
   "source": [
    "complaint = \"\"\"There have been consistent discrepancies in the charges reflected on my monthly statements.\n",
    "Despite selecting a specific plan with clearly defined costs, I have noticed unauthorized fees and unexplained increases in my bills.\n",
    "This lack of transparency has left me frustrated and confused about the actual charges for the services I am receiving.\"\"\"\n",
    "prediction = model.predict(fitted_vectorizer.transform([complaint]))[0]\n",
    "\n",
    "print(prediction)"
   ]
  },
  {
   "cell_type": "code",
   "execution_count": 22,
   "metadata": {},
   "outputs": [
    {
     "name": "stdout",
     "output_type": "stream",
     "text": [
      "HR\n"
     ]
    }
   ],
   "source": [
    "complaint = \"\"\"The customer service agent I spoke to demonstrated\n",
    "a complete lack of empathy towards my concerns. Instead of actively listening\n",
    "and understanding the issue, the agent seemed disinterested and indifferent.\"\"\"\n",
    "prediction = model.predict(fitted_vectorizer.transform([complaint]))[0]\n",
    "\n",
    "print(prediction)"
   ]
  },
  {
   "cell_type": "code",
   "execution_count": 23,
   "metadata": {},
   "outputs": [
    {
     "name": "stdout",
     "output_type": "stream",
     "text": [
      "Technical\n"
     ]
    }
   ],
   "source": [
    "complaint = \"\"\"Despite numerous attempts to troubleshoot the problem on my end, including resetting the router, checking for software updates,\n",
    "and ensuring proper device configurations, the WiFi connection remains unstable and frequently disconnects. This has severely impacted my ability to work,\n",
    "engage in online meetings, and enjoy a seamless internet experience.\"\"\"\n",
    "prediction = model.predict(fitted_vectorizer.transform([complaint]))[0]\n",
    "\n",
    "print(prediction)"
   ]
  }
 ],
 "metadata": {
  "kernelspec": {
   "display_name": ".venv",
   "language": "python",
   "name": "python3"
  },
  "language_info": {
   "codemirror_mode": {
    "name": "ipython",
    "version": 3
   },
   "file_extension": ".py",
   "mimetype": "text/x-python",
   "name": "python",
   "nbconvert_exporter": "python",
   "pygments_lexer": "ipython3",
   "version": "3.12.0"
  }
 },
 "nbformat": 4,
 "nbformat_minor": 2
}
