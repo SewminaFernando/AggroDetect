{
 "cells": [
  {
   "cell_type": "code",
   "execution_count": 14,
   "metadata": {},
   "outputs": [],
   "source": [
    "import tensorflow as tf\n",
    "import librosa\n",
    "import numpy as np\n",
    "import pickle"
   ]
  },
  {
   "cell_type": "code",
   "execution_count": 15,
   "metadata": {},
   "outputs": [],
   "source": [
    "model = tf.keras.models.load_model('Models//cnn_model_2.h5')"
   ]
  },
  {
   "cell_type": "code",
   "execution_count": 16,
   "metadata": {},
   "outputs": [
    {
     "name": "stdout",
     "output_type": "stream",
     "text": [
      "Model: \"sequential\"\n",
      "_________________________________________________________________\n",
      " Layer (type)                Output Shape              Param #   \n",
      "=================================================================\n",
      " conv1d (Conv1D)             (None, 13, 128)           768       \n",
      "                                                                 \n",
      " activation (Activation)     (None, 13, 128)           0         \n",
      "                                                                 \n",
      " conv1d_1 (Conv1D)           (None, 13, 128)           82048     \n",
      "                                                                 \n",
      " activation_1 (Activation)   (None, 13, 128)           0         \n",
      "                                                                 \n",
      " dropout (Dropout)           (None, 13, 128)           0         \n",
      "                                                                 \n",
      " max_pooling1d (MaxPooling1  (None, 1, 128)            0         \n",
      " D)                                                              \n",
      "                                                                 \n",
      " conv1d_2 (Conv1D)           (None, 1, 128)            82048     \n",
      "                                                                 \n",
      " activation_2 (Activation)   (None, 1, 128)            0         \n",
      "                                                                 \n",
      " conv1d_3 (Conv1D)           (None, 1, 128)            82048     \n",
      "                                                                 \n",
      " activation_3 (Activation)   (None, 1, 128)            0         \n",
      "                                                                 \n",
      " dropout_1 (Dropout)         (None, 1, 128)            0         \n",
      "                                                                 \n",
      " conv1d_4 (Conv1D)           (None, 1, 128)            82048     \n",
      "                                                                 \n",
      " flatten (Flatten)           (None, 128)               0         \n",
      "                                                                 \n",
      " dense (Dense)               (None, 1)                 129       \n",
      "                                                                 \n",
      " activation_4 (Activation)   (None, 1)                 0         \n",
      "                                                                 \n",
      "=================================================================\n",
      "Total params: 329089 (1.26 MB)\n",
      "Trainable params: 329089 (1.26 MB)\n",
      "Non-trainable params: 0 (0.00 Byte)\n",
      "_________________________________________________________________\n"
     ]
    }
   ],
   "source": [
    "model.summary()"
   ]
  },
  {
   "cell_type": "code",
   "execution_count": 17,
   "metadata": {},
   "outputs": [],
   "source": [
    "def extract_mfcc(signal, sample_rate=22050, n_mfcc=13, n_fft=2048, hop_length=512):\n",
    "    mfccs = librosa.feature.mfcc(y=signal, sr=sample_rate, n_mfcc=n_mfcc, n_fft=n_fft, hop_length=hop_length)\n",
    "    return np.mean(mfccs.T, axis=0)"
   ]
  },
  {
   "cell_type": "code",
   "execution_count": 18,
   "metadata": {},
   "outputs": [],
   "source": [
    "with open('Models//scaler_2.pickle', 'rb') as f:\n",
    "    sc = pickle.load(f)"
   ]
  },
  {
   "cell_type": "code",
   "execution_count": 29,
   "metadata": {},
   "outputs": [
    {
     "name": "stdout",
     "output_type": "stream",
     "text": [
      "1/1 [==============================] - 0s 27ms/step\n"
     ]
    },
    {
     "data": {
      "text/plain": [
       "'Non-Aggressive'"
      ]
     },
     "execution_count": 29,
     "metadata": {},
     "output_type": "execute_result"
    }
   ],
   "source": [
    "signal, sample_rate = librosa.load(\"denoised__non_agg_audio.wav\", sr=22050)\n",
    "\n",
    "features = extract_mfcc(signal)\n",
    "# Scale data\n",
    "features = sc.transform(features.reshape(1,-1))\n",
    "features = np.expand_dims(features, axis=2)\n",
    "\n",
    "[\"Aggressive\" if model.predict(features)[0][0] > 0.9 else \"Non-Aggressive\"][0]"
   ]
  },
  {
   "cell_type": "code",
   "execution_count": 30,
   "metadata": {},
   "outputs": [
    {
     "name": "stdout",
     "output_type": "stream",
     "text": [
      "1/1 [==============================] - 0s 19ms/step\n"
     ]
    },
    {
     "data": {
      "text/plain": [
       "'Aggressive'"
      ]
     },
     "execution_count": 30,
     "metadata": {},
     "output_type": "execute_result"
    }
   ],
   "source": [
    "signal, sample_rate = librosa.load(\"denoised__agg_audio.wav\", sr=22050)\n",
    "\n",
    "features = extract_mfcc(signal)\n",
    "# Scale data\n",
    "features = sc.transform(features.reshape(1,-1))\n",
    "features = np.expand_dims(features, axis=2)\n",
    "\n",
    "[\"Aggressive\" if model.predict(features)[0][0] > 0.9 else \"Non-Aggressive\"][0]"
   ]
  },
  {
   "cell_type": "code",
   "execution_count": null,
   "metadata": {},
   "outputs": [],
   "source": []
  }
 ],
 "metadata": {
  "kernelspec": {
   "display_name": ".venv",
   "language": "python",
   "name": "python3"
  },
  "language_info": {
   "codemirror_mode": {
    "name": "ipython",
    "version": 3
   },
   "file_extension": ".py",
   "mimetype": "text/x-python",
   "name": "python",
   "nbconvert_exporter": "python",
   "pygments_lexer": "ipython3",
   "version": "3.10.2"
  }
 },
 "nbformat": 4,
 "nbformat_minor": 2
}
