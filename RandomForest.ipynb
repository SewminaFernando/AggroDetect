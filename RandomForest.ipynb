{
 "cells": [
  {
   "cell_type": "code",
   "execution_count": 1,
   "metadata": {},
   "outputs": [
    {
     "name": "stderr",
     "output_type": "stream",
     "text": [
      "C:\\Users\\Pehansi Karunaratne\\AppData\\Local\\Temp\\ipykernel_6148\\4214698320.py:2: DeprecationWarning: \n",
      "Pyarrow will become a required dependency of pandas in the next major release of pandas (pandas 3.0),\n",
      "(to allow more performant data types, such as the Arrow string type, and better interoperability with other libraries)\n",
      "but was not found to be installed on your system.\n",
      "If this would cause problems for you,\n",
      "please provide us feedback at https://github.com/pandas-dev/pandas/issues/54466\n",
      "        \n",
      "  import pandas as pd\n"
     ]
    }
   ],
   "source": [
    "# Import Libraries\n",
    "import pandas as pd\n",
    "import numpy as np\n",
    "import seaborn as sns # used for plot interactive graph.\n",
    "import matplotlib.pyplot as plt\n",
    "import seaborn as sns\n",
    "from sklearn.feature_extraction.text import TfidfVectorizer\n",
    "from sklearn.model_selection import train_test_split\n",
    "from sklearn.feature_extraction.text import TfidfTransformer\n",
    "from sklearn.ensemble import RandomForestClassifier\n",
    "from sklearn.model_selection import cross_val_score\n",
    "from sklearn.metrics import confusion_matrix\n",
    "from sklearn import metrics\n",
    "from sklearn.model_selection import GridSearchCV"
   ]
  },
  {
   "cell_type": "code",
   "execution_count": 2,
   "metadata": {},
   "outputs": [
    {
     "name": "stdout",
     "output_type": "stream",
     "text": [
      "(420, 2)\n"
     ]
    }
   ],
   "source": [
    "# Loading data\n",
    "df = pd.read_csv('Datasets/balanced_augmented_NewDepartments_dataset.csv')\n",
    "print(df.shape)"
   ]
  },
  {
   "cell_type": "code",
   "execution_count": 3,
   "metadata": {},
   "outputs": [
    {
     "data": {
      "text/html": [
       "<div>\n",
       "<style scoped>\n",
       "    .dataframe tbody tr th:only-of-type {\n",
       "        vertical-align: middle;\n",
       "    }\n",
       "\n",
       "    .dataframe tbody tr th {\n",
       "        vertical-align: top;\n",
       "    }\n",
       "\n",
       "    .dataframe thead th {\n",
       "        text-align: right;\n",
       "    }\n",
       "</style>\n",
       "<table border=\"1\" class=\"dataframe\">\n",
       "  <thead>\n",
       "    <tr style=\"text-align: right;\">\n",
       "      <th></th>\n",
       "      <th>0</th>\n",
       "      <th>1</th>\n",
       "      <th>2</th>\n",
       "    </tr>\n",
       "  </thead>\n",
       "  <tbody>\n",
       "    <tr>\n",
       "      <th>Complaints</th>\n",
       "      <td>I have a phone connection also in this number ...</td>\n",
       "      <td>My internet speed is much slower than what I'm...</td>\n",
       "      <td>I need to just make it a high priority because...</td>\n",
       "    </tr>\n",
       "    <tr>\n",
       "      <th>Department</th>\n",
       "      <td>Technical</td>\n",
       "      <td>Technical</td>\n",
       "      <td>Technical</td>\n",
       "    </tr>\n",
       "  </tbody>\n",
       "</table>\n",
       "</div>"
      ],
      "text/plain": [
       "                                                            0  \\\n",
       "Complaints  I have a phone connection also in this number ...   \n",
       "Department                                          Technical   \n",
       "\n",
       "                                                            1  \\\n",
       "Complaints  My internet speed is much slower than what I'm...   \n",
       "Department                                          Technical   \n",
       "\n",
       "                                                            2  \n",
       "Complaints  I need to just make it a high priority because...  \n",
       "Department                                          Technical  "
      ]
     },
     "execution_count": 3,
     "metadata": {},
     "output_type": "execute_result"
    }
   ],
   "source": [
    "df.head(3).T #Display First 3 lines"
   ]
  },
  {
   "cell_type": "code",
   "execution_count": 4,
   "metadata": {},
   "outputs": [
    {
     "data": {
      "text/plain": [
       "array([['Technical'],\n",
       "       ['Billing'],\n",
       "       ['HR']], dtype=object)"
      ]
     },
     "execution_count": 4,
     "metadata": {},
     "output_type": "execute_result"
    }
   ],
   "source": [
    "pd.DataFrame(df.Department.unique()).values #Get unique values in department column"
   ]
  },
  {
   "cell_type": "code",
   "execution_count": 5,
   "metadata": {},
   "outputs": [
    {
     "data": {
      "text/html": [
       "<div>\n",
       "<style scoped>\n",
       "    .dataframe tbody tr th:only-of-type {\n",
       "        vertical-align: middle;\n",
       "    }\n",
       "\n",
       "    .dataframe tbody tr th {\n",
       "        vertical-align: top;\n",
       "    }\n",
       "\n",
       "    .dataframe thead th {\n",
       "        text-align: right;\n",
       "    }\n",
       "</style>\n",
       "<table border=\"1\" class=\"dataframe\">\n",
       "  <thead>\n",
       "    <tr style=\"text-align: right;\">\n",
       "      <th></th>\n",
       "      <th>Complaints</th>\n",
       "      <th>Department</th>\n",
       "      <th>department_id</th>\n",
       "    </tr>\n",
       "  </thead>\n",
       "  <tbody>\n",
       "    <tr>\n",
       "      <th>378</th>\n",
       "      <td>The representative was unprofessional during o...</td>\n",
       "      <td>HR</td>\n",
       "      <td>0</td>\n",
       "    </tr>\n",
       "    <tr>\n",
       "      <th>165</th>\n",
       "      <td>Is it not possibly a disconnection due to loss...</td>\n",
       "      <td>Billing</td>\n",
       "      <td>1</td>\n",
       "    </tr>\n",
       "    <tr>\n",
       "      <th>17</th>\n",
       "      <td>I frequently travel to a specific area, and th...</td>\n",
       "      <td>Technical</td>\n",
       "      <td>2</td>\n",
       "    </tr>\n",
       "    <tr>\n",
       "      <th>179</th>\n",
       "      <td>There are some fees on my bill that weren't di...</td>\n",
       "      <td>Billing</td>\n",
       "      <td>1</td>\n",
       "    </tr>\n",
       "    <tr>\n",
       "      <th>4</th>\n",
       "      <td>I want to log a complaint that my internet, TV...</td>\n",
       "      <td>Technical</td>\n",
       "      <td>2</td>\n",
       "    </tr>\n",
       "  </tbody>\n",
       "</table>\n",
       "</div>"
      ],
      "text/plain": [
       "                                            Complaints Department  \\\n",
       "378  The representative was unprofessional during o...         HR   \n",
       "165  Is it not possibly a disconnection due to loss...    Billing   \n",
       "17   I frequently travel to a specific area, and th...  Technical   \n",
       "179  There are some fees on my bill that weren't di...    Billing   \n",
       "4    I want to log a complaint that my internet, TV...  Technical   \n",
       "\n",
       "     department_id  \n",
       "378              0  \n",
       "165              1  \n",
       "17               2  \n",
       "179              1  \n",
       "4                2  "
      ]
     },
     "execution_count": 5,
     "metadata": {},
     "output_type": "execute_result"
    }
   ],
   "source": [
    "# Create a new column 'department_id' with encoded Departments\n",
    "df2 = df.sample(420, random_state=1).copy()\n",
    "df2['department_id'] = df2['Department'].factorize()[0]\n",
    "department_id_df = df2[['Department', 'department_id']].drop_duplicates()\n",
    "# Dictionaries for future use\n",
    "department_to_id = dict(department_id_df.values)\n",
    "id_to_department = dict(department_id_df[['department_id', 'Department']].values)\n",
    "# New dataframe\n",
    "df2.head()"
   ]
  },
  {
   "cell_type": "code",
   "execution_count": 6,
   "metadata": {},
   "outputs": [
    {
     "data": {
      "image/png": "[encoded data removed]",
      "text/plain": [
       "<Figure size 800x600 with 1 Axes>"
      ]
     },
     "metadata": {},
     "output_type": "display_data"
    }
   ],
   "source": [
    "#Plot to see number of complaints in each department\n",
    "ig = plt.figure(figsize=(8,6))\n",
    "colors = ['orange','green','darkblue',]\n",
    "df2.groupby('Department').Complaints.count().sort_values().plot.barh(\n",
    "    ylim=0, color=colors, title= 'NUMBER OF COMPLAINTS IN EACH DEPARTMENT')\n",
    "plt.xlabel('Number of ocurrences', fontsize = 10);"
   ]
  },
  {
   "cell_type": "code",
   "execution_count": 7,
   "metadata": {},
   "outputs": [],
   "source": [
    "# Define features and labels\n",
    "features = df2['Complaints']\n",
    "labels = df2['department_id']\n",
    "\n",
    "# TF-IDF vectorization\n",
    "tfidf = TfidfVectorizer(sublinear_tf=True, min_df=5, ngram_range=(1, 2), stop_words='english')\n",
    "features_tfidf = tfidf.fit_transform(features).toarray()"
   ]
  },
  {
   "cell_type": "code",
   "execution_count": 8,
   "metadata": {},
   "outputs": [
    {
     "name": "stdout",
     "output_type": "stream",
     "text": [
      "Model: RandomForestClassifier, Accuracy: 0.8809523809523809\n"
     ]
    }
   ],
   "source": [
    "# Model selection without cross-validation\n",
    "model = RandomForestClassifier(n_estimators=100, max_depth=5, random_state=0)\n",
    "\n",
    "# Fit the model directly on the entire dataset\n",
    "model.fit(features_tfidf, labels)\n",
    "\n",
    "# Calculate accuracy on the entire dataset (you might want to use a separate test set)\n",
    "accuracy = model.score(features_tfidf, labels)\n",
    "\n",
    "# Display result without cross-validation\n",
    "print(f\"Model: {model.__class__.__name__}, Accuracy: {accuracy}\")\n"
   ]
  },
  {
   "cell_type": "code",
   "execution_count": 18,
   "metadata": {},
   "outputs": [
    {
     "name": "stdout",
     "output_type": "stream",
     "text": [
      "Best Parameters:  {'max_depth': None, 'min_samples_leaf': 1, 'min_samples_split': 10, 'n_estimators': 150}\n",
      "Best Accuracy:  0.8999999999999999\n"
     ]
    }
   ],
   "source": [
    "# Grid Search\n",
    "param_grid = {\n",
    "    'n_estimators': [50, 100, 150],\n",
    "    'max_depth': [None, 10, 20],\n",
    "    'min_samples_split': [2, 5, 10],\n",
    "    'min_samples_leaf': [1, 2, 4],\n",
    "}\n",
    "grid_search = GridSearchCV(estimator=model, param_grid=param_grid, scoring='accuracy', cv=2)\n",
    "grid_search.fit(features_tfidf, labels)\n",
    "\n",
    "# Display best parameters and accuracy from grid search\n",
    "print(\"Best Parameters: \", grid_search.best_params_)\n",
    "print(\"Best Accuracy: \", grid_search.best_score_)"
   ]
  },
  {
   "cell_type": "code",
   "execution_count": 34,
   "metadata": {},
   "outputs": [
    {
     "data": {
      "image/png": "[encoded data removed]",
      "text/plain": [
       "<Figure size 1000x600 with 1 Axes>"
      ]
     },
     "metadata": {},
     "output_type": "display_data"
    }
   ],
   "source": [
    "# Plotting\n",
    "cv_results = grid_search.cv_results_\n",
    "model_name = model.__class__.__name__\n",
    "cv_results['model_name'] = model_name\n",
    "\n",
    "plt.figure(figsize=(10, 6))\n",
    "sns.boxplot(x='model_name', y='mean_test_score', data=cv_results, color='lightblue', showmeans=True)\n",
    "plt.title(\"MEAN ACCURACY (cv = 2) - Random Forest with Grid Search\", size=14)\n",
    "plt.show()"
   ]
  },
  {
   "cell_type": "code",
   "execution_count": 23,
   "metadata": {},
   "outputs": [],
   "source": [
    "# Train the best model on the entire dataset\n",
    "best_rf_model = RandomForestClassifier(max_depth = None, min_samples_leaf = 1, min_samples_split = 10, n_estimators = 150)\n",
    "\n",
    "# Split the data into training and testing sets\n",
    "X_train, X_test, y_train, y_test = train_test_split(features_tfidf, labels, test_size=0.30, random_state=42)\n",
    "\n",
    "# Train the model on the training data\n",
    "best_rf_model.fit(X_train, y_train)\n",
    "\n",
    "# Make predictions on the test data\n",
    "y_pred = best_rf_model.predict(X_test)"
   ]
  },
  {
   "cell_type": "code",
   "execution_count": 24,
   "metadata": {},
   "outputs": [
    {
     "name": "stdout",
     "output_type": "stream",
     "text": [
      "\n",
      "CLASSIFICATION METRICS\n",
      "              precision    recall  f1-score   support\n",
      "\n",
      "          HR       0.88      0.98      0.92        44\n",
      "     Billing       0.97      0.88      0.92        41\n",
      "   Technical       0.95      0.93      0.94        41\n",
      "\n",
      "    accuracy                           0.93       126\n",
      "   macro avg       0.93      0.93      0.93       126\n",
      "weighted avg       0.93      0.93      0.93       126\n",
      "\n"
     ]
    }
   ],
   "source": [
    "# Classification report\n",
    "print('\\nCLASSIFICATION METRICS')\n",
    "print(metrics.classification_report(y_test, y_pred, target_names=df2['Department'].unique()))"
   ]
  },
  {
   "cell_type": "code",
   "execution_count": 35,
   "metadata": {},
   "outputs": [
    {
     "name": "stdout",
     "output_type": "stream",
     "text": [
      "Billing\n"
     ]
    }
   ],
   "source": [
    "complaint = \"\"\"I need charges in my bill\"\"\"\n",
    "\n",
    "# Transform the new complaint using the same TF-IDF vectorizer\n",
    "complaint_tfidf = tfidf.transform([complaint]).toarray()\n",
    "\n",
    "# Make predictions using the best_rf_model\n",
    "prediction_id = best_rf_model.predict(complaint_tfidf)\n",
    "\n",
    "# Inverse transform the predicted label to get the department name\n",
    "prediction_name = id_to_department[prediction_id[0]]\n",
    "\n",
    "print(prediction_name)\n"
   ]
  },
  {
   "cell_type": "code",
   "execution_count": 36,
   "metadata": {},
   "outputs": [
    {
     "name": "stdout",
     "output_type": "stream",
     "text": [
      "HR\n"
     ]
    }
   ],
   "source": [
    "complaint = \"\"\"One of your agent was so rude to me\"\"\"\n",
    "# Transform the new complaint using the same TF-IDF vectorizer\n",
    "complaint_tfidf = tfidf.transform([complaint]).toarray()\n",
    "\n",
    "# Make predictions using the best_rf_model\n",
    "prediction_id = best_rf_model.predict(complaint_tfidf)\n",
    "\n",
    "# Inverse transform the predicted label to get the department name\n",
    "prediction_name = id_to_department[prediction_id[0]]\n",
    "\n",
    "print(prediction_name)\n"
   ]
  },
  {
   "cell_type": "code",
   "execution_count": 37,
   "metadata": {},
   "outputs": [
    {
     "name": "stdout",
     "output_type": "stream",
     "text": [
      "Billing\n"
     ]
    }
   ],
   "source": [
    "complaint = \"\"\"I was billed for a service i cancelled last year\"\"\"\n",
    "# Transform the new complaint using the same TF-IDF vectorizer\n",
    "complaint_tfidf = tfidf.transform([complaint]).toarray()\n",
    "\n",
    "# Make predictions using the best_rf_model\n",
    "prediction_id = best_rf_model.predict(complaint_tfidf)\n",
    "\n",
    "# Inverse transform the predicted label to get the department name\n",
    "prediction_name = id_to_department[prediction_id[0]]\n",
    "\n",
    "print(prediction_name)\n"
   ]
  },
  {
   "cell_type": "code",
   "execution_count": 38,
   "metadata": {},
   "outputs": [
    {
     "name": "stdout",
     "output_type": "stream",
     "text": [
      "Technical\n"
     ]
    }
   ],
   "source": [
    "complaint = \"\"\"My data is not working and i can't send messages\"\"\"\n",
    "# Transform the new complaint using the same TF-IDF vectorizer\n",
    "complaint_tfidf = tfidf.transform([complaint]).toarray()\n",
    "\n",
    "# Make predictions using the best_rf_model\n",
    "prediction_id = best_rf_model.predict(complaint_tfidf)\n",
    "\n",
    "# Inverse transform the predicted label to get the department name\n",
    "prediction_name = id_to_department[prediction_id[0]]\n",
    "\n",
    "print(prediction_name)\n"
   ]
  },
  {
   "cell_type": "code",
   "execution_count": 39,
   "metadata": {},
   "outputs": [
    {
     "name": "stdout",
     "output_type": "stream",
     "text": [
      "HR\n"
     ]
    }
   ],
   "source": [
    "complaint = \"\"\"Previous agent ignored my call and didn't gave me a proper response\"\"\"\n",
    "# Transform the new complaint using the same TF-IDF vectorizer\n",
    "complaint_tfidf = tfidf.transform([complaint]).toarray()\n",
    "\n",
    "# Make predictions using the best_rf_model\n",
    "prediction_id = best_rf_model.predict(complaint_tfidf)\n",
    "\n",
    "# Inverse transform the predicted label to get the department name\n",
    "prediction_name = id_to_department[prediction_id[0]]\n",
    "\n",
    "print(prediction_name)\n"
   ]
  },
  {
   "cell_type": "code",
   "execution_count": 40,
   "metadata": {},
   "outputs": [
    {
     "name": "stdout",
     "output_type": "stream",
     "text": [
      "Billing\n"
     ]
    }
   ],
   "source": [
    "complaint = \"\"\"There have been consistent discrepancies in the charges reflected on my monthly statements.\n",
    "Despite selecting a specific plan with clearly defined costs, I have noticed unauthorized fees and unexplained increases in my bills.\n",
    "This lack of transparency has left me frustrated and confused about the actual charges for the services I am receiving.\"\"\"\n",
    "# Transform the new complaint using the same TF-IDF vectorizer\n",
    "complaint_tfidf = tfidf.transform([complaint]).toarray()\n",
    "\n",
    "# Make predictions using the best_rf_model\n",
    "prediction_id = best_rf_model.predict(complaint_tfidf)\n",
    "\n",
    "# Inverse transform the predicted label to get the department name\n",
    "prediction_name = id_to_department[prediction_id[0]]\n",
    "\n",
    "print(prediction_name)\n"
   ]
  },
  {
   "cell_type": "code",
   "execution_count": 41,
   "metadata": {},
   "outputs": [
    {
     "name": "stdout",
     "output_type": "stream",
     "text": [
      "HR\n"
     ]
    }
   ],
   "source": [
    "complaint = \"\"\"The customer service agent I spoke to demonstrated\n",
    "a complete lack of empathy towards my concerns. Instead of actively listening\n",
    "and understanding the issue, the agent seemed disinterested and indifferent.\"\"\"\n",
    "\n",
    "# Transform the new complaint using the same TF-IDF vectorizer\n",
    "complaint_tfidf = tfidf.transform([complaint]).toarray()\n",
    "\n",
    "# Make predictions using the best_rf_model\n",
    "prediction_id = best_rf_model.predict(complaint_tfidf)\n",
    "\n",
    "# Inverse transform the predicted label to get the department name\n",
    "prediction_name = id_to_department[prediction_id[0]]\n",
    "\n",
    "print(prediction_name)\n"
   ]
  },
  {
   "cell_type": "code",
   "execution_count": 42,
   "metadata": {},
   "outputs": [
    {
     "name": "stdout",
     "output_type": "stream",
     "text": [
      "Technical\n"
     ]
    }
   ],
   "source": [
    "complaint = \"\"\"Despite numerous attempts to troubleshoot the problem on my end, including resetting the router, checking for software updates,\n",
    "and ensuring proper device configurations, the WiFi connection remains unstable and frequently disconnects. This has severely impacted my ability to work,\n",
    "engage in online meetings, and enjoy a seamless internet experience.\"\"\"\n",
    "# Transform the new complaint using the same TF-IDF vectorizer\n",
    "complaint_tfidf = tfidf.transform([complaint]).toarray()\n",
    "\n",
    "# Make predictions using the best_rf_model\n",
    "prediction_id = best_rf_model.predict(complaint_tfidf)\n",
    "\n",
    "# Inverse transform the predicted label to get the department name\n",
    "prediction_name = id_to_department[prediction_id[0]]\n",
    "\n",
    "print(prediction_name)\n"
   ]
  },
  {
   "cell_type": "code",
   "execution_count": 43,
   "metadata": {},
   "outputs": [],
   "source": [
    "# Saving the Model\n",
    "import pickle\n",
    "pickle.dump(best_rf_model,open('Models/RandomForestModel','wb'))"
   ]
  }
 ],
 "metadata": {
  "kernelspec": {
   "display_name": ".venv",
   "language": "python",
   "name": "python3"
  },
  "language_info": {
   "codemirror_mode": {
    "name": "ipython",
    "version": 3
   },
   "file_extension": ".py",
   "mimetype": "text/x-python",
   "name": "python",
   "nbconvert_exporter": "python",
   "pygments_lexer": "ipython3",
   "version": "3.12.0"
  }
 },
 "nbformat": 4,
 "nbformat_minor": 2
}
