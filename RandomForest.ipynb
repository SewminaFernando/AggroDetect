{
 "cells": [
  {
   "cell_type": "code",
   "execution_count": 41,
   "metadata": {},
   "outputs": [],
   "source": [
    "# Import Libraries\n",
    "import pandas as pd\n",
    "import matplotlib.pyplot as plt\n",
    "import seaborn as sns\n",
    "from sklearn.feature_extraction.text import TfidfVectorizer\n",
    "from sklearn.model_selection import train_test_split\n",
    "from sklearn.ensemble import RandomForestClassifier\n",
    "from sklearn.metrics import confusion_matrix\n",
    "from sklearn import metrics\n",
    "from sklearn.model_selection import GridSearchCV\n",
    "import pickle"
   ]
  },
  {
   "cell_type": "code",
   "execution_count": 42,
   "metadata": {},
   "outputs": [
    {
     "data": {
      "text/plain": [
       "'1.1.3'"
      ]
     },
     "execution_count": 42,
     "metadata": {},
     "output_type": "execute_result"
    }
   ],
   "source": [
    "import sklearn\n",
    "sklearn.__version__"
   ]
  },
  {
   "cell_type": "code",
   "execution_count": 43,
   "metadata": {},
   "outputs": [
    {
     "data": {
      "text/html": [
       "<div>\n",
       "<style scoped>\n",
       "    .dataframe tbody tr th:only-of-type {\n",
       "        vertical-align: middle;\n",
       "    }\n",
       "\n",
       "    .dataframe tbody tr th {\n",
       "        vertical-align: top;\n",
       "    }\n",
       "\n",
       "    .dataframe thead th {\n",
       "        text-align: right;\n",
       "    }\n",
       "</style>\n",
       "<table border=\"1\" class=\"dataframe\">\n",
       "  <thead>\n",
       "    <tr style=\"text-align: right;\">\n",
       "      <th></th>\n",
       "      <th>Complaints</th>\n",
       "      <th>Department</th>\n",
       "    </tr>\n",
       "  </thead>\n",
       "  <tbody>\n",
       "    <tr>\n",
       "      <th>0</th>\n",
       "      <td>In the router there is a LOS bulb which is bli...</td>\n",
       "      <td>Technical</td>\n",
       "    </tr>\n",
       "    <tr>\n",
       "      <th>1</th>\n",
       "      <td>I made the complaint about my telephone is not...</td>\n",
       "      <td>Technical</td>\n",
       "    </tr>\n",
       "    <tr>\n",
       "      <th>2</th>\n",
       "      <td>They said that to make  the speed faster, we h...</td>\n",
       "      <td>Technical</td>\n",
       "    </tr>\n",
       "    <tr>\n",
       "      <th>3</th>\n",
       "      <td>My fiber connection, they have laid over the e...</td>\n",
       "      <td>Technical</td>\n",
       "    </tr>\n",
       "    <tr>\n",
       "      <th>4</th>\n",
       "      <td>I have to have the wireless connection to the ...</td>\n",
       "      <td>Technical</td>\n",
       "    </tr>\n",
       "  </tbody>\n",
       "</table>\n",
       "</div>"
      ],
      "text/plain": [
       "                                          Complaints Department\n",
       "0  In the router there is a LOS bulb which is bli...  Technical\n",
       "1  I made the complaint about my telephone is not...  Technical\n",
       "2  They said that to make  the speed faster, we h...  Technical\n",
       "3  My fiber connection, they have laid over the e...  Technical\n",
       "4  I have to have the wireless connection to the ...  Technical"
      ]
     },
     "execution_count": 43,
     "metadata": {},
     "output_type": "execute_result"
    }
   ],
   "source": [
    "# Loading data\n",
    "df = pd.read_csv('Datasets/balanced_augmented_dataset.csv')\n",
    "df.head()"
   ]
  },
  {
   "cell_type": "code",
   "execution_count": 44,
   "metadata": {},
   "outputs": [
    {
     "data": {
      "text/plain": [
       "(1050, 2)"
      ]
     },
     "execution_count": 44,
     "metadata": {},
     "output_type": "execute_result"
    }
   ],
   "source": [
    "df.shape"
   ]
  },
  {
   "cell_type": "markdown",
   "metadata": {},
   "source": [
    "## Text Preprocessing"
   ]
  },
  {
   "cell_type": "code",
   "execution_count": 45,
   "metadata": {},
   "outputs": [],
   "source": [
    "import re # for regular expressions\n",
    "import string"
   ]
  },
  {
   "cell_type": "code",
   "execution_count": 46,
   "metadata": {},
   "outputs": [],
   "source": [
    "# Convert to lowercase\n",
    "df['Complaints'] = df['Complaints'].str.lower()"
   ]
  },
  {
   "cell_type": "code",
   "execution_count": 47,
   "metadata": {},
   "outputs": [],
   "source": [
    "# Remove punctuation\n",
    "def remove_punctuation(text):\n",
    "    return text.translate(str.maketrans('', '', string.punctuation))\n",
    "df['Complaints'] = df['Complaints'].apply(remove_punctuation)"
   ]
  },
  {
   "cell_type": "code",
   "execution_count": 48,
   "metadata": {},
   "outputs": [],
   "source": [
    "# Remove numbers\n",
    "df['Complaints'] = df['Complaints'].str.replace('\\d+', '', regex=True)"
   ]
  },
  {
   "cell_type": "code",
   "execution_count": 11,
   "metadata": {},
   "outputs": [
    {
     "name": "stderr",
     "output_type": "stream",
     "text": [
      "[nltk_data] Downloading package stopwords to\n",
      "[nltk_data]     ../AggroDetect_DSGP/Stopwords/...\n",
      "[nltk_data]   Package stopwords is already up-to-date!\n"
     ]
    },
    {
     "data": {
      "text/plain": [
       "True"
      ]
     },
     "execution_count": 11,
     "metadata": {},
     "output_type": "execute_result"
    }
   ],
   "source": [
    "# Remove stopwords\n",
    "import nltk\n",
    "\n",
    "nltk.download('stopwords', download_dir='../AggroDetect_DSGP/Stopwords/')"
   ]
  },
  {
   "cell_type": "code",
   "execution_count": 49,
   "metadata": {},
   "outputs": [],
   "source": [
    "with open('../AggroDetect_DSGP/Stopwords/corpora/stopwords/english', 'r') as file:\n",
    "    stopwords = file.read().split('\\n')"
   ]
  },
  {
   "cell_type": "code",
   "execution_count": 50,
   "metadata": {},
   "outputs": [
    {
     "data": {
      "text/plain": [
       "['i', 'me', 'my', 'myself', 'we']"
      ]
     },
     "execution_count": 50,
     "metadata": {},
     "output_type": "execute_result"
    }
   ],
   "source": [
    "stopwords[:5]"
   ]
  },
  {
   "cell_type": "code",
   "execution_count": 51,
   "metadata": {},
   "outputs": [],
   "source": [
    "df['Complaints'] = df['Complaints'].apply(lambda x: ' '.join([word for word in x.split() if word not in (stopwords)]))"
   ]
  },
  {
   "cell_type": "code",
   "execution_count": 52,
   "metadata": {},
   "outputs": [],
   "source": [
    "# Stemming\n",
    "from nltk.stem import PorterStemmer\n",
    "ps = PorterStemmer()\n",
    "df['Complaints'] = df['Complaints'].apply(lambda x: ' '.join([ps.stem(word) for word in x.split()]))"
   ]
  },
  {
   "cell_type": "code",
   "execution_count": 53,
   "metadata": {},
   "outputs": [
    {
     "data": {
      "text/plain": [
       "0                       router lo bulb blink red right\n",
       "1                         made complaint telephon work\n",
       "2             said make speed faster put fiber connect\n",
       "3    fiber connect laid electr line stuck hang elec...\n",
       "4    wireless connect home autom system abl work ot...\n",
       "Name: Complaints, dtype: object"
      ]
     },
     "execution_count": 53,
     "metadata": {},
     "output_type": "execute_result"
    }
   ],
   "source": [
    "df['Complaints'].head()"
   ]
  },
  {
   "cell_type": "code",
   "execution_count": 54,
   "metadata": {},
   "outputs": [
    {
     "data": {
      "text/html": [
       "<div>\n",
       "<style scoped>\n",
       "    .dataframe tbody tr th:only-of-type {\n",
       "        vertical-align: middle;\n",
       "    }\n",
       "\n",
       "    .dataframe tbody tr th {\n",
       "        vertical-align: top;\n",
       "    }\n",
       "\n",
       "    .dataframe thead th {\n",
       "        text-align: right;\n",
       "    }\n",
       "</style>\n",
       "<table border=\"1\" class=\"dataframe\">\n",
       "  <thead>\n",
       "    <tr style=\"text-align: right;\">\n",
       "      <th></th>\n",
       "      <th>Complaints</th>\n",
       "      <th>Department</th>\n",
       "    </tr>\n",
       "  </thead>\n",
       "  <tbody>\n",
       "    <tr>\n",
       "      <th>0</th>\n",
       "      <td>router lo bulb blink red right</td>\n",
       "      <td>Technical</td>\n",
       "    </tr>\n",
       "    <tr>\n",
       "      <th>1</th>\n",
       "      <td>made complaint telephon work</td>\n",
       "      <td>Technical</td>\n",
       "    </tr>\n",
       "    <tr>\n",
       "      <th>2</th>\n",
       "      <td>said make speed faster put fiber connect</td>\n",
       "      <td>Technical</td>\n",
       "    </tr>\n",
       "    <tr>\n",
       "      <th>3</th>\n",
       "      <td>fiber connect laid electr line stuck hang elec...</td>\n",
       "      <td>Technical</td>\n",
       "    </tr>\n",
       "    <tr>\n",
       "      <th>4</th>\n",
       "      <td>wireless connect home autom system abl work ot...</td>\n",
       "      <td>Technical</td>\n",
       "    </tr>\n",
       "    <tr>\n",
       "      <th>...</th>\n",
       "      <td>...</td>\n",
       "      <td>...</td>\n",
       "    </tr>\n",
       "    <tr>\n",
       "      <th>1045</th>\n",
       "      <td>encount custom servic repres rude unhelp type ...</td>\n",
       "      <td>HR</td>\n",
       "    </tr>\n",
       "    <tr>\n",
       "      <th>1046</th>\n",
       "      <td>report issu repres promis resolut never receiv...</td>\n",
       "      <td>HR</td>\n",
       "    </tr>\n",
       "    <tr>\n",
       "      <th>1047</th>\n",
       "      <td>tri use live chat featur support respons time ...</td>\n",
       "      <td>HR</td>\n",
       "    </tr>\n",
       "    <tr>\n",
       "      <th>1048</th>\n",
       "      <td>request callback assist never receiv promis ca...</td>\n",
       "      <td>HR</td>\n",
       "    </tr>\n",
       "    <tr>\n",
       "      <th>1049</th>\n",
       "      <td>wait phone forev reduc wait time custom servic</td>\n",
       "      <td>HR</td>\n",
       "    </tr>\n",
       "  </tbody>\n",
       "</table>\n",
       "<p>1050 rows × 2 columns</p>\n",
       "</div>"
      ],
      "text/plain": [
       "                                             Complaints Department\n",
       "0                        router lo bulb blink red right  Technical\n",
       "1                          made complaint telephon work  Technical\n",
       "2              said make speed faster put fiber connect  Technical\n",
       "3     fiber connect laid electr line stuck hang elec...  Technical\n",
       "4     wireless connect home autom system abl work ot...  Technical\n",
       "...                                                 ...        ...\n",
       "1045  encount custom servic repres rude unhelp type ...         HR\n",
       "1046  report issu repres promis resolut never receiv...         HR\n",
       "1047  tri use live chat featur support respons time ...         HR\n",
       "1048  request callback assist never receiv promis ca...         HR\n",
       "1049     wait phone forev reduc wait time custom servic         HR\n",
       "\n",
       "[1050 rows x 2 columns]"
      ]
     },
     "execution_count": 54,
     "metadata": {},
     "output_type": "execute_result"
    }
   ],
   "source": [
    "df"
   ]
  },
  {
   "cell_type": "code",
   "execution_count": 55,
   "metadata": {},
   "outputs": [],
   "source": [
    "# Define features and labels\n",
    "features = df['Complaints']\n",
    "labels = df['Department']"
   ]
  },
  {
   "cell_type": "code",
   "execution_count": 75,
   "metadata": {},
   "outputs": [],
   "source": [
    "X_train, X_test, y_train, y_test = train_test_split(features,labels, test_size=0.2, random_state=42)"
   ]
  },
  {
   "cell_type": "code",
   "execution_count": 76,
   "metadata": {},
   "outputs": [],
   "source": [
    "vectorizer = TfidfVectorizer(sublinear_tf=True, min_df=5, ngram_range=(1, 2))\n",
    "X_train_tfidf = vectorizer.fit_transform(X_train)\n",
    "X_test_tfidf = vectorizer.transform(X_test)"
   ]
  },
  {
   "cell_type": "code",
   "execution_count": 84,
   "metadata": {},
   "outputs": [
    {
     "name": "stdout",
     "output_type": "stream",
     "text": [
      "Best Hyperparameters for Random Forest: {'max_depth': None, 'min_samples_leaf': 10, 'min_samples_split': 20, 'n_estimators': 150}\n"
     ]
    }
   ],
   "source": [
    "# Hyperparameter Optimization\n",
    "param_grid = {\n",
    "   'n_estimators': [50, 100, 150], \n",
    "    'max_depth': [None, 10, 20], \n",
    "    'min_samples_split': [20,30,40],  \n",
    "    'min_samples_leaf': [10,15,20]\n",
    "}\n",
    "# Random Forest classifier\n",
    "rf_classifier = RandomForestClassifier(random_state=42)\n",
    "\n",
    "# Grid search with cross-validation\n",
    "grid_search_rf = GridSearchCV(estimator=rf_classifier, param_grid=param_grid, cv=2)\n",
    "grid_search_rf.fit(X_train_tfidf, y_train)\n",
    "\n",
    "# Best parameters from the grid search\n",
    "best_params_rf = grid_search_rf.best_params_\n",
    "print(\"Best Hyperparameters for Random Forest:\", best_params_rf)\n"
   ]
  },
  {
   "cell_type": "code",
   "execution_count": 85,
   "metadata": {},
   "outputs": [
    {
     "data": {
      "text/plain": [
       "887"
      ]
     },
     "execution_count": 85,
     "metadata": {},
     "output_type": "execute_result"
    }
   ],
   "source": [
    "len(vectorizer.get_feature_names_out())"
   ]
  },
  {
   "cell_type": "code",
   "execution_count": 86,
   "metadata": {},
   "outputs": [
    {
     "data": {
      "text/plain": [
       "array(['abl', 'abl add', 'abl get', 'abl work', 'access', 'account',\n",
       "       'act', 'act profession', 'add', 'add gb', 'address', 'agent',\n",
       "       'agent behav', 'agent couldnt', 'agent didnt', 'agent follow',\n",
       "       'agent knowledg', 'agent provid', 'agent spoke', 'agent unabl',\n",
       "       'agent unfriendli', 'agent updat', 'alreadi', 'alreadi three',\n",
       "       'also', 'also number', 'alway', 'alway pass', 'amount',\n",
       "       'amount need', 'amount octob', 'amount review', 'anoth', 'answer',\n",
       "       'anyth', 'anyth want', 'anyth without', 'anytim', 'anytim use',\n",
       "       'app', 'appear', 'appear background', 'area', 'arrear',\n",
       "       'arrear octob', 'assist', 'attend', 'attend need', 'attend resolv',\n",
       "       'autom', 'autom system', 'automat', 'avail', 'avail get', 'back',\n",
       "       'back connect', 'back could', 'background', 'balanc',\n",
       "       'balanc came', 'ball', 'ball anoth', 'behav', 'behav inappropri',\n",
       "       'believ', 'believ refund', 'better', 'big', 'big rang', 'bill',\n",
       "       'bill agent', 'bill copi', 'bill custom', 'bill email',\n",
       "       'bill inform', 'bill make', 'bill provid', 'bill said',\n",
       "       'bill servic', 'bill show', 'bill specifi', 'bill statement',\n",
       "       'blink', 'blink red', 'breakdown', 'breakdown charg',\n",
       "       'breakdown gb', 'bulb', 'busi', 'busi shop', 'cabl',\n",
       "       'cabl correct', 'call', 'call qualiti', 'call reactiv',\n",
       "       'call right', 'callback', 'came', 'came phone', 'cannot',\n",
       "       'cannot anyth', 'cannot work', 'cant', 'cant get', 'care',\n",
       "       'care servic', 'chang', 'chang new', 'chang packag', 'chang plan',\n",
       "       'channel', 'charg', 'charg bill', 'charg made', 'charg servic',\n",
       "       'charg way', 'chat', 'chat featur', 'check', 'check els',\n",
       "       'check phone', 'check problem', 'check there', 'clear',\n",
       "       'clear detail', 'client', 'client time', 'color', 'color indic',\n",
       "       'come', 'come check', 'come telephon', 'compani',\n",
       "       'compani product', 'complaint', 'complaint internet',\n",
       "       'complaint last', 'complaint region', 'complaint telephon',\n",
       "       'complaint workplac', 'complaint yesterday', 'concern', 'conflict',\n",
       "       'conflict inform', 'confus', 'confus im', 'connect',\n",
       "       'connect also', 'connect back', 'connect home', 'connect landlin',\n",
       "       'connect local', 'connect none', 'connect peo', 'connect signal',\n",
       "       'consider', 'consider time', 'consist', 'contact',\n",
       "       'contact number', 'convers', 'convers help', 'copi', 'copi bill',\n",
       "       'copi hard', 'copi never', 'correct', 'correctli', 'cost',\n",
       "       'cost breakdown', 'could', 'could pleas', 'could share', 'couldnt',\n",
       "       'couldnt resolv', 'couldnt use', 'courtesi', 'courtesi fail',\n",
       "       'coverag', 'credit', 'current', 'current price', 'custom',\n",
       "       'custom care', 'custom servic', 'custom support', 'data',\n",
       "       'data packag', 'data plan', 'data right', 'day', 'day ive',\n",
       "       'day still', 'delay', 'delay get', 'depart', 'depart provid',\n",
       "       'detail', 'detail data', 'detail explan', 'detail roam', 'dial',\n",
       "       'dial number', 'dial tone', 'didnt', 'didnt act', 'didnt get',\n",
       "       'didnt process', 'differ', 'differ hr', 'difficult',\n",
       "       'difficult convers', 'difficulti', 'difficulti reach',\n",
       "       'disconnect', 'disconnect due', 'disconnect tell', 'discuss',\n",
       "       'display', 'display lack', 'doesnt', 'doesnt big', 'doesnt work',\n",
       "       'done', 'done improv', 'done resolv', 'done simplest', 'dont',\n",
       "       'dont get', 'drop', 'drop echo', 'due', 'due loss', 'due pay',\n",
       "       'duti', 'duti client', 'echo', 'echo make', 'electron',\n",
       "       'electron copi', 'els', 'els chang', 'email', 'email respons',\n",
       "       'employe', 'employe respect', 'encount', 'encount custom', 'ensur',\n",
       "       'even', 'ever', 'ever worst', 'expect', 'expect better',\n",
       "       'experienc', 'experienc poor', 'experienc problem', 'explain',\n",
       "       'explain simpler', 'explan', 'explan technic', 'extra', 'extrem',\n",
       "       'extrem urgent', 'face', 'face difficulti', 'face issu', 'fail',\n",
       "       'fail offer', 'faster', 'faster connect', 'featur',\n",
       "       'featur support', 'fiber', 'fiber cabl', 'fiber connect', 'fix',\n",
       "       'follow', 'follow issu', 'forev', 'forev get', 'frequent',\n",
       "       'frequent drop', 'frustrat', 'futur', 'gb', 'gb number', 'get',\n",
       "       'get assist', 'get back', 'get bill', 'get check', 'get connect',\n",
       "       'get done', 'get help', 'get physic', 'get repli', 'get text',\n",
       "       'get wifi', 'give', 'got', 'got landlin', 'got messag', 'happen',\n",
       "       'happen dial', 'hard', 'hard copi', 'hasnt', 'havent',\n",
       "       'havent receiv', 'help', 'help agent', 'help fix', 'help need',\n",
       "       'high', 'high prioriti', 'hold', 'hold minut', 'home',\n",
       "       'home autom', 'home need', 'hour', 'hour urgent', 'hr',\n",
       "       'hr depart', 'hr repres', 'idl', 'idl access', 'im', 'im call',\n",
       "       'im experienc', 'im face', 'im interest', 'im look', 'im pay',\n",
       "       'im still', 'im techsavvi', 'im troubl', 'impolit',\n",
       "       'impolit offer', 'improv', 'improv help', 'inappropri',\n",
       "       'inappropri discuss', 'incorrect', 'incorrect bill', 'increas',\n",
       "       'indic', 'indic appear', 'inform', 'inform differ', 'inform onlin',\n",
       "       'instruct', 'instruct unclear', 'interest', 'interest understand',\n",
       "       'internet', 'internet connect', 'internet fiber', 'internet plan',\n",
       "       'internet speed', 'internet tv', 'internet without',\n",
       "       'internet work', 'investig', 'issu', 'issu bill', 'issu mail',\n",
       "       'issu meet', 'issu outsid', 'issu report', 'ive', 'ive hold',\n",
       "       'ive inform', 'ive restart', 'ive tri', 'ive use', 'know',\n",
       "       'know current', 'know minimum', 'know much', 'know sometim',\n",
       "       'knowledg', 'knowledg compani', 'lack', 'lack courtesi', 'landlin',\n",
       "       'landlin get', 'landlin phone', 'last', 'last consider',\n",
       "       'last day', 'last nightcould', 'late', 'late payment', 'let',\n",
       "       'let know', 'light', 'light other', 'light router', 'light work',\n",
       "       'like', 'like want', 'line', 'line disconnect', 'link',\n",
       "       'link messag', 'live', 'live chat', 'lo', 'local', 'local network',\n",
       "       'log', 'log complaint', 'long', 'look', 'look upgrad', 'loss',\n",
       "       'loss payment', 'loss signal', 'lot', 'lot meet', 'made',\n",
       "       'made complaint', 'made late', 'made payment', 'made telecom',\n",
       "       'mail', 'mail provid', 'make', 'make complaint', 'make difficult',\n",
       "       'make email', 'make high', 'make payment', 'meet', 'meet attend',\n",
       "       'meet expect', 'messag', 'messag pay', 'messag say', 'minimum',\n",
       "       'minimum amount', 'minimum pay', 'minimum payment', 'minut',\n",
       "       'minut speak', 'miss', 'miss detail', 'mobil', 'mobil data',\n",
       "       'model', 'month', 'month usual', 'monthli', 'morn', 'mostli',\n",
       "       'mostli pay', 'much', 'much due', 'much minimum', 'much slower',\n",
       "       'multipl', 'multipl time', 'need', 'need assist', 'need fiber',\n",
       "       'need improv', 'need internet', 'need make', 'need pay',\n",
       "       'need technic', 'network', 'network travel', 'never', 'never came',\n",
       "       'never receiv', 'never tri', 'never use', 'new', 'new router',\n",
       "       'night', 'nightcould', 'nightcould send', 'nois', 'nois come',\n",
       "       'none', 'none work', 'number', 'number charg', 'number get',\n",
       "       'number got', 'number im', 'octob', 'octob otherwis', 'offer',\n",
       "       'offer assist', 'offer help', 'offer previou', 'offic',\n",
       "       'offic extrem', 'one', 'one attend', 'onlin', 'onlin payment',\n",
       "       'order', 'order regain', 'other', 'otherwis', 'otherwis idl',\n",
       "       'otherwis line', 'outag', 'outag last', 'outsid', 'outsid regular',\n",
       "       'outstand', 'packag', 'packag anytim', 'paid', 'paid balanc',\n",
       "       'paid bill', 'paid know', 'pass', 'pass ball', 'pay', 'pay arrear',\n",
       "       'pay get', 'pay ive', 'pay order', 'pay someth', 'payment',\n",
       "       'payment link', 'payment made', 'payment requir', 'payment system',\n",
       "       'payment yesterday', 'peo', 'peo tv', 'peopl', 'peopl come',\n",
       "       'period', 'period process', 'person', 'person explan',\n",
       "       'person inform', 'phone', 'phone balanc', 'phone connect',\n",
       "       'phone technician', 'physic', 'physic bill', 'plan', 'plan agent',\n",
       "       'plan faster', 'plan updat', 'pleas', 'pleas add', 'pleas explain',\n",
       "       'pleas let', 'pleas priorit', 'pleas provid', 'pleas tell', 'poor',\n",
       "       'poor call', 'possibl', 'possibl disconnect', 'previou',\n",
       "       'previou call', 'previou issu', 'price', 'price fiber', 'priorit',\n",
       "       'priorit call', 'prioriti', 'prioriti busi', 'problem',\n",
       "       'problem alway', 'problem onlin', 'problem roam', 'process',\n",
       "       'process correctli', 'process refund', 'product', 'product servic',\n",
       "       'profession', 'promis', 'properli', 'properli ive', 'provid',\n",
       "       'provid bill', 'provid connect', 'provid contact', 'provid detail',\n",
       "       'provid electron', 'provid satisfactori', 'put', 'qualiti',\n",
       "       'qualiti frequent', 'rais', 'rais complaint', 'rang', 'reach',\n",
       "       'reach depart', 'reactiv', 'reactiv line', 'receiv', 'receiv bill',\n",
       "       'receiv conflict', 'receiv incorrect', 'recent', 'red',\n",
       "       'red color', 'red light', 'reflect', 'reflect correct', 'refund',\n",
       "       'refund outag', 'refund period', 'regain', 'regain connect',\n",
       "       'regard', 'region', 'region offic', 'regular', 'regular support',\n",
       "       'repli', 'report', 'report previou', 'repres', 'repres rude',\n",
       "       'repres wasnt', 'request', 'request chang', 'requir', 'requir get',\n",
       "       'resolut', 'resolut complaint', 'resolut offer', 'resolv',\n",
       "       'resolv issu', 'resolv problem', 'respect', 'respect duti',\n",
       "       'respons', 'respons take', 'respons time', 'restart',\n",
       "       'restart sever', 'review', 'review make', 'right', 'right lot',\n",
       "       'roam', 'roam charg', 'roam phone', 'router', 'router doesnt',\n",
       "       'router got', 'router whatev', 'rude', 'rude unhelp', 'run',\n",
       "       'run busi', 'safeti', 'said', 'said would', 'satisfactori',\n",
       "       'satisfactori resolut', 'say', 'say much', 'seen', 'send',\n",
       "       'send bill', 'send someon', 'servic', 'servic agent',\n",
       "       'servic believ', 'servic ever', 'servic im', 'servic never',\n",
       "       'servic outag', 'servic repres', 'servic team', 'servic unaccept',\n",
       "       'set', 'set instruct', 'sever', 'sever time', 'share',\n",
       "       'share cost', 'shop', 'shop cannot', 'show', 'show charg',\n",
       "       'signal', 'signal blink', 'simpler', 'simpler term', 'simplest',\n",
       "       'simplest task', 'simplifi', 'simplifi bill', 'sinc',\n",
       "       'sinc couldnt', 'sinc last', 'slow', 'slow didnt', 'slower',\n",
       "       'slower im', 'slt', 'solut', 'someon', 'someon check',\n",
       "       'someon unaccept', 'someth', 'someth like', 'sometim',\n",
       "       'sometim mostli', 'sort', 'speak', 'speak someon', 'specifi',\n",
       "       'specifi amount', 'speed', 'speed much', 'spoke', 'spoke didnt',\n",
       "       'statement', 'statement confus', 'statement miss',\n",
       "       'statement month', 'statu', 'still', 'still one', 'still show',\n",
       "       'still wait', 'stop', 'stop work', 'subscrib', 'subscrib servic',\n",
       "       'support', 'support avail', 'support hour', 'support impolit',\n",
       "       'support respons', 'system', 'system abl', 'take', 'take forev',\n",
       "       'take long', 'task', 'task employe', 'team', 'team display',\n",
       "       'technic', 'technic offic', 'technic peopl', 'technic pleas',\n",
       "       'technician', 'technician check', 'techsavvi', 'techsavvi person',\n",
       "       'telecom', 'telephon', 'telephon internet', 'tell', 'tell amount',\n",
       "       'tell technic', 'tell urgent', 'term', 'text', 'text messag',\n",
       "       'that', 'that today', 'there', 'there issu', 'three', 'three day',\n",
       "       'time', 'time doesnt', 'time sinc', 'time slow', 'today',\n",
       "       'today paid', 'told', 'told send', 'tone', 'tone landlin',\n",
       "       'travel', 'travel resolv', 'tri', 'tri resolv', 'tri troubleshoot',\n",
       "       'tri use', 'troubl', 'troubl set', 'troubl understand',\n",
       "       'troubleshoot', 'troubleshoot improv', 'tv', 'tv connect',\n",
       "       'tv stop', 'two', 'two number', 'type', 'type servic', 'unabl',\n",
       "       'unabl correct', 'unaccept', 'unaccept expect', 'unaccept pleas',\n",
       "       'unclear', 'unclear need', 'understand', 'understand breakdown',\n",
       "       'understand minimum', 'unfriendli', 'unfriendli help', 'unhelp',\n",
       "       'unhelp type', 'updat', 'updat person', 'upgrad',\n",
       "       'upgrad internet', 'upgrad plan', 'urgent', 'urgent run',\n",
       "       'urgent support', 'use', 'use app', 'use live', 'use mobil',\n",
       "       'use servic', 'usual', 'usual get', 'via', 'via phone', 'wait',\n",
       "       'wait hard', 'wait time', 'want', 'want get', 'want know',\n",
       "       'want log', 'want rais', 'wasnt', 'wasnt abl', 'wasnt clear',\n",
       "       'way', 'way simplifi', 'week', 'what', 'whatev', 'whatev want',\n",
       "       'whenev', 'whenev happen', 'wifi', 'wifi back', 'wifi connect',\n",
       "       'wifi wifi', 'wifi work', 'wireless', 'wireless connect',\n",
       "       'wireless router', 'without', 'without cannot', 'without internet',\n",
       "       'work', 'work done', 'work home', 'work otherwis', 'work properli',\n",
       "       'work sinc', 'work use', 'workplac', 'workplac safeti', 'worst',\n",
       "       'worst custom', 'worst servic', 'would', 'would send', 'ye',\n",
       "       'ye alreadi', 'yeah', 'yeah pleas', 'yesterday', 'yesterday night'],\n",
       "      dtype=object)"
      ]
     },
     "execution_count": 86,
     "metadata": {},
     "output_type": "execute_result"
    }
   ],
   "source": [
    "vectorizer.get_feature_names_out()"
   ]
  },
  {
   "cell_type": "code",
   "execution_count": 87,
   "metadata": {},
   "outputs": [
    {
     "data": {
      "text/html": [
       "<style>#sk-container-id-7 {color: black;background-color: white;}#sk-container-id-7 pre{padding: 0;}#sk-container-id-7 div.sk-toggleable {background-color: white;}#sk-container-id-7 label.sk-toggleable__label {cursor: pointer;display: block;width: 100%;margin-bottom: 0;padding: 0.3em;box-sizing: border-box;text-align: center;}#sk-container-id-7 label.sk-toggleable__label-arrow:before {content: \"▸\";float: left;margin-right: 0.25em;color: #696969;}#sk-container-id-7 label.sk-toggleable__label-arrow:hover:before {color: black;}#sk-container-id-7 div.sk-estimator:hover label.sk-toggleable__label-arrow:before {color: black;}#sk-container-id-7 div.sk-toggleable__content {max-height: 0;max-width: 0;overflow: hidden;text-align: left;background-color: #f0f8ff;}#sk-container-id-7 div.sk-toggleable__content pre {margin: 0.2em;color: black;border-radius: 0.25em;background-color: #f0f8ff;}#sk-container-id-7 input.sk-toggleable__control:checked~div.sk-toggleable__content {max-height: 200px;max-width: 100%;overflow: auto;}#sk-container-id-7 input.sk-toggleable__control:checked~label.sk-toggleable__label-arrow:before {content: \"▾\";}#sk-container-id-7 div.sk-estimator input.sk-toggleable__control:checked~label.sk-toggleable__label {background-color: #d4ebff;}#sk-container-id-7 div.sk-label input.sk-toggleable__control:checked~label.sk-toggleable__label {background-color: #d4ebff;}#sk-container-id-7 input.sk-hidden--visually {border: 0;clip: rect(1px 1px 1px 1px);clip: rect(1px, 1px, 1px, 1px);height: 1px;margin: -1px;overflow: hidden;padding: 0;position: absolute;width: 1px;}#sk-container-id-7 div.sk-estimator {font-family: monospace;background-color: #f0f8ff;border: 1px dotted black;border-radius: 0.25em;box-sizing: border-box;margin-bottom: 0.5em;}#sk-container-id-7 div.sk-estimator:hover {background-color: #d4ebff;}#sk-container-id-7 div.sk-parallel-item::after {content: \"\";width: 100%;border-bottom: 1px solid gray;flex-grow: 1;}#sk-container-id-7 div.sk-label:hover label.sk-toggleable__label {background-color: #d4ebff;}#sk-container-id-7 div.sk-serial::before {content: \"\";position: absolute;border-left: 1px solid gray;box-sizing: border-box;top: 0;bottom: 0;left: 50%;z-index: 0;}#sk-container-id-7 div.sk-serial {display: flex;flex-direction: column;align-items: center;background-color: white;padding-right: 0.2em;padding-left: 0.2em;position: relative;}#sk-container-id-7 div.sk-item {position: relative;z-index: 1;}#sk-container-id-7 div.sk-parallel {display: flex;align-items: stretch;justify-content: center;background-color: white;position: relative;}#sk-container-id-7 div.sk-item::before, #sk-container-id-7 div.sk-parallel-item::before {content: \"\";position: absolute;border-left: 1px solid gray;box-sizing: border-box;top: 0;bottom: 0;left: 50%;z-index: -1;}#sk-container-id-7 div.sk-parallel-item {display: flex;flex-direction: column;z-index: 1;position: relative;background-color: white;}#sk-container-id-7 div.sk-parallel-item:first-child::after {align-self: flex-end;width: 50%;}#sk-container-id-7 div.sk-parallel-item:last-child::after {align-self: flex-start;width: 50%;}#sk-container-id-7 div.sk-parallel-item:only-child::after {width: 0;}#sk-container-id-7 div.sk-dashed-wrapped {border: 1px dashed gray;margin: 0 0.4em 0.5em 0.4em;box-sizing: border-box;padding-bottom: 0.4em;background-color: white;}#sk-container-id-7 div.sk-label label {font-family: monospace;font-weight: bold;display: inline-block;line-height: 1.2em;}#sk-container-id-7 div.sk-label-container {text-align: center;}#sk-container-id-7 div.sk-container {/* jupyter's `normalize.less` sets `[hidden] { display: none; }` but bootstrap.min.css set `[hidden] { display: none !important; }` so we also need the `!important` here to be able to override the default hidden behavior on the sphinx rendered scikit-learn.org. See: https://github.com/scikit-learn/scikit-learn/issues/21755 */display: inline-block !important;position: relative;}#sk-container-id-7 div.sk-text-repr-fallback {display: none;}</style><div id=\"sk-container-id-7\" class=\"sk-top-container\"><div class=\"sk-text-repr-fallback\"><pre>RandomForestClassifier(min_samples_leaf=10, min_samples_split=20,\n",
       "                       n_estimators=150)</pre><b>In a Jupyter environment, please rerun this cell to show the HTML representation or trust the notebook. <br />On GitHub, the HTML representation is unable to render, please try loading this page with nbviewer.org.</b></div><div class=\"sk-container\" hidden><div class=\"sk-item\"><div class=\"sk-estimator sk-toggleable\"><input class=\"sk-toggleable__control sk-hidden--visually\" id=\"sk-estimator-id-7\" type=\"checkbox\" checked><label for=\"sk-estimator-id-7\" class=\"sk-toggleable__label sk-toggleable__label-arrow\">RandomForestClassifier</label><div class=\"sk-toggleable__content\"><pre>RandomForestClassifier(min_samples_leaf=10, min_samples_split=20,\n",
       "                       n_estimators=150)</pre></div></div></div></div></div>"
      ],
      "text/plain": [
       "RandomForestClassifier(min_samples_leaf=10, min_samples_split=20,\n",
       "                       n_estimators=150)"
      ]
     },
     "execution_count": 87,
     "metadata": {},
     "output_type": "execute_result"
    }
   ],
   "source": [
    "# Training the final Random Forest model with the best hyperparameters\n",
    "final_rf_classifier = RandomForestClassifier(**best_params_rf)\n",
    "final_rf_classifier.fit(X_train_tfidf, y_train)"
   ]
  },
  {
   "cell_type": "code",
   "execution_count": 88,
   "metadata": {},
   "outputs": [
    {
     "name": "stdout",
     "output_type": "stream",
     "text": [
      "\n",
      "Classification Report for Random Forest on Testing Data:\n",
      "              precision    recall  f1-score   support\n",
      "\n",
      "     Billing       0.99      0.99      0.99        72\n",
      "          HR       0.94      0.95      0.94        62\n",
      "   Technical       0.97      0.96      0.97        76\n",
      "\n",
      "    accuracy                           0.97       210\n",
      "   macro avg       0.97      0.97      0.97       210\n",
      "weighted avg       0.97      0.97      0.97       210\n",
      "\n"
     ]
    }
   ],
   "source": [
    "y_pred_rf = final_rf_classifier.predict(X_test_tfidf)\n",
    "\n",
    "# Evaluated the final Random Forest model on the testing dataset\n",
    "report_rf = metrics.classification_report(y_test, y_pred_rf)\n",
    "print(\"\\nClassification Report for Random Forest on Testing Data:\")\n",
    "print(report_rf)"
   ]
  },
  {
   "cell_type": "code",
   "execution_count": 89,
   "metadata": {},
   "outputs": [
    {
     "data": {
      "image/png": "[encoded data removed]",
      "text/plain": [
       "<Figure size 800x600 with 1 Axes>"
      ]
     },
     "metadata": {},
     "output_type": "display_data"
    }
   ],
   "source": [
    "#Get the confusion matrix\n",
    "cm_rf = confusion_matrix(y_test, y_pred_rf)\n",
    "\n",
    "# Plot the confusion matrix\n",
    "plt.figure(figsize=(8, 6))\n",
    "sns.heatmap(cm_rf, annot=True, fmt='d', cmap='Blues', cbar=False,\n",
    "            xticklabels=final_rf_classifier.classes_,\n",
    "            yticklabels=final_rf_classifier.classes_)\n",
    "plt.title('Confusion Matrix for Random Forest on Testing Data')\n",
    "plt.xlabel('Predicted Label')\n",
    "plt.ylabel('True Label')\n",
    "plt.show()"
   ]
  },
  {
   "cell_type": "code",
   "execution_count": 101,
   "metadata": {},
   "outputs": [
    {
     "name": "stdout",
     "output_type": "stream",
     "text": [
      "\n",
      "Training Accuracy: 0.952\n",
      "Testing Accuracy: 0.967\n"
     ]
    }
   ],
   "source": [
    "# Predict class labels on the training dataset\n",
    "y_train_pred_rf = final_rf_classifier.predict(X_train_tfidf)\n",
    "\n",
    "# Predict class labels on the testing dataset\n",
    "y_test_pred_rf = final_rf_classifier.predict(X_test_tfidf)\n",
    "\n",
    "# Calculate training accuracy\n",
    "train_accuracy = metrics.accuracy_score(y_train, y_train_pred_rf)\n",
    "print(f'\\nTraining Accuracy: {train_accuracy:.3f}')\n",
    "\n",
    "# Calculate testing accuracy\n",
    "test_accuracy = metrics.accuracy_score(y_test, y_test_pred_rf)\n",
    "print(f'Testing Accuracy: {test_accuracy:.3f}')"
   ]
  },
  {
   "cell_type": "code",
   "execution_count": 91,
   "metadata": {},
   "outputs": [
    {
     "name": "stdout",
     "output_type": "stream",
     "text": [
      "['HR']\n"
     ]
    }
   ],
   "source": [
    "complaint = \"\"\"One of your agent was so rude to me\"\"\"\n",
    "\n",
    "# Initialize the stemmer\n",
    "stemmer = PorterStemmer()\n",
    "\n",
    "# Remove punctuation and numbers, convert to lowercase\n",
    "def preprocess_text(text):\n",
    "    text = re.sub(r'\\d+', '', text)  # remove numbers\n",
    "    text = text.translate(str.maketrans('', '', string.punctuation))  # remove punctuation\n",
    "    text = text.lower()  # convert to lowercase\n",
    "    return text\n",
    "\n",
    "# Remove stopwords and stem\n",
    "def remove_stopwords_and_stem(text):\n",
    "    stemmed_words = [stemmer.stem(word) for word in text.split() if word not in stopwords]\n",
    "    return ' '.join(stemmed_words)\n",
    "\n",
    "# Preprocess the complaint\n",
    "cleaned_complaint = remove_stopwords_and_stem(preprocess_text(complaint))\n",
    "\n",
    "# Transform the cleaned complaint using the same TF-IDF vectorizer\n",
    "complaint_tfidf = vectorizer.transform([cleaned_complaint]).toarray()\n",
    "\n",
    "# Make predictions using the best_rf_model\n",
    "prediction = final_rf_classifier.predict(complaint_tfidf)\n",
    "\n",
    "print(prediction)"
   ]
  },
  {
   "cell_type": "code",
   "execution_count": 92,
   "metadata": {},
   "outputs": [
    {
     "name": "stdout",
     "output_type": "stream",
     "text": [
      "['Billing']\n"
     ]
    }
   ],
   "source": [
    "complaint = \"\"\"I was billed for a package i cancelled last year\"\"\"\n",
    "\n",
    "# Initialize the stemmer\n",
    "stemmer = PorterStemmer()\n",
    "\n",
    "# Remove punctuation and numbers, convert to lowercase\n",
    "def preprocess_text(text):\n",
    "    text = re.sub(r'\\d+', '', text)  # remove numbers\n",
    "    text = text.translate(str.maketrans('', '', string.punctuation))  # remove punctuation\n",
    "    text = text.lower()  # convert to lowercase\n",
    "    return text\n",
    "\n",
    "# Remove stopwords and stem\n",
    "def remove_stopwords_and_stem(text):\n",
    "    stemmed_words = [stemmer.stem(word) for word in text.split() if word not in stopwords]\n",
    "    return ' '.join(stemmed_words)\n",
    "\n",
    "# Preprocess the complaint\n",
    "cleaned_complaint = remove_stopwords_and_stem(preprocess_text(complaint))\n",
    "\n",
    "# Transform the cleaned complaint using the same TF-IDF vectorizer\n",
    "complaint_tfidf = vectorizer.transform([cleaned_complaint]).toarray()\n",
    "\n",
    "# Make predictions using the best_rf_model\n",
    "prediction = final_rf_classifier.predict(complaint_tfidf)\n",
    "\n",
    "print(prediction)"
   ]
  },
  {
   "cell_type": "code",
   "execution_count": 93,
   "metadata": {},
   "outputs": [
    {
     "name": "stdout",
     "output_type": "stream",
     "text": [
      "['Technical']\n"
     ]
    }
   ],
   "source": [
    "complaint = \"\"\"My data is not working and i can't send messages\"\"\"\n",
    "\n",
    "# Initialize the stemmer\n",
    "stemmer = PorterStemmer()\n",
    "\n",
    "# Remove punctuation and numbers, convert to lowercase\n",
    "def preprocess_text(text):\n",
    "    text = re.sub(r'\\d+', '', text)  # remove numbers\n",
    "    text = text.translate(str.maketrans('', '', string.punctuation))  # remove punctuation\n",
    "    text = text.lower()  # convert to lowercase\n",
    "    return text\n",
    "\n",
    "# Remove stopwords and stem\n",
    "def remove_stopwords_and_stem(text):\n",
    "    stemmed_words = [stemmer.stem(word) for word in text.split() if word not in stopwords]\n",
    "    return ' '.join(stemmed_words)\n",
    "\n",
    "# Preprocess the complaint\n",
    "cleaned_complaint = remove_stopwords_and_stem(preprocess_text(complaint))\n",
    "\n",
    "# Transform the cleaned complaint using the same TF-IDF vectorizer\n",
    "complaint_tfidf = vectorizer.transform([cleaned_complaint]).toarray()\n",
    "\n",
    "# Make predictions using the best_rf_model\n",
    "prediction = final_rf_classifier.predict(complaint_tfidf)\n",
    "\n",
    "print(prediction)\n"
   ]
  },
  {
   "cell_type": "code",
   "execution_count": 94,
   "metadata": {},
   "outputs": [
    {
     "name": "stdout",
     "output_type": "stream",
     "text": [
      "['HR']\n"
     ]
    }
   ],
   "source": [
    "complaint = \"\"\"Previous agent ignored my call and didn't gave me a proper response\"\"\"\n",
    "\n",
    "# Initialize the stemmer\n",
    "stemmer = PorterStemmer()\n",
    "\n",
    "# Remove punctuation and numbers, convert to lowercase\n",
    "def preprocess_text(text):\n",
    "    text = re.sub(r'\\d+', '', text)  # remove numbers\n",
    "    text = text.translate(str.maketrans('', '', string.punctuation))  # remove punctuation\n",
    "    text = text.lower()  # convert to lowercase\n",
    "    return text\n",
    "\n",
    "# Remove stopwords and stem\n",
    "def remove_stopwords_and_stem(text):\n",
    "    stemmed_words = [stemmer.stem(word) for word in text.split() if word not in stopwords]\n",
    "    return ' '.join(stemmed_words)\n",
    "\n",
    "# Preprocess the complaint\n",
    "cleaned_complaint = remove_stopwords_and_stem(preprocess_text(complaint))\n",
    "\n",
    "# Transform the cleaned complaint using the same TF-IDF vectorizer\n",
    "complaint_tfidf = vectorizer.transform([cleaned_complaint]).toarray()\n",
    "\n",
    "# Make predictions using the best_rf_model\n",
    "prediction = final_rf_classifier.predict(complaint_tfidf)\n",
    "\n",
    "print(prediction)\n",
    "\n"
   ]
  },
  {
   "cell_type": "code",
   "execution_count": 95,
   "metadata": {},
   "outputs": [
    {
     "name": "stdout",
     "output_type": "stream",
     "text": [
      "['Billing']\n"
     ]
    }
   ],
   "source": [
    "complaint = \"\"\"I need charges in my bill\"\"\"\n",
    "\n",
    "# Initialize the stemmer\n",
    "stemmer = PorterStemmer()\n",
    "\n",
    "# Remove punctuation and numbers, convert to lowercase\n",
    "def preprocess_text(text):\n",
    "    text = re.sub(r'\\d+', '', text)  # remove numbers\n",
    "    text = text.translate(str.maketrans('', '', string.punctuation))  # remove punctuation\n",
    "    text = text.lower()  # convert to lowercase\n",
    "    return text\n",
    "\n",
    "# Remove stopwords and stem\n",
    "def remove_stopwords_and_stem(text):\n",
    "    stemmed_words = [stemmer.stem(word) for word in text.split() if word not in stopwords]\n",
    "    return ' '.join(stemmed_words)\n",
    "\n",
    "# Preprocess the complaint\n",
    "cleaned_complaint = remove_stopwords_and_stem(preprocess_text(complaint))\n",
    "\n",
    "# Transform the cleaned complaint using the same TF-IDF vectorizer\n",
    "complaint_tfidf = vectorizer.transform([cleaned_complaint]).toarray()\n",
    "\n",
    "# Make predictions using the best_rf_model\n",
    "prediction = final_rf_classifier.predict(complaint_tfidf)\n",
    "\n",
    "print(prediction)\n",
    "\n",
    "\n"
   ]
  },
  {
   "cell_type": "code",
   "execution_count": 96,
   "metadata": {},
   "outputs": [
    {
     "name": "stdout",
     "output_type": "stream",
     "text": [
      "['Billing']\n"
     ]
    }
   ],
   "source": [
    "complaint = \"\"\"There have been consistent discrepancies in the charges reflected on my monthly statements.\n",
    "Despite selecting a specific plan with clearly defined costs, I have noticed unauthorized fees and unexplained increases in my bills.\n",
    "This lack of transparency has left me frustrated and confused about the actual charges for the services I am receiving.\"\"\"\n",
    "\n",
    "# Initialize the stemmer\n",
    "stemmer = PorterStemmer()\n",
    "\n",
    "# Remove punctuation and numbers, convert to lowercase\n",
    "def preprocess_text(text):\n",
    "    text = re.sub(r'\\d+', '', text)  # remove numbers\n",
    "    text = text.translate(str.maketrans('', '', string.punctuation))  # remove punctuation\n",
    "    text = text.lower()  # convert to lowercase\n",
    "    return text\n",
    "\n",
    "# Remove stopwords and stem\n",
    "def remove_stopwords_and_stem(text):\n",
    "    stemmed_words = [stemmer.stem(word) for word in text.split() if word not in stopwords]\n",
    "    return ' '.join(stemmed_words)\n",
    "\n",
    "# Preprocess the complaint\n",
    "cleaned_complaint = remove_stopwords_and_stem(preprocess_text(complaint))\n",
    "\n",
    "# Transform the cleaned complaint using the same TF-IDF vectorizer\n",
    "complaint_tfidf = vectorizer.transform([cleaned_complaint]).toarray()\n",
    "\n",
    "# Make predictions using the best_rf_model\n",
    "prediction = final_rf_classifier.predict(complaint_tfidf)\n",
    "\n",
    "print(prediction)\n"
   ]
  },
  {
   "cell_type": "code",
   "execution_count": 98,
   "metadata": {},
   "outputs": [
    {
     "name": "stdout",
     "output_type": "stream",
     "text": [
      "['HR']\n"
     ]
    }
   ],
   "source": [
    "complaint = \"\"\"The customer service agent I spoke to demonstrated\n",
    "a complete lack of empathy towards my concerns. Instead of actively listening\n",
    "and understanding the issue, the agent seemed disinterested and indifferent.\"\"\"\n",
    "\n",
    "# Initialize the stemmer\n",
    "stemmer = PorterStemmer()\n",
    "\n",
    "# Remove punctuation and numbers, convert to lowercase\n",
    "def preprocess_text(text):\n",
    "    text = re.sub(r'\\d+', '', text)  # remove numbers\n",
    "    text = text.translate(str.maketrans('', '', string.punctuation))  # remove punctuation\n",
    "    text = text.lower()  # convert to lowercase\n",
    "    return text\n",
    "\n",
    "# Remove stopwords and stem\n",
    "def remove_stopwords_and_stem(text):\n",
    "    stemmed_words = [stemmer.stem(word) for word in text.split() if word not in stopwords]\n",
    "    return ' '.join(stemmed_words)\n",
    "\n",
    "# Preprocess the complaint\n",
    "cleaned_complaint = remove_stopwords_and_stem(preprocess_text(complaint))\n",
    "\n",
    "# Transform the cleaned complaint using the same TF-IDF vectorizer\n",
    "complaint_tfidf = vectorizer.transform([cleaned_complaint]).toarray()\n",
    "\n",
    "# Make predictions using the best_rf_model\n",
    "prediction = final_rf_classifier.predict(complaint_tfidf)\n",
    "\n",
    "print(prediction)\n",
    "\n"
   ]
  },
  {
   "cell_type": "code",
   "execution_count": 99,
   "metadata": {},
   "outputs": [
    {
     "name": "stdout",
     "output_type": "stream",
     "text": [
      "['Technical']\n"
     ]
    }
   ],
   "source": [
    "complaint = \"\"\"Despite numerous attempts to troubleshoot the problem on my end, including resetting the router, checking for software updates,\n",
    "and ensuring proper device configurations, the WiFi connection remains unstable and frequently disconnects. This has severely impacted my ability to work,\n",
    "engage in online meetings, and enjoy a seamless internet experience.\"\"\"\n",
    "\n",
    "# Initialize the stemmer\n",
    "stemmer = PorterStemmer()\n",
    "\n",
    "# Remove punctuation and numbers, convert to lowercase\n",
    "def preprocess_text(text):\n",
    "    text = re.sub(r'\\d+', '', text)  # remove numbers\n",
    "    text = text.translate(str.maketrans('', '', string.punctuation))  # remove punctuation\n",
    "    text = text.lower()  # convert to lowercase\n",
    "    return text\n",
    "\n",
    "# Remove stopwords and stem\n",
    "def remove_stopwords_and_stem(text):\n",
    "    stemmed_words = [stemmer.stem(word) for word in text.split() if word not in stopwords]\n",
    "    return ' '.join(stemmed_words)\n",
    "\n",
    "# Preprocess the complaint\n",
    "cleaned_complaint = remove_stopwords_and_stem(preprocess_text(complaint))\n",
    "\n",
    "# Transform the cleaned complaint using the same TF-IDF vectorizer\n",
    "complaint_tfidf = vectorizer.transform([cleaned_complaint]).toarray()\n",
    "\n",
    "# Make predictions using the best_rf_model\n",
    "prediction = final_rf_classifier.predict(complaint_tfidf)\n",
    "\n",
    "print(prediction)\n"
   ]
  },
  {
   "cell_type": "code",
   "execution_count": 102,
   "metadata": {},
   "outputs": [],
   "source": [
    "# Saving Pickle Files\n",
    "pickle.dump(final_rf_classifier, open('Models/dep_rf_model.pickle','wb'))\n",
    "pickle.dump(vectorizer, open('Models/dep_vectorizer.pickle','wb'))"
   ]
  }
 ],
 "metadata": {
  "kernelspec": {
   "display_name": ".venv",
   "language": "python",
   "name": "python3"
  },
  "language_info": {
   "codemirror_mode": {
    "name": "ipython",
    "version": 3
   },
   "file_extension": ".py",
   "mimetype": "text/x-python",
   "name": "python",
   "nbconvert_exporter": "python",
   "pygments_lexer": "ipython3",
   "version": "3.12.0"
  }
 },
 "nbformat": 4,
 "nbformat_minor": 2
}
