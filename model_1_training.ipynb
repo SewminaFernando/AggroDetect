{
 "cells": [
  {
   "cell_type": "markdown",
   "metadata": {},
   "source": [
    "## Import Libraries for data preprocessing"
   ]
  },
  {
   "cell_type": "code",
   "execution_count": 1,
   "metadata": {},
   "outputs": [],
   "source": [
    "import pandas as pd\n",
    "import numpy as np\n",
    "import matplotlib.pyplot as plt\n",
    "import seaborn as sns\n",
    "from sklearn.preprocessing import StandardScaler\n",
    "from sklearn.model_selection import train_test_split\n",
    "from sklearn.metrics import confusion_matrix, classification_report, accuracy_score, roc_curve, auc"
   ]
  },
  {
   "cell_type": "code",
   "execution_count": 2,
   "metadata": {},
   "outputs": [
    {
     "data": {
      "text/html": [
       "<div>\n",
       "<style scoped>\n",
       "    .dataframe tbody tr th:only-of-type {\n",
       "        vertical-align: middle;\n",
       "    }\n",
       "\n",
       "    .dataframe tbody tr th {\n",
       "        vertical-align: top;\n",
       "    }\n",
       "\n",
       "    .dataframe thead th {\n",
       "        text-align: right;\n",
       "    }\n",
       "</style>\n",
       "<table border=\"1\" class=\"dataframe\">\n",
       "  <thead>\n",
       "    <tr style=\"text-align: right;\">\n",
       "      <th></th>\n",
       "      <th>mfcc_1</th>\n",
       "      <th>mfcc_2</th>\n",
       "      <th>mfcc_3</th>\n",
       "      <th>mfcc_4</th>\n",
       "      <th>mfcc_5</th>\n",
       "      <th>mfcc_6</th>\n",
       "      <th>mfcc_7</th>\n",
       "      <th>mfcc_8</th>\n",
       "      <th>mfcc_9</th>\n",
       "      <th>mfcc_10</th>\n",
       "      <th>mfcc_11</th>\n",
       "      <th>mfcc_12</th>\n",
       "      <th>mfcc_13</th>\n",
       "      <th>aggressiveness</th>\n",
       "    </tr>\n",
       "  </thead>\n",
       "  <tbody>\n",
       "    <tr>\n",
       "      <th>0</th>\n",
       "      <td>-581.18304</td>\n",
       "      <td>61.775310</td>\n",
       "      <td>0.334518</td>\n",
       "      <td>8.486256</td>\n",
       "      <td>0.788418</td>\n",
       "      <td>11.279878</td>\n",
       "      <td>-6.216891</td>\n",
       "      <td>0.534891</td>\n",
       "      <td>2.526564</td>\n",
       "      <td>-0.257104</td>\n",
       "      <td>-0.805913</td>\n",
       "      <td>-0.914089</td>\n",
       "      <td>-2.371790</td>\n",
       "      <td>1</td>\n",
       "    </tr>\n",
       "    <tr>\n",
       "      <th>1</th>\n",
       "      <td>-574.66840</td>\n",
       "      <td>56.525585</td>\n",
       "      <td>-2.960935</td>\n",
       "      <td>8.754062</td>\n",
       "      <td>1.412463</td>\n",
       "      <td>7.794606</td>\n",
       "      <td>-5.879593</td>\n",
       "      <td>-1.438899</td>\n",
       "      <td>0.365388</td>\n",
       "      <td>-1.025561</td>\n",
       "      <td>-1.278394</td>\n",
       "      <td>-1.151001</td>\n",
       "      <td>-9.105648</td>\n",
       "      <td>1</td>\n",
       "    </tr>\n",
       "    <tr>\n",
       "      <th>2</th>\n",
       "      <td>-628.37790</td>\n",
       "      <td>69.173580</td>\n",
       "      <td>-5.179301</td>\n",
       "      <td>4.144491</td>\n",
       "      <td>-2.561467</td>\n",
       "      <td>12.802252</td>\n",
       "      <td>-1.245774</td>\n",
       "      <td>0.469771</td>\n",
       "      <td>1.913076</td>\n",
       "      <td>-0.159788</td>\n",
       "      <td>-1.885625</td>\n",
       "      <td>-7.068508</td>\n",
       "      <td>-4.552937</td>\n",
       "      <td>1</td>\n",
       "    </tr>\n",
       "    <tr>\n",
       "      <th>3</th>\n",
       "      <td>-577.23940</td>\n",
       "      <td>67.032510</td>\n",
       "      <td>5.281436</td>\n",
       "      <td>11.227827</td>\n",
       "      <td>3.101099</td>\n",
       "      <td>18.982237</td>\n",
       "      <td>-5.887117</td>\n",
       "      <td>1.355586</td>\n",
       "      <td>6.083599</td>\n",
       "      <td>1.585905</td>\n",
       "      <td>2.887235</td>\n",
       "      <td>3.166880</td>\n",
       "      <td>-1.952211</td>\n",
       "      <td>1</td>\n",
       "    </tr>\n",
       "    <tr>\n",
       "      <th>4</th>\n",
       "      <td>-540.83923</td>\n",
       "      <td>89.908420</td>\n",
       "      <td>8.104260</td>\n",
       "      <td>13.206378</td>\n",
       "      <td>1.857440</td>\n",
       "      <td>19.507902</td>\n",
       "      <td>-5.437987</td>\n",
       "      <td>3.933926</td>\n",
       "      <td>7.808056</td>\n",
       "      <td>0.806630</td>\n",
       "      <td>1.848405</td>\n",
       "      <td>-6.200817</td>\n",
       "      <td>-10.122912</td>\n",
       "      <td>1</td>\n",
       "    </tr>\n",
       "  </tbody>\n",
       "</table>\n",
       "</div>"
      ],
      "text/plain": [
       "      mfcc_1     mfcc_2    mfcc_3     mfcc_4    mfcc_5     mfcc_6    mfcc_7  \\\n",
       "0 -581.18304  61.775310  0.334518   8.486256  0.788418  11.279878 -6.216891   \n",
       "1 -574.66840  56.525585 -2.960935   8.754062  1.412463   7.794606 -5.879593   \n",
       "2 -628.37790  69.173580 -5.179301   4.144491 -2.561467  12.802252 -1.245774   \n",
       "3 -577.23940  67.032510  5.281436  11.227827  3.101099  18.982237 -5.887117   \n",
       "4 -540.83923  89.908420  8.104260  13.206378  1.857440  19.507902 -5.437987   \n",
       "\n",
       "     mfcc_8    mfcc_9   mfcc_10   mfcc_11   mfcc_12    mfcc_13  aggressiveness  \n",
       "0  0.534891  2.526564 -0.257104 -0.805913 -0.914089  -2.371790               1  \n",
       "1 -1.438899  0.365388 -1.025561 -1.278394 -1.151001  -9.105648               1  \n",
       "2  0.469771  1.913076 -0.159788 -1.885625 -7.068508  -4.552937               1  \n",
       "3  1.355586  6.083599  1.585905  2.887235  3.166880  -1.952211               1  \n",
       "4  3.933926  7.808056  0.806630  1.848405 -6.200817 -10.122912               1  "
      ]
     },
     "execution_count": 2,
     "metadata": {},
     "output_type": "execute_result"
    }
   ],
   "source": [
    "# Load data from csv\n",
    "data = pd.read_csv(r'Data/Extracted_MFCCs.csv')\n",
    "data.head()"
   ]
  },
  {
   "cell_type": "code",
   "execution_count": 3,
   "metadata": {},
   "outputs": [],
   "source": [
    "# Devide to indipendant and dependant variables\n",
    "x = data.iloc[:,:-1].values\n",
    "y = data.iloc[:,-1].values"
   ]
  },
  {
   "cell_type": "code",
   "execution_count": 4,
   "metadata": {},
   "outputs": [],
   "source": [
    "# Split data into training and testing sets\n",
    "x_train, x_test, y_train, y_test = train_test_split(x, y, test_size=0.2,shuffle=True)"
   ]
  },
  {
   "cell_type": "code",
   "execution_count": 5,
   "metadata": {},
   "outputs": [
    {
     "data": {
      "text/plain": [
       "((2989, 13), (748, 13), (2989,), (748,))"
      ]
     },
     "execution_count": 5,
     "metadata": {},
     "output_type": "execute_result"
    }
   ],
   "source": [
    "x_train.shape, x_test.shape, y_train.shape, y_test.shape"
   ]
  },
  {
   "cell_type": "code",
   "execution_count": 6,
   "metadata": {},
   "outputs": [],
   "source": [
    "# Scale data\n",
    "sc = StandardScaler()\n",
    "x_train = sc.fit_transform(x_train)\n",
    "x_test = sc.transform(x_test)"
   ]
  },
  {
   "cell_type": "code",
   "execution_count": 7,
   "metadata": {},
   "outputs": [
    {
     "data": {
      "text/plain": [
       "((2989, 13), (748, 13), (2989,), (748,))"
      ]
     },
     "execution_count": 7,
     "metadata": {},
     "output_type": "execute_result"
    }
   ],
   "source": [
    "x_train.shape, x_test.shape, y_train.shape, y_test.shape"
   ]
  },
  {
   "cell_type": "code",
   "execution_count": 8,
   "metadata": {},
   "outputs": [],
   "source": [
    "x_train = np.expand_dims(x_train, axis=2)\n",
    "x_test = np.expand_dims(x_test, axis=2)"
   ]
  },
  {
   "cell_type": "code",
   "execution_count": 9,
   "metadata": {},
   "outputs": [
    {
     "data": {
      "text/plain": [
       "((2989, 13, 1), (748, 13, 1), (2989,), (748,))"
      ]
     },
     "execution_count": 9,
     "metadata": {},
     "output_type": "execute_result"
    }
   ],
   "source": [
    "x_train.shape, x_test.shape, y_train.shape, y_test.shape"
   ]
  },
  {
   "cell_type": "code",
   "execution_count": null,
   "metadata": {},
   "outputs": [],
   "source": []
  }
 ],
 "metadata": {
  "kernelspec": {
   "display_name": "base",
   "language": "python",
   "name": "python3"
  },
  "language_info": {
   "codemirror_mode": {
    "name": "ipython",
    "version": 3
   },
   "file_extension": ".py",
   "mimetype": "text/x-python",
   "name": "python",
   "nbconvert_exporter": "python",
   "pygments_lexer": "ipython3",
   "version": "3.9.12"
  }
 },
 "nbformat": 4,
 "nbformat_minor": 2
}
