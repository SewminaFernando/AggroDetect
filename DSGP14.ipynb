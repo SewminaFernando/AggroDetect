{
 "cells": [
  {
   "cell_type": "code",
   "execution_count": 7,
   "id": "75a49bcf",
   "metadata": {},
   "outputs": [],
   "source": [
    "import pandas as pd\n",
    "import sklearn\n",
    "import re\n",
    "import nltk\n",
    "from nltk.corpus import stopwords\n",
    "from nltk.tokenize import word_tokenize\n",
    "import matplotlib.pyplot as plt\n"
   ]
  },
  {
   "cell_type": "code",
   "execution_count": 8,
   "id": "006bff00",
   "metadata": {},
   "outputs": [],
   "source": [
    "df = pd.read_excel('DSGP dataSet2.xlsx')"
   ]
  },
  {
   "cell_type": "code",
   "execution_count": 9,
   "id": "b46d1fd9",
   "metadata": {},
   "outputs": [
    {
     "data": {
      "text/html": [
       "<div>\n",
       "<style scoped>\n",
       "    .dataframe tbody tr th:only-of-type {\n",
       "        vertical-align: middle;\n",
       "    }\n",
       "\n",
       "    .dataframe tbody tr th {\n",
       "        vertical-align: top;\n",
       "    }\n",
       "\n",
       "    .dataframe thead th {\n",
       "        text-align: right;\n",
       "    }\n",
       "</style>\n",
       "<table border=\"1\" class=\"dataframe\">\n",
       "  <thead>\n",
       "    <tr style=\"text-align: right;\">\n",
       "      <th></th>\n",
       "      <th>VoiceClip_No</th>\n",
       "      <th>TextTranscripts</th>\n",
       "      <th>label</th>\n",
       "    </tr>\n",
       "  </thead>\n",
       "  <tbody>\n",
       "    <tr>\n",
       "      <th>0</th>\n",
       "      <td>Voice1</td>\n",
       "      <td>We want to increase our Wi-Fi services, increa...</td>\n",
       "      <td>Non</td>\n",
       "    </tr>\n",
       "    <tr>\n",
       "      <th>1</th>\n",
       "      <td>Voice2</td>\n",
       "      <td>I want to know whether I will be charged for t...</td>\n",
       "      <td>Non</td>\n",
       "    </tr>\n",
       "    <tr>\n",
       "      <th>2</th>\n",
       "      <td>Voice3</td>\n",
       "      <td>I made a complaint today morning.I did not ge...</td>\n",
       "      <td>Agg</td>\n",
       "    </tr>\n",
       "    <tr>\n",
       "      <th>3</th>\n",
       "      <td>Voice4</td>\n",
       "      <td>I'm calling to reactivate my line. I've been ...</td>\n",
       "      <td>Agg</td>\n",
       "    </tr>\n",
       "    <tr>\n",
       "      <th>4</th>\n",
       "      <td>Voice5</td>\n",
       "      <td>Can you check and tell me my balance ? \\n</td>\n",
       "      <td>Non</td>\n",
       "    </tr>\n",
       "    <tr>\n",
       "      <th>5</th>\n",
       "      <td>Voice6</td>\n",
       "      <td>I want to log a complaint that my internet POT...</td>\n",
       "      <td>Non</td>\n",
       "    </tr>\n",
       "    <tr>\n",
       "      <th>6</th>\n",
       "      <td>Voice7</td>\n",
       "      <td>I would like to add on some GB to my connectio...</td>\n",
       "      <td>Non</td>\n",
       "    </tr>\n",
       "    <tr>\n",
       "      <th>7</th>\n",
       "      <td>Voice8</td>\n",
       "      <td>I have the LOS light Blinking red color in the...</td>\n",
       "      <td>Non</td>\n",
       "    </tr>\n",
       "    <tr>\n",
       "      <th>8</th>\n",
       "      <td>Voice9</td>\n",
       "      <td>\\nActually I made this complaint on Saturday.O...</td>\n",
       "      <td>Agg</td>\n",
       "    </tr>\n",
       "    <tr>\n",
       "      <th>9</th>\n",
       "      <td>voice10</td>\n",
       "      <td>Hi can i know how much is the minimum that i s...</td>\n",
       "      <td>Non</td>\n",
       "    </tr>\n",
       "  </tbody>\n",
       "</table>\n",
       "</div>"
      ],
      "text/plain": [
       "  VoiceClip_No                                    TextTranscripts label\n",
       "0       Voice1  We want to increase our Wi-Fi services, increa...   Non\n",
       "1       Voice2  I want to know whether I will be charged for t...   Non\n",
       "2       Voice3   I made a complaint today morning.I did not ge...   Agg\n",
       "3       Voice4   I'm calling to reactivate my line. I've been ...   Agg\n",
       "4       Voice5          Can you check and tell me my balance ? \\n   Non\n",
       "5       Voice6  I want to log a complaint that my internet POT...   Non\n",
       "6       Voice7  I would like to add on some GB to my connectio...   Non\n",
       "7       Voice8  I have the LOS light Blinking red color in the...   Non\n",
       "8       Voice9  \\nActually I made this complaint on Saturday.O...   Agg\n",
       "9      voice10  Hi can i know how much is the minimum that i s...   Non"
      ]
     },
     "execution_count": 9,
     "metadata": {},
     "output_type": "execute_result"
    }
   ],
   "source": [
    "df.head(10)"
   ]
  },
  {
   "cell_type": "code",
   "execution_count": 10,
   "id": "0ab60415",
   "metadata": {},
   "outputs": [
    {
     "data": {
      "text/plain": [
       "Index(['VoiceClip_No', 'TextTranscripts', 'label'], dtype='object')"
      ]
     },
     "execution_count": 10,
     "metadata": {},
     "output_type": "execute_result"
    }
   ],
   "source": [
    "df.columns"
   ]
  },
  {
   "cell_type": "code",
   "execution_count": 11,
   "id": "08da6bd8",
   "metadata": {},
   "outputs": [
    {
     "name": "stderr",
     "output_type": "stream",
     "text": [
      "[nltk_data] Downloading package punkt to\n",
      "[nltk_data]     C:\\Users\\HP\\AppData\\Roaming\\nltk_data...\n",
      "[nltk_data]   Package punkt is already up-to-date!\n",
      "[nltk_data] Downloading package stopwords to\n",
      "[nltk_data]     C:\\Users\\HP\\AppData\\Roaming\\nltk_data...\n",
      "[nltk_data]   Package stopwords is already up-to-date!\n"
     ]
    }
   ],
   "source": [
    "nltk.download('punkt')\n",
    "nltk.download('stopwords')\n",
    "stop_words = set(stopwords.words('english'))"
   ]
  },
  {
   "cell_type": "code",
   "execution_count": 12,
   "id": "baf87c45",
   "metadata": {},
   "outputs": [],
   "source": [
    "import re\n",
    "\n",
    "def preprocess_text(text):\n",
    "    text = re.sub(r'http\\S+', '', text)  # Remove links\n",
    "    text = ' '.join([word for word in text.split() if not word.startswith('@')])  # Remove mentions (words starting with '@')\n",
    "    text = re.sub(r'$\\S+', '', text)  # Remove currency symbols\n",
    "    text = re.sub(r'\\d{10}', '', text)  # Remove contact numbers\n",
    "    text = re.sub(r'\\d{1,2}[-/]\\d{1,2}[-/]\\d{2,4}', '', text)  # Remove dates\n",
    "    text = re.sub(r'\\S+@\\S+', '', text)  # Remove emails\n",
    "    tokens = text.split()\n",
    "    tokens = [word for word in tokens if len(word) > 2]  # Remove short words (length <= 2)\n",
    "    tokens = [word.lower() for word in tokens if word.isalnum()]  # Tokenization, lowercase, and removing stopwords\n",
    "    # tokens = [word for word in tokens if word not in stop_words]\n",
    "\n",
    "    return ' '.join(tokens)"
   ]
  },
  {
   "cell_type": "code",
   "execution_count": 13,
   "id": "7f98cd27",
   "metadata": {},
   "outputs": [],
   "source": [
    "df['processed_content'] = df['TextTranscripts'].apply(preprocess_text)"
   ]
  },
  {
   "cell_type": "code",
   "execution_count": 14,
   "id": "a028b8b3",
   "metadata": {},
   "outputs": [
    {
     "data": {
      "text/html": [
       "<div>\n",
       "<style scoped>\n",
       "    .dataframe tbody tr th:only-of-type {\n",
       "        vertical-align: middle;\n",
       "    }\n",
       "\n",
       "    .dataframe tbody tr th {\n",
       "        vertical-align: top;\n",
       "    }\n",
       "\n",
       "    .dataframe thead th {\n",
       "        text-align: right;\n",
       "    }\n",
       "</style>\n",
       "<table border=\"1\" class=\"dataframe\">\n",
       "  <thead>\n",
       "    <tr style=\"text-align: right;\">\n",
       "      <th></th>\n",
       "      <th>VoiceClip_No</th>\n",
       "      <th>TextTranscripts</th>\n",
       "      <th>label</th>\n",
       "      <th>processed_content</th>\n",
       "    </tr>\n",
       "  </thead>\n",
       "  <tbody>\n",
       "    <tr>\n",
       "      <th>0</th>\n",
       "      <td>Voice1</td>\n",
       "      <td>We want to increase our Wi-Fi services, increa...</td>\n",
       "      <td>Non</td>\n",
       "      <td>want increase our increase thespeed for the up...</td>\n",
       "    </tr>\n",
       "    <tr>\n",
       "      <th>1</th>\n",
       "      <td>Voice2</td>\n",
       "      <td>I want to know whether I will be charged for t...</td>\n",
       "      <td>Non</td>\n",
       "      <td>want know whether will charged for the for dia...</td>\n",
       "    </tr>\n",
       "    <tr>\n",
       "      <th>2</th>\n",
       "      <td>Voice3</td>\n",
       "      <td>I made a complaint today morning.I did not ge...</td>\n",
       "      <td>Agg</td>\n",
       "      <td>made complaint today did not get any calls fro...</td>\n",
       "    </tr>\n",
       "    <tr>\n",
       "      <th>3</th>\n",
       "      <td>Voice4</td>\n",
       "      <td>I'm calling to reactivate my line. I've been ...</td>\n",
       "      <td>Agg</td>\n",
       "      <td>calling reactivate been requesting this for th...</td>\n",
       "    </tr>\n",
       "    <tr>\n",
       "      <th>4</th>\n",
       "      <td>Voice5</td>\n",
       "      <td>Can you check and tell me my balance ? \\n</td>\n",
       "      <td>Non</td>\n",
       "      <td>can you check and tell balance</td>\n",
       "    </tr>\n",
       "  </tbody>\n",
       "</table>\n",
       "</div>"
      ],
      "text/plain": [
       "  VoiceClip_No                                    TextTranscripts label  \\\n",
       "0       Voice1  We want to increase our Wi-Fi services, increa...   Non   \n",
       "1       Voice2  I want to know whether I will be charged for t...   Non   \n",
       "2       Voice3   I made a complaint today morning.I did not ge...   Agg   \n",
       "3       Voice4   I'm calling to reactivate my line. I've been ...   Agg   \n",
       "4       Voice5          Can you check and tell me my balance ? \\n   Non   \n",
       "\n",
       "                                   processed_content  \n",
       "0  want increase our increase thespeed for the up...  \n",
       "1  want know whether will charged for the for dia...  \n",
       "2  made complaint today did not get any calls fro...  \n",
       "3  calling reactivate been requesting this for th...  \n",
       "4                     can you check and tell balance  "
      ]
     },
     "execution_count": 14,
     "metadata": {},
     "output_type": "execute_result"
    }
   ],
   "source": [
    "df.head(5)"
   ]
  },
  {
   "cell_type": "code",
   "execution_count": 15,
   "id": "e3e9c450",
   "metadata": {},
   "outputs": [
    {
     "name": "stdout",
     "output_type": "stream",
     "text": [
      "label\n",
      "Agg    155\n",
      "Non    114\n",
      "Name: count, dtype: int64\n"
     ]
    }
   ],
   "source": [
    "print(df['label'].value_counts())"
   ]
  },
  {
   "cell_type": "code",
   "execution_count": 16,
   "id": "f0cf7ea4",
   "metadata": {},
   "outputs": [],
   "source": [
    "df.to_csv('processed_datasetnew.csv')"
   ]
  },
  {
   "cell_type": "code",
   "execution_count": 17,
   "id": "f7eb64fe",
   "metadata": {},
   "outputs": [
    {
     "name": "stdout",
     "output_type": "stream",
     "text": [
      "Requirement already satisfied: scikit-learn in c:\\users\\hp\\anaconda3\\lib\\site-packages (1.3.0)\n",
      "Requirement already satisfied: numpy>=1.17.3 in c:\\users\\hp\\anaconda3\\lib\\site-packages (from scikit-learn) (1.24.3)\n",
      "Requirement already satisfied: scipy>=1.5.0 in c:\\users\\hp\\anaconda3\\lib\\site-packages (from scikit-learn) (1.11.1)\n",
      "Requirement already satisfied: joblib>=1.1.1 in c:\\users\\hp\\anaconda3\\lib\\site-packages (from scikit-learn) (1.2.0)\n",
      "Requirement already satisfied: threadpoolctl>=2.0.0 in c:\\users\\hp\\anaconda3\\lib\\site-packages (from scikit-learn) (2.2.0)\n",
      "Note: you may need to restart the kernel to use updated packages.\n"
     ]
    }
   ],
   "source": [
    "pip install scikit-learn\n"
   ]
  },
  {
   "cell_type": "code",
   "execution_count": 18,
   "id": "26b54439",
   "metadata": {},
   "outputs": [],
   "source": [
    "x = df['TextTranscripts']\n",
    "y = df['label']"
   ]
  },
  {
   "cell_type": "code",
   "execution_count": 19,
   "id": "50eb0d00",
   "metadata": {},
   "outputs": [],
   "source": [
    "from sklearn.model_selection import train_test_split\n",
    "\n",
    "\n",
    "X_train, X_test, y_train, y_test = train_test_split(x, y, test_size=0.2, random_state=42)"
   ]
  },
  {
   "cell_type": "code",
   "execution_count": 20,
   "id": "d73977b5",
   "metadata": {},
   "outputs": [
    {
     "name": "stdout",
     "output_type": "stream",
     "text": [
      "Best Hyperparameters for Random Forest: {'max_depth': None, 'min_samples_leaf': 1, 'min_samples_split': 2, 'n_estimators': 300}\n",
      "Classification Report for Random Forest on Testing Data:\n",
      "              precision    recall  f1-score   support\n",
      "\n",
      "         Agg       0.93      0.86      0.89        29\n",
      "         Non       0.85      0.92      0.88        25\n",
      "\n",
      "    accuracy                           0.89        54\n",
      "   macro avg       0.89      0.89      0.89        54\n",
      "weighted avg       0.89      0.89      0.89        54\n",
      "\n"
     ]
    },
    {
     "data": {
      "image/png": "[encoded data removed]",
      "text/plain": [
       "<Figure size 800x600 with 1 Axes>"
      ]
     },
     "metadata": {},
     "output_type": "display_data"
    }
   ],
   "source": [
    "from sklearn.model_selection import train_test_split\n",
    "from sklearn.feature_extraction.text import TfidfVectorizer\n",
    "from sklearn.feature_extraction.text import CountVectorizer\n",
    "from sklearn.model_selection import KFold\n",
    "from sklearn.svm import SVC\n",
    "from sklearn.model_selection import GridSearchCV\n",
    "from sklearn.metrics import classification_report\n",
    "from sklearn.ensemble import RandomForestClassifier\n",
    "from sklearn.metrics import confusion_matrix\n",
    "import seaborn as sns\n",
    "import matplotlib.pyplot as plt\n",
    "\n",
    "\n",
    "# Assuming df is your DataFrame with 'Comments(x)' and 'Label(y)' columns\n",
    "\n",
    "# Split the data into training and testing sets     20% - testing and 80% -traning\n",
    "X_train, X_test, y_train, y_test = train_test_split(df['TextTranscripts'], df['label'], test_size=0.2, random_state=42)\n",
    "\n",
    "# TF-IDF Vectorization (converts the text data(comments) into numerical features)\n",
    "vectorizer = TfidfVectorizer(max_features=10000)  # Adjust max_features as needed\n",
    "X_train_tfidf = vectorizer.fit_transform(X_train)\n",
    "X_test_tfidf = vectorizer.transform(X_test)\n",
    "\n",
    "# Hyperparameter grid to search\n",
    "#Grid search explores all possible combinations of these hyperparameters to find the optimal set\n",
    "param_grid_rf = {\n",
    "    'n_estimators': [100, 200, 300], # no of tress\n",
    "    'max_depth': [None, 10, 20],  # maximum depth of trees\n",
    "    'min_samples_split': [2, 5],  # minimum samples required to split a node\n",
    "    'min_samples_leaf': [1, 2]    # minimum samples required at a leaf node\n",
    "}\n",
    "\n",
    "# Grid search with cross-validation on the training data to find the best hyperparameters for random forest\n",
    "rf_classifier = RandomForestClassifier(random_state=42)\n",
    "grid_search_rf = GridSearchCV(estimator=rf_classifier, param_grid=param_grid_rf, cv=3)\n",
    "grid_search_rf.fit(X_train_tfidf, y_train)\n",
    "\n",
    "# Best hyperparameters from the grid search\n",
    "best_params_rf = grid_search_rf.best_params_\n",
    "print(\"Best Hyperparameters for Random Forest:\", best_params_rf)\n",
    "\n",
    "# Train the final Random Forest model with the best hyperparameters\n",
    "final_rf_classifier = RandomForestClassifier(**best_params_rf, random_state=42)\n",
    "final_rf_classifier.fit(X_train_tfidf, y_train)\n",
    "\n",
    "# Predict class lab on the testing dataset\n",
    "y_pred_rf = final_rf_classifier.predict(X_test_tfidf)\n",
    "\n",
    "# Evaluate the final Random Forest model on the testing dataset\n",
    "report_rf = classification_report(y_test, y_pred_rf)\n",
    "print(\"Classification Report for Random Forest on Testing Data:\")\n",
    "print(report_rf)\n",
    "\n",
    "\n",
    "\n",
    "\n",
    "# Predict class labels on the testing dataset\n",
    "y_pred_rf = final_rf_classifier.predict(X_test_tfidf)\n",
    "\n",
    "# Compute the confusion matrix\n",
    "cm_rf = confusion_matrix(y_test, y_pred_rf)\n",
    "\n",
    "# Plot the confusion matrix\n",
    "plt.figure(figsize=(8, 6))\n",
    "sns.heatmap(cm_rf, annot=True, fmt='d', cmap='Blues', cbar=False, \n",
    "            xticklabels=final_rf_classifier.classes_, \n",
    "            yticklabels=final_rf_classifier.classes_)\n",
    "plt.title('Confusion Matrix for Random Forest on Testing Data')\n",
    "plt.xlabel('Predicted Label')\n",
    "plt.ylabel('True Label')\n",
    "plt.show()\n",
    "\n"
   ]
  },
  {
   "cell_type": "code",
   "execution_count": 56,
   "id": "3bf31b75",
   "metadata": {},
   "outputs": [
    {
     "data": {
      "image/png": "[encoded data removed]",
      "text/plain": [
       "<Figure size 640x480 with 1 Axes>"
      ]
     },
     "metadata": {},
     "output_type": "display_data"
    }
   ],
   "source": [
    "import seaborn as sns\n",
    "import matplotlib.pyplot as plt\n",
    "\n",
    "sns.countplot(x='label', data=df)\n",
    "plt.show()\n"
   ]
  },
  {
   "cell_type": "code",
   "execution_count": null,
   "id": "b7334fe0",
   "metadata": {},
   "outputs": [],
   "source": []
  }
 ],
 "metadata": {
  "kernelspec": {
   "display_name": "Python 3 (ipykernel)",
   "language": "python",
   "name": "python3"
  },
  "language_info": {
   "codemirror_mode": {
    "name": "ipython",
    "version": 3
   },
   "file_extension": ".py",
   "mimetype": "text/x-python",
   "name": "python",
   "nbconvert_exporter": "python",
   "pygments_lexer": "ipython3",
   "version": "3.11.5"
  }
 },
 "nbformat": 4,
 "nbformat_minor": 5
}
