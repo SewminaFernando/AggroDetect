{
 "cells": [
  {
   "cell_type": "code",
   "execution_count": 2,
   "metadata": {},
   "outputs": [
    {
     "name": "stderr",
     "output_type": "stream",
     "text": [
      "C:\\Users\\Pehansi Karunaratne\\AppData\\Local\\Temp\\ipykernel_3508\\3575007203.py:2: DeprecationWarning: \n",
      "Pyarrow will become a required dependency of pandas in the next major release of pandas (pandas 3.0),\n",
      "(to allow more performant data types, such as the Arrow string type, and better interoperability with other libraries)\n",
      "but was not found to be installed on your system.\n",
      "If this would cause problems for you,\n",
      "please provide us feedback at https://github.com/pandas-dev/pandas/issues/54466\n",
      "        \n",
      "  import pandas as pd\n"
     ]
    }
   ],
   "source": [
    "\n",
    "import numpy as np\n",
    "import pandas as pd\n",
    "import nlpaug.augmenter.word as naw"
   ]
  },
  {
   "cell_type": "code",
   "execution_count": 3,
   "metadata": {},
   "outputs": [
    {
     "data": {
      "text/html": [
       "<div>\n",
       "<style scoped>\n",
       "    .dataframe tbody tr th:only-of-type {\n",
       "        vertical-align: middle;\n",
       "    }\n",
       "\n",
       "    .dataframe tbody tr th {\n",
       "        vertical-align: top;\n",
       "    }\n",
       "\n",
       "    .dataframe thead th {\n",
       "        text-align: right;\n",
       "    }\n",
       "</style>\n",
       "<table border=\"1\" class=\"dataframe\">\n",
       "  <thead>\n",
       "    <tr style=\"text-align: right;\">\n",
       "      <th></th>\n",
       "      <th>Complaints</th>\n",
       "      <th>Department</th>\n",
       "    </tr>\n",
       "  </thead>\n",
       "  <tbody>\n",
       "    <tr>\n",
       "      <th>0</th>\n",
       "      <td>We want to increase our Wi-Fi services</td>\n",
       "      <td>Technical</td>\n",
       "    </tr>\n",
       "    <tr>\n",
       "      <th>1</th>\n",
       "      <td>Increase the speed for the upload and the down...</td>\n",
       "      <td>Technical</td>\n",
       "    </tr>\n",
       "    <tr>\n",
       "      <th>2</th>\n",
       "      <td>They said that to make  the speed faster, we h...</td>\n",
       "      <td>Technical</td>\n",
       "    </tr>\n",
       "    <tr>\n",
       "      <th>3</th>\n",
       "      <td>So whenever I happen to dial this number no ch...</td>\n",
       "      <td>Billing</td>\n",
       "    </tr>\n",
       "    <tr>\n",
       "      <th>4</th>\n",
       "      <td>Sometimes we get delay in getting response fro...</td>\n",
       "      <td>HR</td>\n",
       "    </tr>\n",
       "  </tbody>\n",
       "</table>\n",
       "</div>"
      ],
      "text/plain": [
       "                                          Complaints Department\n",
       "0             We want to increase our Wi-Fi services  Technical\n",
       "1  Increase the speed for the upload and the down...  Technical\n",
       "2  They said that to make  the speed faster, we h...  Technical\n",
       "3  So whenever I happen to dial this number no ch...    Billing\n",
       "4  Sometimes we get delay in getting response fro...         HR"
      ]
     },
     "execution_count": 3,
     "metadata": {},
     "output_type": "execute_result"
    }
   ],
   "source": [
    "df = pd.read_csv('Datasets/NewDepatments_Dataset.csv')\n",
    "df.head()"
   ]
  },
  {
   "cell_type": "code",
   "execution_count": 4,
   "metadata": {},
   "outputs": [
    {
     "data": {
      "text/plain": [
       "(210, 2)"
      ]
     },
     "execution_count": 4,
     "metadata": {},
     "output_type": "execute_result"
    }
   ],
   "source": [
    "df.shape"
   ]
  },
  {
   "cell_type": "code",
   "execution_count": 5,
   "metadata": {},
   "outputs": [
    {
     "data": {
      "text/plain": [
       "Department\n",
       "Technical    70\n",
       "Billing      70\n",
       "HR           70\n",
       "Name: count, dtype: int64"
      ]
     },
     "execution_count": 5,
     "metadata": {},
     "output_type": "execute_result"
    }
   ],
   "source": [
    "df['Department'].value_counts()"
   ]
  },
  {
   "cell_type": "code",
   "execution_count": 6,
   "metadata": {},
   "outputs": [],
   "source": [
    "# Find the maximum count among the departments\n",
    "max_count = df['Department'].value_counts().max()\n",
    "\n",
    "# Define specific words for each department\n",
    "department_words = {\n",
    "    'Billing': ['bill', 'charges', 'balance', 'activate', 'packages', 'billing','billed'],\n",
    "    'Technical': ['repair', 'broke down', 'not working', 'no signal', 'maintenance'],\n",
    "    'HR': ['agent', 'rude', 'didnt answer the phone']\n",
    "}\n",
    "\n",
    "# Augment the data to balance the sample count across all departments\n",
    "augmented_df = pd.DataFrame(columns=['Complaints', 'Department'])\n",
    "\n",
    "for department in df['Department'].unique():\n",
    "    texts = df[df['Department'] == department]['Complaints'].tolist()\n",
    "\n",
    "    # Augment the data to match the maximum count\n",
    "    augmented_texts = []\n",
    "    aug = naw.RandomWordAug()\n",
    "\n",
    "    for text in texts:\n",
    "        # Replace specific words for each department\n",
    "        for word in department_words.get(department, []):\n",
    "            augmented_word = aug.augment(word)\n",
    "            text = text.replace(word, augmented_word[0] if augmented_word else word)\n",
    "\n",
    "        augmented_texts.append(text)\n",
    "\n",
    "    # Sample each department to match the maximum count\n",
    "    sampled_texts = pd.Series(texts).sample(n=max_count, replace=True).tolist()\n",
    "\n",
    "    # Create a DataFrame for the current department\n",
    "    department_df = pd.DataFrame({'Complaints': sampled_texts + augmented_texts, 'Department': department})\n",
    "\n",
    "    # Concatenate with the main DataFrame\n",
    "    augmented_df = pd.concat([augmented_df, department_df])\n",
    "\n",
    "# Save the augmented dataset to a new CSV file\n",
    "augmented_df.to_csv('Datasets/balanced_augmented_dataset.csv', index=False)\n"
   ]
  },
  {
   "cell_type": "code",
   "execution_count": 7,
   "metadata": {},
   "outputs": [
    {
     "data": {
      "text/plain": [
       "(420, 2)"
      ]
     },
     "execution_count": 7,
     "metadata": {},
     "output_type": "execute_result"
    }
   ],
   "source": [
    "df2= pd.read_csv('Datasets/balanced_augmented_dataset.csv')\n",
    "df2.shape"
   ]
  },
  {
   "cell_type": "code",
   "execution_count": 8,
   "metadata": {},
   "outputs": [
    {
     "data": {
      "text/plain": [
       "Department\n",
       "Technical    140\n",
       "Billing      140\n",
       "HR           140\n",
       "Name: count, dtype: int64"
      ]
     },
     "execution_count": 8,
     "metadata": {},
     "output_type": "execute_result"
    }
   ],
   "source": [
    "df2['Department'].value_counts()"
   ]
  },
  {
   "cell_type": "code",
   "execution_count": null,
   "metadata": {},
   "outputs": [],
   "source": []
  }
 ],
 "metadata": {
  "kernelspec": {
   "display_name": ".venv",
   "language": "python",
   "name": "python3"
  },
  "language_info": {
   "codemirror_mode": {
    "name": "ipython",
    "version": 3
   },
   "file_extension": ".py",
   "mimetype": "text/x-python",
   "name": "python",
   "nbconvert_exporter": "python",
   "pygments_lexer": "ipython3",
   "version": "3.12.0"
  }
 },
 "nbformat": 4,
 "nbformat_minor": 2
}
