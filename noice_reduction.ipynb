{
 "cells": [
  {
   "cell_type": "code",
   "execution_count": 1,
   "metadata": {},
   "outputs": [
    {
     "name": "stderr",
     "output_type": "stream",
     "text": [
      "d:\\DSGP\\Main\\AggroDetect_DSGP\\.venv\\lib\\site-packages\\tqdm\\auto.py:21: TqdmWarning: IProgress not found. Please update jupyter and ipywidgets. See https://ipywidgets.readthedocs.io/en/stable/user_install.html\n",
      "  from .autonotebook import tqdm as notebook_tqdm\n"
     ]
    }
   ],
   "source": [
    "import noisereduce as nr\n",
    "import librosa\n",
    "import soundfile as sf\n",
    "\n",
    "def apply_noise_reduction(input_path, output_path):\n",
    "    # Load the audio file\n",
    "    audio, _ = librosa.load(input_path, sr=22050)\n",
    "\n",
    "    # Perform noise reduction\n",
    "    reduced_audio = nr.reduce_noise(audio, sr=22050)\n",
    "\n",
    "    # Save the denoised audio\n",
    "    sf.write(output_path, reduced_audio,22050)\n",
    "\n",
    "# Example usage\n",
    "input_path = r\"Test Audio\\aggressive.mp3\"\n",
    "output_path = 'denoised__agg_audio.wav'\n",
    "# apply_noise_reduction(input_path, output_path)"
   ]
  }
 ],
 "metadata": {
  "kernelspec": {
   "display_name": ".venv",
   "language": "python",
   "name": "python3"
  },
  "language_info": {
   "codemirror_mode": {
    "name": "ipython",
    "version": 3
   },
   "file_extension": ".py",
   "mimetype": "text/x-python",
   "name": "python",
   "nbconvert_exporter": "python",
   "pygments_lexer": "ipython3",
   "version": "3.10.2"
  }
 },
 "nbformat": 4,
 "nbformat_minor": 2
}
