{
 "cells": [
  {
   "cell_type": "code",
   "execution_count": 6,
   "metadata": {},
   "outputs": [],
   "source": [
    "import pandas as pd\n",
    "import nlpaug.augmenter.word as naw"
   ]
  },
  {
   "cell_type": "code",
   "execution_count": 7,
   "metadata": {},
   "outputs": [],
   "source": [
    "df = pd.read_csv('Data\\\\Cleaned_Call_Conversation(Emotion).csv')"
   ]
  },
  {
   "cell_type": "code",
   "execution_count": 11,
   "metadata": {},
   "outputs": [],
   "source": [
    "\n",
    "\n",
    "# Assuming you have a DataFrame called df with columns 'TextTranscripts', 'VoiceClip_No', 'label', and 'processed_content'\n",
    "\n",
    "# Find the maximum count among the labels\n",
    "max_count = df['label'].value_counts().max()\n",
    "\n",
    "# Define specific words for each label\n",
    "label_words = {\n",
    "    'Agg': ['worst', 'unacceptable', 'disappointed', 'fix it', 'soon'],\n",
    "    'Non': ['repair', 'broke down', 'not working', 'no signal', 'maintenance'],\n",
    "}\n",
    "\n",
    "# Augment the data to balance the sample count across all labels\n",
    "augmented_df = pd.DataFrame(columns=['VoiceClip_No', 'TextTranscript', 'label', 'processed_content'])\n",
    "\n",
    "for label in df['label'].unique():\n",
    "    label_df = df[df['label'] == label]\n",
    "\n",
    "    # Extract relevant columns\n",
    "    texts = label_df['processed_content'].tolist()  # Use the correct column name\n",
    "    voiceclip_nos = label_df['VoiceClip_No'].tolist()  # Use the correct column name\n",
    "\n",
    "    # Augment the data to match the maximum count\n",
    "    augmented_texts = []\n",
    "    augmented_voiceclip_nos = []\n",
    "    aug = naw.RandomWordAug()\n",
    "\n",
    "    for text, voiceclip_no in zip(texts, voiceclip_nos):\n",
    "        # Replace specific words for each label\n",
    "        for word in label_words.get(label, []):\n",
    "            augmented_word = aug.augment(word)\n",
    "            text = text.replace(word, augmented_word[0] if augmented_word else word)\n",
    "\n",
    "        augmented_texts.append(text)\n",
    "        augmented_voiceclip_nos.append(voiceclip_no)\n",
    "\n",
    "    # Sample each label to match the maximum count\n",
    "    sampled_texts = pd.Series(texts).sample(n=max_count, replace=True).tolist()\n",
    "    sampled_voiceclip_nos = pd.Series(voiceclip_nos).sample(n=max_count, replace=True).tolist()\n",
    "\n",
    "    # If the label is 'Agg', add 20 more augmented samples\n",
    "    if label == 'Agg':\n",
    "        for text, voiceclip_no in zip(texts[:20], voiceclip_nos[:20]):\n",
    "            for word in label_words.get(label, []):\n",
    "                augmented_word = aug.augment(word)\n",
    "                text = text.replace(word, augmented_word[0] if augmented_word else word)\n",
    "            augmented_texts.append(text)\n",
    "            augmented_voiceclip_nos.append(voiceclip_no)\n",
    "\n",
    "    # If the label is 'Non', add 3 more augmented samples\n",
    "    elif label == 'Non':\n",
    "        for text, voiceclip_no in zip(texts[:3], voiceclip_nos[:3]):\n",
    "            for word in label_words.get(label, []):\n",
    "                augmented_word = aug.augment(word)\n",
    "                text = text.replace(word, augmented_word[0] if augmented_word else word)\n",
    "            augmented_texts.append(text)\n",
    "            augmented_voiceclip_nos.append(voiceclip_no)\n",
    "\n",
    "    # Create a DataFrame for the current label\n",
    "    label_df = pd.DataFrame({\n",
    "        'VoiceClip_No': sampled_voiceclip_nos + augmented_voiceclip_nos,\n",
    "        'TextTranscript': sampled_texts + augmented_texts,\n",
    "        'label': label,\n",
    "        'processed_content': sampled_texts + augmented_texts\n",
    "    })\n",
    "\n",
    "    # Concatenate with the main DataFrame\n",
    "    augmented_df = pd.concat([augmented_df, label_df])\n",
    "\n",
    "# Save the augmented dataset to a new CSV file\n",
    "augmented_df.to_csv('Data\\\\balanced_augmented_Call_Conversation(Emotion).csv', index=False)"
   ]
  },
  {
   "cell_type": "code",
   "execution_count": 13,
   "metadata": {},
   "outputs": [
    {
     "name": "stdout",
     "output_type": "stream",
     "text": [
      "(602, 4)\n"
     ]
    }
   ],
   "source": [
    "df2 = pd.read_csv('Data\\\\balanced_augmented_Call_Conversation(Emotion).csv')\n",
    "\n",
    "# Print the shape of the DataFrame\n",
    "print(df2.shape)"
   ]
  },
  {
   "cell_type": "code",
   "execution_count": 14,
   "metadata": {},
   "outputs": [
    {
     "data": {
      "text/plain": [
       "label\n",
       "Agg    330\n",
       "Non    272\n",
       "Name: count, dtype: int64"
      ]
     },
     "execution_count": 14,
     "metadata": {},
     "output_type": "execute_result"
    }
   ],
   "source": [
    "df2['label'].value_counts()"
   ]
  }
 ],
 "metadata": {
  "kernelspec": {
   "display_name": ".venv",
   "language": "python",
   "name": "python3"
  },
  "language_info": {
   "codemirror_mode": {
    "name": "ipython",
    "version": 3
   },
   "file_extension": ".py",
   "mimetype": "text/x-python",
   "name": "python",
   "nbconvert_exporter": "python",
   "pygments_lexer": "ipython3",
   "version": "3.10.5"
  }
 },
 "nbformat": 4,
 "nbformat_minor": 2
}
