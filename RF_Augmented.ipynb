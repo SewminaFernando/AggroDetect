{
 "cells": [
  {
   "cell_type": "code",
   "execution_count": 1,
   "metadata": {},
   "outputs": [],
   "source": [
    "import pandas as pd\n",
    "import nlpaug.augmenter.word as naw\n",
    "import random"
   ]
  },
  {
   "cell_type": "code",
   "execution_count": 2,
   "metadata": {},
   "outputs": [],
   "source": [
    "df = pd.read_csv('Data\\\\Cleaned_Call_Recordings.csv')"
   ]
  },
  {
   "cell_type": "code",
   "execution_count": 3,
   "metadata": {},
   "outputs": [],
   "source": [
    "import pandas as pd\n",
    "import numpy as np\n",
    "\n",
    "\n",
    "# Assuming you have already imported other necessary libraries and defined functions\n",
    "\n",
    "# Find the maximum count among the labels\n",
    "max_count = df['label'].value_counts().max()\n",
    "if max_count <= 0:\n",
    "    raise ValueError(\"The maximum count among the labels is not greater than 0.\")\n",
    "\n",
    "# Define specific words for each label\n",
    "label_words = {\n",
    "    'Aggressive': ['worst', 'unacceptable', 'disappointed', 'fix it', 'soon'],\n",
    "    'Non-aggressive': ['repair', 'broke down', 'not working', 'no signal', 'maintenance'],\n",
    "}\n",
    "\n",
    "# Augment the data to balance the sample count across all labels\n",
    "augmented_df = pd.DataFrame(columns=['VoiceClip_No', 'TextTranscript', 'label', 'processed_content'])\n",
    "\n",
    "for label in df['label'].unique():\n",
    "    label_df = df[df['label'] == label]\n",
    "\n",
    "    # Extract relevant columns\n",
    "    texts = label_df['processed_content'].tolist()  # Use the correct column name\n",
    "    voiceclip_nos = label_df['VoiceClip_No'].tolist()  # Use the correct column name\n",
    "\n",
    "    # Augment the data to match the maximum count\n",
    "    augmented_texts = []\n",
    "    augmented_voiceclip_nos = []\n",
    "    aug = naw.RandomWordAug()\n",
    "\n",
    "    for text, voiceclip_no in zip(texts, voiceclip_nos):\n",
    "        # Replace specific words for each label\n",
    "        for word in label_words.get(label, []):\n",
    "            augmented_word = aug.augment(word)\n",
    "            text = text.replace(word, augmented_word[0] if augmented_word else word)\n",
    "\n",
    "        augmented_texts.append(text)\n",
    "        augmented_voiceclip_nos.append(voiceclip_no)\n",
    "\n",
    "    # Sample each label to match the maximum count, ensuring max_count is greater than 0\n",
    "    if max_count > 0:\n",
    "        sampled_texts = pd.Series(texts).sample(n=min(max_count, len(texts)), replace=True).tolist()\n",
    "        sampled_voiceclip_nos = pd.Series(voiceclip_nos).sample(n=min(max_count, len(voiceclip_nos)), replace=True).tolist()\n",
    "    else:\n",
    "        sampled_texts = []\n",
    "        sampled_voiceclip_nos = []\n",
    "\n",
    "    # If the label is 'Agg', add more augmented samples\n",
    "    if label == 'Aggressive':\n",
    "        for text, voiceclip_no in zip(texts[:2], voiceclip_nos[:2]):\n",
    "            for word in label_words.get(label, []):\n",
    "                augmented_word = aug.augment(word)\n",
    "                text = text.replace(word, augmented_word[0] if augmented_word else word)\n",
    "            augmented_texts.append(text)\n",
    "            augmented_voiceclip_nos.append(voiceclip_no)\n",
    "\n",
    "    # If the label is 'Non', add more augmented samples\n",
    "    elif label == 'Non-aggressive':\n",
    "        for text, voiceclip_no in zip(texts[:5], voiceclip_nos[:5]):  # Increase the number here\n",
    "          for word in label_words.get(label, []):\n",
    "            augmented_word = aug.augment(word)\n",
    "            text = text.replace(word, augmented_word[0] if augmented_word else word)\n",
    "        augmented_texts.append(text)\n",
    "        augmented_voiceclip_nos.append(voiceclip_no)\n",
    "\n",
    "\n",
    "    # Create a DataFrame for the current label\n",
    "    label_df = pd.DataFrame({\n",
    "        'VoiceClip_No': sampled_voiceclip_nos + augmented_voiceclip_nos,\n",
    "        'TextTranscript': sampled_texts + augmented_texts,\n",
    "        'label': label,\n",
    "        'processed_content': sampled_texts + augmented_texts\n",
    "    })\n",
    "\n",
    "    # Concatenate with the main DataFrame\n",
    "    augmented_df = pd.concat([augmented_df, label_df])\n",
    "\n",
    "# Save the augmented dataset to a new CSV file\n",
    "augmented_df.to_csv('Data\\\\augmented_Call_Recordings.csv', index=False)\n"
   ]
  },
  {
   "cell_type": "code",
   "execution_count": 4,
   "metadata": {},
   "outputs": [
    {
     "name": "stdout",
     "output_type": "stream",
     "text": [
      "(841, 4)\n"
     ]
    }
   ],
   "source": [
    "df2 = pd.read_csv('Data\\\\augmented_Call_Recordings.csv')\n",
    "\n",
    "# Print the shape of the DataFrame\n",
    "print(df2.shape)"
   ]
  },
  {
   "cell_type": "code",
   "execution_count": 5,
   "metadata": {},
   "outputs": [
    {
     "data": {
      "text/plain": [
       "label\n",
       "Aggressive        428\n",
       "Non-aggressive    413\n",
       "Name: count, dtype: int64"
      ]
     },
     "execution_count": 5,
     "metadata": {},
     "output_type": "execute_result"
    }
   ],
   "source": [
    "df2['label'].value_counts()"
   ]
  }
 ],
 "metadata": {
  "kernelspec": {
   "display_name": ".venv",
   "language": "python",
   "name": "python3"
  },
  "language_info": {
   "codemirror_mode": {
    "name": "ipython",
    "version": 3
   },
   "file_extension": ".py",
   "mimetype": "text/x-python",
   "name": "python",
   "nbconvert_exporter": "python",
   "pygments_lexer": "ipython3",
   "version": "3.10.5"
  }
 },
 "nbformat": 4,
 "nbformat_minor": 2
}
