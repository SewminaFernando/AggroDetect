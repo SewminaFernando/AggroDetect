{
 "cells": [
  {
   "cell_type": "code",
   "execution_count": 27,
   "metadata": {},
   "outputs": [],
   "source": [
    "import pandas as pd\n",
    "from sklearn.model_selection import train_test_split\n",
    "from sklearn.svm import SVC\n",
    "from sklearn.model_selection import GridSearchCV\n",
    "from sklearn.feature_extraction.text import TfidfVectorizer\n",
    "from sklearn.metrics import classification_report,accuracy_score\n",
    "import matplotlib.pyplot as plt\n",
    "import seaborn as sns\n"
   ]
  },
  {
   "cell_type": "code",
   "execution_count": 28,
   "metadata": {},
   "outputs": [
    {
     "name": "stdout",
     "output_type": "stream",
     "text": [
      "(602, 4)\n"
     ]
    }
   ],
   "source": [
    "# Loading data\n",
    "df = pd.read_csv('Data\\\\balanced_augmented_Call_Conversation(603).csv')\n",
    "print(df.shape)"
   ]
  },
  {
   "cell_type": "code",
   "execution_count": 32,
   "metadata": {},
   "outputs": [
    {
     "data": {
      "text/html": [
       "<div>\n",
       "<style scoped>\n",
       "    .dataframe tbody tr th:only-of-type {\n",
       "        vertical-align: middle;\n",
       "    }\n",
       "\n",
       "    .dataframe tbody tr th {\n",
       "        vertical-align: top;\n",
       "    }\n",
       "\n",
       "    .dataframe thead th {\n",
       "        text-align: right;\n",
       "    }\n",
       "</style>\n",
       "<table border=\"1\" class=\"dataframe\">\n",
       "  <thead>\n",
       "    <tr style=\"text-align: right;\">\n",
       "      <th></th>\n",
       "      <th>VoiceClip_No</th>\n",
       "      <th>TextTranscript</th>\n",
       "      <th>label</th>\n",
       "      <th>processed_content</th>\n",
       "    </tr>\n",
       "  </thead>\n",
       "  <tbody>\n",
       "    <tr>\n",
       "      <th>0</th>\n",
       "      <td>Voice52</td>\n",
       "      <td>the experience was your agent responded positi...</td>\n",
       "      <td>Non</td>\n",
       "      <td>the experience was your agent responded positi...</td>\n",
       "    </tr>\n",
       "    <tr>\n",
       "      <th>1</th>\n",
       "      <td>Voice38</td>\n",
       "      <td>get not working all</td>\n",
       "      <td>Non</td>\n",
       "      <td>get not working all</td>\n",
       "    </tr>\n",
       "    <tr>\n",
       "      <th>2</th>\n",
       "      <td>Voice199</td>\n",
       "      <td>can know the current price the fiber connection</td>\n",
       "      <td>Non</td>\n",
       "      <td>can know the current price the fiber connection</td>\n",
       "    </tr>\n",
       "    <tr>\n",
       "      <th>3</th>\n",
       "      <td>Voice216</td>\n",
       "      <td>problem with can you help</td>\n",
       "      <td>Non</td>\n",
       "      <td>problem with can you help</td>\n",
       "    </tr>\n",
       "    <tr>\n",
       "      <th>4</th>\n",
       "      <td>Voice62</td>\n",
       "      <td>problem with can you help</td>\n",
       "      <td>Non</td>\n",
       "      <td>problem with can you help</td>\n",
       "    </tr>\n",
       "  </tbody>\n",
       "</table>\n",
       "</div>"
      ],
      "text/plain": [
       "  VoiceClip_No                                     TextTranscript label  \\\n",
       "0      Voice52  the experience was your agent responded positi...   Non   \n",
       "1      Voice38                                get not working all   Non   \n",
       "2     Voice199    can know the current price the fiber connection   Non   \n",
       "3     Voice216                          problem with can you help   Non   \n",
       "4      Voice62                          problem with can you help   Non   \n",
       "\n",
       "                                   processed_content  \n",
       "0  the experience was your agent responded positi...  \n",
       "1                                get not working all  \n",
       "2    can know the current price the fiber connection  \n",
       "3                          problem with can you help  \n",
       "4                          problem with can you help  "
      ]
     },
     "execution_count": 32,
     "metadata": {},
     "output_type": "execute_result"
    }
   ],
   "source": [
    "df.head(5)"
   ]
  },
  {
   "cell_type": "code",
   "execution_count": 33,
   "metadata": {},
   "outputs": [
    {
     "name": "stdout",
     "output_type": "stream",
     "text": [
      "Best Hyperparameters: {'C': 1, 'kernel': 'linear'}\n",
      "\n",
      "Training Accuracy: 0.9956\n",
      "Testing Accuracy: 0.9404\n",
      "\n",
      "Classification Report on Testing Data:\n",
      "              precision    recall  f1-score   support\n",
      "\n",
      "         Agg       0.94      0.95      0.94        79\n",
      "         Non       0.94      0.93      0.94        72\n",
      "\n",
      "    accuracy                           0.94       151\n",
      "   macro avg       0.94      0.94      0.94       151\n",
      "weighted avg       0.94      0.94      0.94       151\n",
      "\n"
     ]
    }
   ],
   "source": [
    "x = df['TextTranscript']\n",
    "y = df['label']\n",
    "\n",
    "# Text vectorization\n",
    "vectorizer = TfidfVectorizer()\n",
    "X = vectorizer.fit_transform(x)\n",
    "\n",
    "# Spliting the data into training and testing sets\n",
    "X_train, X_test, y_train, y_test = train_test_split(X,y,test_size=0.25,random_state=24)\n",
    "\n",
    "\n",
    "svm_classifier = SVC()#random_state=42)\n",
    "\n",
    "\n",
    "# Hyperparameter grid to search\n",
    "param_grid = {\n",
    "    'C': [1],\n",
    "    'kernel': ['linear'],\n",
    "    }\n",
    "\n",
    "grid_search = GridSearchCV(estimator=svm_classifier, param_grid=param_grid, cv=3)\n",
    "grid_search.fit(X_train, y_train)\n",
    "#using GridSearchCV to perform a grid search for the best hyperparameters within the specified parameter grid.\n",
    "\n",
    "\n",
    "# Best hyperparameters from the grid search\n",
    "best_params = grid_search.best_params_\n",
    "print(\"Best Hyperparameters:\", best_params)\n",
    "\n",
    "# Training the final model with the best hyperparameters on the full training dataset\n",
    "final_svm_classifier = SVC(**best_params)# random_state=42)\n",
    "final_svm_classifier.fit(X_train, y_train)\n",
    "\n",
    "# Predicting the sentiment on the testing dataset\n",
    "y_pred_test = final_svm_classifier.predict(X_test)\n",
    "y_pred_train = final_svm_classifier.predict(X_train)\n",
    "\n",
    "# Calculating the accuracy for training and testing datasets\n",
    "accuracy_train = accuracy_score(y_train, y_pred_train)\n",
    "accuracy_test = accuracy_score(y_test, y_pred_test)\n",
    "\n",
    "# Printing the accuracy with 4 decimal points\n",
    "print(f\"\\nTraining Accuracy: {accuracy_train:.4f}\")\n",
    "print(f\"Testing Accuracy: {accuracy_test:.4f}\")\n",
    "\n",
    "# Evaluate the final model on the testing dataset\n",
    "report = classification_report(y_test, y_pred_test)\n",
    "print(\"\\nClassification Report on Testing Data:\")\n",
    "print(report)"
   ]
  },
  {
   "cell_type": "code",
   "execution_count": 37,
   "metadata": {},
   "outputs": [
    {
     "data": {
      "image/png": "[encoded data removed]",
      "text/plain": [
       "<Figure size 800x600 with 2 Axes>"
      ]
     },
     "metadata": {},
     "output_type": "display_data"
    }
   ],
   "source": [
    "# Calculating the confusion matrix for the testing dataset\n",
    "from sklearn.metrics import confusion_matrix\n",
    "\n",
    "\n",
    "conf_matrix = confusion_matrix(y_test, y_pred_test)\n",
    "\n",
    "# Plotting the confusion matrix using seaborn\n",
    "plt.figure(figsize=(8, 6))\n",
    "sns.heatmap(conf_matrix, annot=True, fmt='d', cmap='Blues', \n",
    "            xticklabels=['Agg', 'Non'], yticklabels=['Agg', 'Non'])\n",
    "plt.title('Confusion Matrix')\n",
    "plt.xlabel('Predicted')\n",
    "plt.ylabel('Actual')\n",
    "plt.show()"
   ]
  }
 ],
 "metadata": {
  "kernelspec": {
   "display_name": "base",
   "language": "python",
   "name": "python3"
  },
  "language_info": {
   "codemirror_mode": {
    "name": "ipython",
    "version": 3
   },
   "file_extension": ".py",
   "mimetype": "text/x-python",
   "name": "python",
   "nbconvert_exporter": "python",
   "pygments_lexer": "ipython3",
   "version": "3.11.5"
  }
 },
 "nbformat": 4,
 "nbformat_minor": 2
}
