{
 "cells": [
  {
   "cell_type": "code",
   "execution_count": 1,
   "metadata": {},
   "outputs": [],
   "source": [
    "import pandas as pd\n",
    "import sklearn\n",
    "import re\n",
    "import nltk\n",
    "from nltk.corpus import stopwords\n",
    "from nltk.tokenize import word_tokenize\n",
    "import matplotlib.pyplot as plt\n",
    "from nltk.stem import WordNetLemmatizer\n",
    "import random\n",
    "from nltk.corpus import wordnet"
   ]
  },
  {
   "cell_type": "code",
   "execution_count": 2,
   "metadata": {},
   "outputs": [],
   "source": [
    "df = pd.read_csv('Data/Call_center_Recordings.csv')"
   ]
  },
  {
   "cell_type": "code",
   "execution_count": 3,
   "metadata": {},
   "outputs": [
    {
     "data": {
      "text/html": [
       "<div>\n",
       "<style scoped>\n",
       "    .dataframe tbody tr th:only-of-type {\n",
       "        vertical-align: middle;\n",
       "    }\n",
       "\n",
       "    .dataframe tbody tr th {\n",
       "        vertical-align: top;\n",
       "    }\n",
       "\n",
       "    .dataframe thead th {\n",
       "        text-align: right;\n",
       "    }\n",
       "</style>\n",
       "<table border=\"1\" class=\"dataframe\">\n",
       "  <thead>\n",
       "    <tr style=\"text-align: right;\">\n",
       "      <th></th>\n",
       "      <th>VoiceClip_No</th>\n",
       "      <th>TextTranscripts</th>\n",
       "      <th>label</th>\n",
       "    </tr>\n",
       "  </thead>\n",
       "  <tbody>\n",
       "    <tr>\n",
       "      <th>0</th>\n",
       "      <td>Voice1</td>\n",
       "      <td>We want to increase our Wi-Fi services.</td>\n",
       "      <td>Non-aggressive</td>\n",
       "    </tr>\n",
       "    <tr>\n",
       "      <th>1</th>\n",
       "      <td>Voice2</td>\n",
       "      <td>Can you explain how do we do that?</td>\n",
       "      <td>Non-aggressive</td>\n",
       "    </tr>\n",
       "    <tr>\n",
       "      <th>2</th>\n",
       "      <td>Voice3</td>\n",
       "      <td>How can I increase the speed of the upload and...</td>\n",
       "      <td>Non-aggressive</td>\n",
       "    </tr>\n",
       "    <tr>\n",
       "      <th>3</th>\n",
       "      <td>Voice4</td>\n",
       "      <td>I want to know whether I will be charged for d...</td>\n",
       "      <td>Non-aggressive</td>\n",
       "    </tr>\n",
       "    <tr>\n",
       "      <th>4</th>\n",
       "      <td>Voice5</td>\n",
       "      <td>So whenever I dial this number no charges are ...</td>\n",
       "      <td>Non-aggressive</td>\n",
       "    </tr>\n",
       "    <tr>\n",
       "      <th>5</th>\n",
       "      <td>Voice6</td>\n",
       "      <td>I made a complaint today morning but did not ...</td>\n",
       "      <td>Aggressive</td>\n",
       "    </tr>\n",
       "    <tr>\n",
       "      <th>6</th>\n",
       "      <td>Voice7</td>\n",
       "      <td>I am working from home and I need the internet...</td>\n",
       "      <td>Aggressive</td>\n",
       "    </tr>\n",
       "    <tr>\n",
       "      <th>7</th>\n",
       "      <td>Voice8</td>\n",
       "      <td>I'm calling to reactivate my line.</td>\n",
       "      <td>Non-aggressive</td>\n",
       "    </tr>\n",
       "    <tr>\n",
       "      <th>8</th>\n",
       "      <td>Voice9</td>\n",
       "      <td>I've been requesting this for a few days back ...</td>\n",
       "      <td>Aggressive</td>\n",
       "    </tr>\n",
       "    <tr>\n",
       "      <th>9</th>\n",
       "      <td>Voice10</td>\n",
       "      <td>I want to raise a complaint against your regio...</td>\n",
       "      <td>Aggressive</td>\n",
       "    </tr>\n",
       "  </tbody>\n",
       "</table>\n",
       "</div>"
      ],
      "text/plain": [
       "  VoiceClip_No                                    TextTranscripts  \\\n",
       "0       Voice1            We want to increase our Wi-Fi services.   \n",
       "1       Voice2                 Can you explain how do we do that?   \n",
       "2       Voice3  How can I increase the speed of the upload and...   \n",
       "3       Voice4  I want to know whether I will be charged for d...   \n",
       "4       Voice5  So whenever I dial this number no charges are ...   \n",
       "5       Voice6   I made a complaint today morning but did not ...   \n",
       "6       Voice7  I am working from home and I need the internet...   \n",
       "7       Voice8                 I'm calling to reactivate my line.   \n",
       "8       Voice9  I've been requesting this for a few days back ...   \n",
       "9      Voice10  I want to raise a complaint against your regio...   \n",
       "\n",
       "            label  \n",
       "0  Non-aggressive  \n",
       "1  Non-aggressive  \n",
       "2  Non-aggressive  \n",
       "3  Non-aggressive  \n",
       "4  Non-aggressive  \n",
       "5      Aggressive  \n",
       "6      Aggressive  \n",
       "7  Non-aggressive  \n",
       "8      Aggressive  \n",
       "9      Aggressive  "
      ]
     },
     "execution_count": 3,
     "metadata": {},
     "output_type": "execute_result"
    }
   ],
   "source": [
    "df.head(10)"
   ]
  },
  {
   "cell_type": "code",
   "execution_count": 4,
   "metadata": {},
   "outputs": [
    {
     "data": {
      "text/plain": [
       "Index(['VoiceClip_No', 'TextTranscripts', 'label'], dtype='object')"
      ]
     },
     "execution_count": 4,
     "metadata": {},
     "output_type": "execute_result"
    }
   ],
   "source": [
    "df.columns"
   ]
  },
  {
   "cell_type": "code",
   "execution_count": 5,
   "metadata": {},
   "outputs": [
    {
     "name": "stderr",
     "output_type": "stream",
     "text": [
      "[nltk_data] Downloading package punkt to\n",
      "[nltk_data]     C:\\Users\\HP\\AppData\\Roaming\\nltk_data...\n",
      "[nltk_data]   Package punkt is already up-to-date!\n",
      "[nltk_data] Downloading package stopwords to\n",
      "[nltk_data]     C:\\Users\\HP\\AppData\\Roaming\\nltk_data...\n",
      "[nltk_data]   Package stopwords is already up-to-date!\n",
      "[nltk_data] Downloading package wordnet to\n",
      "[nltk_data]     C:\\Users\\HP\\AppData\\Roaming\\nltk_data...\n",
      "[nltk_data]   Package wordnet is already up-to-date!\n"
     ]
    },
    {
     "data": {
      "text/plain": [
       "True"
      ]
     },
     "execution_count": 5,
     "metadata": {},
     "output_type": "execute_result"
    }
   ],
   "source": [
    "nltk.download('punkt')\n",
    "nltk.download('stopwords')\n",
    "nltk.download('wordnet')\n"
   ]
  },
  {
   "cell_type": "code",
   "execution_count": 6,
   "metadata": {},
   "outputs": [],
   "source": [
    "stop_words = set(stopwords.words('english'))\n",
    "lemmatizer = WordNetLemmatizer()"
   ]
  },
  {
   "cell_type": "code",
   "execution_count": 7,
   "metadata": {},
   "outputs": [],
   "source": [
    "def preprocess_text(text):\n",
    "    # Convert non-string inputs to string\n",
    "    text = str(text)\n",
    "    text = re.sub(r'\\d+', '', text)\n",
    "    # Remove punctuation\n",
    "    text = re.sub(r'[^\\w\\s!?.,]', '', text)\n",
    "    \n",
    "    tokens = nltk.word_tokenize(text)\n",
    "    tokens = [word.lower() for word in tokens if word.isalnum()]  # Tokenization, lowercase\n",
    "    tokens = [lemmatizer.lemmatize(word) for word in tokens]  # Lemmatization\n",
    "    tokens = [word for word in tokens if word not in stop_words] # Remove stopwords\n",
    "    \n",
    "    return ' '.join(tokens)\n"
   ]
  },
  {
   "cell_type": "code",
   "execution_count": 8,
   "metadata": {},
   "outputs": [],
   "source": [
    "df['processed_content'] = df['TextTranscripts'].apply(preprocess_text)"
   ]
  },
  {
   "cell_type": "code",
   "execution_count": 14,
   "metadata": {},
   "outputs": [
    {
     "data": {
      "text/html": [
       "<div>\n",
       "<style scoped>\n",
       "    .dataframe tbody tr th:only-of-type {\n",
       "        vertical-align: middle;\n",
       "    }\n",
       "\n",
       "    .dataframe tbody tr th {\n",
       "        vertical-align: top;\n",
       "    }\n",
       "\n",
       "    .dataframe thead th {\n",
       "        text-align: right;\n",
       "    }\n",
       "</style>\n",
       "<table border=\"1\" class=\"dataframe\">\n",
       "  <thead>\n",
       "    <tr style=\"text-align: right;\">\n",
       "      <th></th>\n",
       "      <th>VoiceClip_No</th>\n",
       "      <th>TextTranscripts</th>\n",
       "      <th>label</th>\n",
       "      <th>processed_content</th>\n",
       "    </tr>\n",
       "  </thead>\n",
       "  <tbody>\n",
       "    <tr>\n",
       "      <th>0</th>\n",
       "      <td>Voice1</td>\n",
       "      <td>We want to increase our Wi-Fi services.</td>\n",
       "      <td>Non-aggressive</td>\n",
       "      <td>want increase wifi service</td>\n",
       "    </tr>\n",
       "    <tr>\n",
       "      <th>1</th>\n",
       "      <td>Voice2</td>\n",
       "      <td>Can you explain how do we do that?</td>\n",
       "      <td>Non-aggressive</td>\n",
       "      <td>explain</td>\n",
       "    </tr>\n",
       "    <tr>\n",
       "      <th>2</th>\n",
       "      <td>Voice3</td>\n",
       "      <td>How can I increase the speed of the upload and...</td>\n",
       "      <td>Non-aggressive</td>\n",
       "      <td>increase speed upload download</td>\n",
       "    </tr>\n",
       "    <tr>\n",
       "      <th>3</th>\n",
       "      <td>Voice4</td>\n",
       "      <td>I want to know whether I will be charged for d...</td>\n",
       "      <td>Non-aggressive</td>\n",
       "      <td>want know whether charged dialing</td>\n",
       "    </tr>\n",
       "    <tr>\n",
       "      <th>4</th>\n",
       "      <td>Voice5</td>\n",
       "      <td>So whenever I dial this number no charges are ...</td>\n",
       "      <td>Non-aggressive</td>\n",
       "      <td>whenever dial number charge made company isnt</td>\n",
       "    </tr>\n",
       "    <tr>\n",
       "      <th>5</th>\n",
       "      <td>Voice6</td>\n",
       "      <td>I made a complaint today morning but did not ...</td>\n",
       "      <td>Aggressive</td>\n",
       "      <td>made complaint today morning get call guy tech...</td>\n",
       "    </tr>\n",
       "    <tr>\n",
       "      <th>6</th>\n",
       "      <td>Voice7</td>\n",
       "      <td>I am working from home and I need the internet...</td>\n",
       "      <td>Aggressive</td>\n",
       "      <td>working home need internet need get done urgently</td>\n",
       "    </tr>\n",
       "    <tr>\n",
       "      <th>7</th>\n",
       "      <td>Voice8</td>\n",
       "      <td>I'm calling to reactivate my line.</td>\n",
       "      <td>Non-aggressive</td>\n",
       "      <td>im calling reactivate line</td>\n",
       "    </tr>\n",
       "    <tr>\n",
       "      <th>8</th>\n",
       "      <td>Voice9</td>\n",
       "      <td>I've been requesting this for a few days back ...</td>\n",
       "      <td>Aggressive</td>\n",
       "      <td>ive requesting day back well still connected</td>\n",
       "    </tr>\n",
       "    <tr>\n",
       "      <th>9</th>\n",
       "      <td>Voice10</td>\n",
       "      <td>I want to raise a complaint against your regio...</td>\n",
       "      <td>Aggressive</td>\n",
       "      <td>want raise complaint regional office</td>\n",
       "    </tr>\n",
       "  </tbody>\n",
       "</table>\n",
       "</div>"
      ],
      "text/plain": [
       "  VoiceClip_No                                    TextTranscripts  \\\n",
       "0       Voice1            We want to increase our Wi-Fi services.   \n",
       "1       Voice2                 Can you explain how do we do that?   \n",
       "2       Voice3  How can I increase the speed of the upload and...   \n",
       "3       Voice4  I want to know whether I will be charged for d...   \n",
       "4       Voice5  So whenever I dial this number no charges are ...   \n",
       "5       Voice6   I made a complaint today morning but did not ...   \n",
       "6       Voice7  I am working from home and I need the internet...   \n",
       "7       Voice8                 I'm calling to reactivate my line.   \n",
       "8       Voice9  I've been requesting this for a few days back ...   \n",
       "9      Voice10  I want to raise a complaint against your regio...   \n",
       "\n",
       "            label                                  processed_content  \n",
       "0  Non-aggressive                         want increase wifi service  \n",
       "1  Non-aggressive                                            explain  \n",
       "2  Non-aggressive                     increase speed upload download  \n",
       "3  Non-aggressive                  want know whether charged dialing  \n",
       "4  Non-aggressive      whenever dial number charge made company isnt  \n",
       "5      Aggressive  made complaint today morning get call guy tech...  \n",
       "6      Aggressive  working home need internet need get done urgently  \n",
       "7  Non-aggressive                         im calling reactivate line  \n",
       "8      Aggressive       ive requesting day back well still connected  \n",
       "9      Aggressive               want raise complaint regional office  "
      ]
     },
     "execution_count": 14,
     "metadata": {},
     "output_type": "execute_result"
    }
   ],
   "source": [
    "df.head(10)"
   ]
  },
  {
   "cell_type": "code",
   "execution_count": 10,
   "metadata": {},
   "outputs": [
    {
     "name": "stdout",
     "output_type": "stream",
     "text": [
      "label\n",
      "Aggressive        213\n",
      "Non-aggressive    206\n",
      "Name: count, dtype: int64\n"
     ]
    }
   ],
   "source": [
    "print(df['label'].value_counts())"
   ]
  },
  {
   "cell_type": "code",
   "execution_count": 11,
   "metadata": {},
   "outputs": [],
   "source": [
    "df.to_csv('Data\\\\Cleaned_Call_Recordings.csv')"
   ]
  }
 ],
 "metadata": {
  "kernelspec": {
   "display_name": ".venv",
   "language": "python",
   "name": "python3"
  },
  "language_info": {
   "codemirror_mode": {
    "name": "ipython",
    "version": 3
   },
   "file_extension": ".py",
   "mimetype": "text/x-python",
   "name": "python",
   "nbconvert_exporter": "python",
   "pygments_lexer": "ipython3",
   "version": "3.10.5"
  }
 },
 "nbformat": 4,
 "nbformat_minor": 2
}
