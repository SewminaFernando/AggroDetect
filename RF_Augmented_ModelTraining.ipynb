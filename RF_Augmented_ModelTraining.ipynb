{
 "cells": [
  {
   "cell_type": "code",
   "execution_count": 1,
   "metadata": {},
   "outputs": [],
   "source": [
    "import numpy as np\n",
    "import pandas as pd\n",
    "import nlpaug.augmenter.word as naw\n",
    "from sklearn.model_selection import train_test_split\n",
    "from sklearn.feature_extraction.text import TfidfVectorizer\n",
    "from sklearn.feature_extraction.text import CountVectorizer\n",
    "from sklearn.model_selection import KFold\n",
    "from sklearn.model_selection import GridSearchCV\n",
    "from sklearn.metrics import classification_report, accuracy_score, roc_curve, roc_auc_score\n",
    "from sklearn.ensemble import RandomForestClassifier\n",
    "from sklearn.metrics import confusion_matrix\n",
    "import seaborn as sns\n",
    "import matplotlib.pyplot as plt"
   ]
  },
  {
   "cell_type": "code",
   "execution_count": 2,
   "metadata": {},
   "outputs": [
    {
     "name": "stdout",
     "output_type": "stream",
     "text": [
      "(841, 4)\n"
     ]
    }
   ],
   "source": [
    "# Loading data\n",
    "df = pd.read_csv('Data\\\\augmented_Call_Recordings.csv')\n",
    "print(df.shape)"
   ]
  },
  {
   "cell_type": "code",
   "execution_count": 3,
   "metadata": {},
   "outputs": [
    {
     "data": {
      "text/html": [
       "<div>\n",
       "<style scoped>\n",
       "    .dataframe tbody tr th:only-of-type {\n",
       "        vertical-align: middle;\n",
       "    }\n",
       "\n",
       "    .dataframe tbody tr th {\n",
       "        vertical-align: top;\n",
       "    }\n",
       "\n",
       "    .dataframe thead th {\n",
       "        text-align: right;\n",
       "    }\n",
       "</style>\n",
       "<table border=\"1\" class=\"dataframe\">\n",
       "  <thead>\n",
       "    <tr style=\"text-align: right;\">\n",
       "      <th></th>\n",
       "      <th>VoiceClip_No</th>\n",
       "      <th>TextTranscript</th>\n",
       "      <th>label</th>\n",
       "      <th>processed_content</th>\n",
       "    </tr>\n",
       "  </thead>\n",
       "  <tbody>\n",
       "    <tr>\n",
       "      <th>0</th>\n",
       "      <td>Voice124</td>\n",
       "      <td>reconnected line</td>\n",
       "      <td>Non-aggressive</td>\n",
       "      <td>reconnected line</td>\n",
       "    </tr>\n",
       "    <tr>\n",
       "      <th>1</th>\n",
       "      <td>Voice111</td>\n",
       "      <td>today morning think lightning rain connection ...</td>\n",
       "      <td>Non-aggressive</td>\n",
       "      <td>today morning think lightning rain connection ...</td>\n",
       "    </tr>\n",
       "    <tr>\n",
       "      <th>2</th>\n",
       "      <td>Voice382</td>\n",
       "      <td>inform</td>\n",
       "      <td>Non-aggressive</td>\n",
       "      <td>inform</td>\n",
       "    </tr>\n",
       "  </tbody>\n",
       "</table>\n",
       "</div>"
      ],
      "text/plain": [
       "  VoiceClip_No                                     TextTranscript  \\\n",
       "0     Voice124                                   reconnected line   \n",
       "1     Voice111  today morning think lightning rain connection ...   \n",
       "2     Voice382                                             inform   \n",
       "\n",
       "            label                                  processed_content  \n",
       "0  Non-aggressive                                   reconnected line  \n",
       "1  Non-aggressive  today morning think lightning rain connection ...  \n",
       "2  Non-aggressive                                             inform  "
      ]
     },
     "execution_count": 3,
     "metadata": {},
     "output_type": "execute_result"
    }
   ],
   "source": [
    "df.head(3)"
   ]
  },
  {
   "cell_type": "code",
   "execution_count": 4,
   "metadata": {},
   "outputs": [],
   "source": [
    "x = df['TextTranscript']\n",
    "y = df['label']"
   ]
  },
  {
   "cell_type": "code",
   "execution_count": 5,
   "metadata": {},
   "outputs": [],
   "source": [
    "\n",
    "X_train, X_test, y_train, y_test = train_test_split(x,y, test_size=0.2, random_state=42)"
   ]
  },
  {
   "cell_type": "code",
   "execution_count": 32,
   "metadata": {},
   "outputs": [
    {
     "name": "stdout",
     "output_type": "stream",
     "text": [
      "Best Hyperparameters for Random Forest: {'max_depth': None, 'min_samples_leaf': 5, 'min_samples_split': 5, 'n_estimators': 200}\n"
     ]
    }
   ],
   "source": [
    "# TF-IDF Vectorization (converts the text data(comments) into numerical features)\n",
    "vectorizer = TfidfVectorizer(max_features=10000)  # Adjust max_features as needed\n",
    "X_train_tfidf = vectorizer.fit_transform(X_train)\n",
    "X_test_tfidf = vectorizer.transform(X_test)\n",
    "\n",
    "# Hyperparameter grid to search\n",
    "param_grid_rf = {\n",
    "    'n_estimators': [100,200,300],  # Number of trees\n",
    "    'max_depth': [None, 10, 20],  # Maximum depth of trees\n",
    "    'min_samples_split': [5,10,15],  # Minimum samples required to split a node\n",
    "    'min_samples_leaf': [5,10,15]  # Minimum samples required at a leaf node\n",
    "}\n",
    "\n",
    "# Random Forest classifier\n",
    "rf_classifier = RandomForestClassifier(random_state=42)\n",
    "\n",
    "# Create K-Fold cross-validator\n",
    "kf = KFold(n_splits=5, shuffle=True, random_state=42)\n",
    "\n",
    "# Grid search with cross-validation on the training data to get the best hyperparameters\n",
    "grid_search_rf = GridSearchCV(estimator=rf_classifier, param_grid=param_grid_rf, cv=kf)\n",
    "grid_search_rf.fit(X_train_tfidf, y_train)\n",
    "\n",
    "# Best hyperparameters from the grid search\n",
    "best_params_rf = grid_search_rf.best_params_\n",
    "print(\"Best Hyperparameters for Random Forest:\", best_params_rf)"
   ]
  },
  {
   "cell_type": "code",
   "execution_count": 33,
   "metadata": {},
   "outputs": [
    {
     "data": {
      "text/html": [
       "<style>#sk-container-id-3 {color: black;background-color: white;}#sk-container-id-3 pre{padding: 0;}#sk-container-id-3 div.sk-toggleable {background-color: white;}#sk-container-id-3 label.sk-toggleable__label {cursor: pointer;display: block;width: 100%;margin-bottom: 0;padding: 0.3em;box-sizing: border-box;text-align: center;}#sk-container-id-3 label.sk-toggleable__label-arrow:before {content: \"▸\";float: left;margin-right: 0.25em;color: #696969;}#sk-container-id-3 label.sk-toggleable__label-arrow:hover:before {color: black;}#sk-container-id-3 div.sk-estimator:hover label.sk-toggleable__label-arrow:before {color: black;}#sk-container-id-3 div.sk-toggleable__content {max-height: 0;max-width: 0;overflow: hidden;text-align: left;background-color: #f0f8ff;}#sk-container-id-3 div.sk-toggleable__content pre {margin: 0.2em;color: black;border-radius: 0.25em;background-color: #f0f8ff;}#sk-container-id-3 input.sk-toggleable__control:checked~div.sk-toggleable__content {max-height: 200px;max-width: 100%;overflow: auto;}#sk-container-id-3 input.sk-toggleable__control:checked~label.sk-toggleable__label-arrow:before {content: \"▾\";}#sk-container-id-3 div.sk-estimator input.sk-toggleable__control:checked~label.sk-toggleable__label {background-color: #d4ebff;}#sk-container-id-3 div.sk-label input.sk-toggleable__control:checked~label.sk-toggleable__label {background-color: #d4ebff;}#sk-container-id-3 input.sk-hidden--visually {border: 0;clip: rect(1px 1px 1px 1px);clip: rect(1px, 1px, 1px, 1px);height: 1px;margin: -1px;overflow: hidden;padding: 0;position: absolute;width: 1px;}#sk-container-id-3 div.sk-estimator {font-family: monospace;background-color: #f0f8ff;border: 1px dotted black;border-radius: 0.25em;box-sizing: border-box;margin-bottom: 0.5em;}#sk-container-id-3 div.sk-estimator:hover {background-color: #d4ebff;}#sk-container-id-3 div.sk-parallel-item::after {content: \"\";width: 100%;border-bottom: 1px solid gray;flex-grow: 1;}#sk-container-id-3 div.sk-label:hover label.sk-toggleable__label {background-color: #d4ebff;}#sk-container-id-3 div.sk-serial::before {content: \"\";position: absolute;border-left: 1px solid gray;box-sizing: border-box;top: 0;bottom: 0;left: 50%;z-index: 0;}#sk-container-id-3 div.sk-serial {display: flex;flex-direction: column;align-items: center;background-color: white;padding-right: 0.2em;padding-left: 0.2em;position: relative;}#sk-container-id-3 div.sk-item {position: relative;z-index: 1;}#sk-container-id-3 div.sk-parallel {display: flex;align-items: stretch;justify-content: center;background-color: white;position: relative;}#sk-container-id-3 div.sk-item::before, #sk-container-id-3 div.sk-parallel-item::before {content: \"\";position: absolute;border-left: 1px solid gray;box-sizing: border-box;top: 0;bottom: 0;left: 50%;z-index: -1;}#sk-container-id-3 div.sk-parallel-item {display: flex;flex-direction: column;z-index: 1;position: relative;background-color: white;}#sk-container-id-3 div.sk-parallel-item:first-child::after {align-self: flex-end;width: 50%;}#sk-container-id-3 div.sk-parallel-item:last-child::after {align-self: flex-start;width: 50%;}#sk-container-id-3 div.sk-parallel-item:only-child::after {width: 0;}#sk-container-id-3 div.sk-dashed-wrapped {border: 1px dashed gray;margin: 0 0.4em 0.5em 0.4em;box-sizing: border-box;padding-bottom: 0.4em;background-color: white;}#sk-container-id-3 div.sk-label label {font-family: monospace;font-weight: bold;display: inline-block;line-height: 1.2em;}#sk-container-id-3 div.sk-label-container {text-align: center;}#sk-container-id-3 div.sk-container {/* jupyter's `normalize.less` sets `[hidden] { display: none; }` but bootstrap.min.css set `[hidden] { display: none !important; }` so we also need the `!important` here to be able to override the default hidden behavior on the sphinx rendered scikit-learn.org. See: https://github.com/scikit-learn/scikit-learn/issues/21755 */display: inline-block !important;position: relative;}#sk-container-id-3 div.sk-text-repr-fallback {display: none;}</style><div id=\"sk-container-id-3\" class=\"sk-top-container\"><div class=\"sk-text-repr-fallback\"><pre>RandomForestClassifier(min_samples_leaf=5, min_samples_split=5,\n",
       "                       n_estimators=200)</pre><b>In a Jupyter environment, please rerun this cell to show the HTML representation or trust the notebook. <br />On GitHub, the HTML representation is unable to render, please try loading this page with nbviewer.org.</b></div><div class=\"sk-container\" hidden><div class=\"sk-item\"><div class=\"sk-estimator sk-toggleable\"><input class=\"sk-toggleable__control sk-hidden--visually\" id=\"sk-estimator-id-3\" type=\"checkbox\" checked><label for=\"sk-estimator-id-3\" class=\"sk-toggleable__label sk-toggleable__label-arrow\">RandomForestClassifier</label><div class=\"sk-toggleable__content\"><pre>RandomForestClassifier(min_samples_leaf=5, min_samples_split=5,\n",
       "                       n_estimators=200)</pre></div></div></div></div></div>"
      ],
      "text/plain": [
       "RandomForestClassifier(min_samples_leaf=5, min_samples_split=5,\n",
       "                       n_estimators=200)"
      ]
     },
     "execution_count": 33,
     "metadata": {},
     "output_type": "execute_result"
    }
   ],
   "source": [
    "# Training the final Random Forest model with the best hyperparameters\n",
    "final_rf_classifier = RandomForestClassifier(**best_params_rf)\n",
    "final_rf_classifier.fit(X_train_tfidf, y_train)"
   ]
  },
  {
   "cell_type": "code",
   "execution_count": 34,
   "metadata": {},
   "outputs": [
    {
     "name": "stdout",
     "output_type": "stream",
     "text": [
      "\n",
      "Classification Report for Random Forest on Testing Data:\n",
      "                precision    recall  f1-score   support\n",
      "\n",
      "    Aggressive       0.91      0.98      0.94        88\n",
      "Non-aggressive       0.97      0.89      0.93        81\n",
      "\n",
      "      accuracy                           0.93       169\n",
      "     macro avg       0.94      0.93      0.93       169\n",
      "  weighted avg       0.94      0.93      0.93       169\n",
      "\n"
     ]
    }
   ],
   "source": [
    "y_pred_rf = final_rf_classifier.predict(X_test_tfidf)\n",
    "\n",
    "# Evaluated the final Random Forest model on the testing dataset\n",
    "report_rf = classification_report(y_test, y_pred_rf)\n",
    "print(\"\\nClassification Report for Random Forest on Testing Data:\")\n",
    "print(report_rf)"
   ]
  },
  {
   "cell_type": "code",
   "execution_count": 35,
   "metadata": {},
   "outputs": [
    {
     "data": {
      "text/plain": [
       "0.9349112426035503"
      ]
     },
     "execution_count": 35,
     "metadata": {},
     "output_type": "execute_result"
    }
   ],
   "source": [
    "# Get the accuracy score\n",
    "accuracy_score(y_test, y_pred_rf)"
   ]
  },
  {
   "cell_type": "code",
   "execution_count": 36,
   "metadata": {},
   "outputs": [
    {
     "data": {
      "image/png": "[encoded data removed]",
      "text/plain": [
       "<Figure size 800x600 with 1 Axes>"
      ]
     },
     "metadata": {},
     "output_type": "display_data"
    }
   ],
   "source": [
    "#Get the confusion matrix\n",
    "cm_rf = confusion_matrix(y_test, y_pred_rf)\n",
    "\n",
    "# Plot the confusion matrix\n",
    "plt.figure(figsize=(8, 6))\n",
    "sns.heatmap(cm_rf, annot=True, fmt='d', cmap='Blues', cbar=False,\n",
    "            xticklabels=final_rf_classifier.classes_,\n",
    "            yticklabels=final_rf_classifier.classes_)\n",
    "plt.title('Confusion Matrix for Random Forest on Testing Data')\n",
    "plt.xlabel('Predicted Label')\n",
    "plt.ylabel('True Label')\n",
    "plt.show()"
   ]
  },
  {
   "cell_type": "code",
   "execution_count": 37,
   "metadata": {},
   "outputs": [
    {
     "name": "stdout",
     "output_type": "stream",
     "text": [
      "\n",
      "Training Accuracy: 0.9315\n",
      "TestingAccuracy: 0.9349\n"
     ]
    }
   ],
   "source": [
    "# Predict class labels on the training dataset\n",
    "y_train_pred_rf = final_rf_classifier.predict(X_train_tfidf)\n",
    "\n",
    "# Predict class labels on the testing dataset\n",
    "y_test_pred_rf = final_rf_classifier.predict(X_test_tfidf)\n",
    "\n",
    "# Calculate training accuracy\n",
    "train_accuracy = accuracy_score(y_train, y_train_pred_rf)\n",
    "print(f'\\nTraining Accuracy: {train_accuracy:.4f}')\n",
    "\n",
    "# Calculate testing accuracy\n",
    "test_accuracy = accuracy_score(y_test, y_test_pred_rf)\n",
    "print(f'TestingAccuracy: {test_accuracy:.4f}')"
   ]
  },
  {
   "cell_type": "code",
   "execution_count": 38,
   "metadata": {},
   "outputs": [
    {
     "name": "stdout",
     "output_type": "stream",
     "text": [
      "ROC AUC Score: 0.9813\n"
     ]
    }
   ],
   "source": [
    "# Predicting probabilities instead of labels for ROC curve\n",
    "y_prob_rf = final_rf_classifier.predict_proba(X_test_tfidf)\n",
    "\n",
    "# Calculate the ROC AUC score for the positive class\n",
    "roc_auc = roc_auc_score(y_test, y_prob_rf[:, 1])\n",
    "\n",
    "# Print the ROC AUC score\n",
    "print(f\"ROC AUC Score: {roc_auc:.4f}\")\n"
   ]
  },
  {
   "cell_type": "code",
   "execution_count": 39,
   "metadata": {},
   "outputs": [
    {
     "data": {
      "image/png": "[encoded data removed]",
      "text/plain": [
       "<Figure size 500x500 with 1 Axes>"
      ]
     },
     "metadata": {},
     "output_type": "display_data"
    }
   ],
   "source": [
    "# ROC Curve\n",
    "from sklearn.preprocessing import LabelEncoder\n",
    "\n",
    "# Convert labels to binary format\n",
    "le = LabelEncoder()\n",
    "y_test_binary = le.fit_transform(y_test)\n",
    "y_pred_binary = le.transform(y_pred_rf)\n",
    "\n",
    "# Calculate ROC curve and AUC\n",
    "fpr, tpr, thresholds = roc_curve(y_test_binary, y_pred_binary, pos_label=1)\n",
    "roc_auc = roc_auc_score(y_test_binary, y_pred_binary)\n",
    "\n",
    "\n",
    "\n",
    "plt.figure(figsize=(5,5))\n",
    "plt.title('Receiver Operating Characteristic (ROC)', size=20)\n",
    "plt.plot(fpr, tpr, color='blue', label='AUC = %0.5f' % roc_auc)\n",
    "plt.legend(loc='lower right', prop={'size': 16})\n",
    "plt.plot([0, 1], [0, 1], linestyle='--', color='red', linewidth=4, label='Random Chance')\n",
    "plt.axis('tight')\n",
    "plt.ylabel('True Positive Rate', size=16)\n",
    "plt.xlabel('False Positive Rate', size=16)\n",
    "plt.show()"
   ]
  },
  {
   "cell_type": "code",
   "execution_count": 40,
   "metadata": {},
   "outputs": [
    {
     "name": "stdout",
     "output_type": "stream",
     "text": [
      "Predicted Label: Non-aggressive\n"
     ]
    }
   ],
   "source": [
    "Text = \"\"\"can know the current price the fiber connection\"\"\"\n",
    "# Used the trained model and vectorizer to get the prediction\n",
    "prediction = final_rf_classifier.predict(vectorizer.transform([Text]))\n",
    "# Display the prediction\n",
    "print(\"Predicted Label:\", prediction[0])"
   ]
  },
  {
   "cell_type": "code",
   "execution_count": 41,
   "metadata": {},
   "outputs": [
    {
     "name": "stdout",
     "output_type": "stream",
     "text": [
      "Predicted Label: Aggressive\n"
     ]
    }
   ],
   "source": [
    "Text = \"\"\"your service the worst service ever got\"\"\"\n",
    "# Used the trained model and vectorizer to get the prediction\n",
    "prediction = final_rf_classifier.predict(vectorizer.transform([Text]))\n",
    "# Display the prediction\n",
    "print(\"Predicted Label:\", prediction[0])"
   ]
  },
  {
   "cell_type": "code",
   "execution_count": 42,
   "metadata": {},
   "outputs": [
    {
     "name": "stdout",
     "output_type": "stream",
     "text": [
      "Predicted Label: Aggressive\n"
     ]
    }
   ],
   "source": [
    "Text = \"\"\"worst experience since days wifi not really they said repair going but was days still action very bad service\"\"\"\n",
    "# Used the trained model and vectorizer to get the  prediction\n",
    "prediction = final_rf_classifier.predict(vectorizer.transform([Text]))\n",
    "# Display the prediction\n",
    "print(\"Predicted Label:\", prediction[0])"
   ]
  },
  {
   "cell_type": "code",
   "execution_count": 43,
   "metadata": {},
   "outputs": [
    {
     "name": "stdout",
     "output_type": "stream",
     "text": [
      "Predicted Label: Aggressive\n"
     ]
    }
   ],
   "source": [
    "Text = \"\"\"I have been making this complaint since yesterday night.\"\"\"\n",
    "# Used the trained model and vectorizer to get the  prediction\n",
    "prediction = final_rf_classifier.predict(vectorizer.transform([Text]))\n",
    "# Display the prediction\n",
    "print(\"Predicted Label:\", prediction[0])"
   ]
  },
  {
   "cell_type": "code",
   "execution_count": 44,
   "metadata": {},
   "outputs": [
    {
     "name": "stdout",
     "output_type": "stream",
     "text": [
      "Predicted Label: Non-aggressive\n"
     ]
    }
   ],
   "source": [
    "Text = \"\"\"Can i Know the outstanding balance \"\"\"\n",
    "# Used the trained model and vectorizer to get the  prediction\n",
    "prediction = final_rf_classifier.predict(vectorizer.transform([Text]))\n",
    "# Display the prediction\n",
    "print(\"Predicted Label:\", prediction[0])"
   ]
  },
  {
   "cell_type": "code",
   "execution_count": 45,
   "metadata": {},
   "outputs": [
    {
     "name": "stdout",
     "output_type": "stream",
     "text": [
      "Predicted Label: Non-aggressive\n"
     ]
    }
   ],
   "source": [
    "Text = \"\"\"I would like to add some data to my connection and also I want to upgrade my internet package\"\"\"\n",
    "# Used the trained model and vectorizer to get the prediction\n",
    "prediction = final_rf_classifier.predict(vectorizer.transform([Text]))\n",
    "# Display the prediction\n",
    "print(\"Predicted Label:\", prediction[0])"
   ]
  },
  {
   "cell_type": "code",
   "execution_count": 50,
   "metadata": {},
   "outputs": [],
   "source": [
    "import pickle\n",
    "pickle.dump(final_rf_classifier, open('Models/agg_RF_model.pickle','wb'))\n",
    "pickle.dump(vectorizer, open('Models/agg_vectorizer.pickle','wb'))"
   ]
  },
  {
   "cell_type": "code",
   "execution_count": 51,
   "metadata": {},
   "outputs": [],
   "source": [
    "loaded_rf_classifier = pickle.load(open('Models/agg_RF_model.pickle', 'rb'))\n",
    "loaded_vectorizer = pickle.load(open('Models/agg_vectorizer.pickle', 'rb'))"
   ]
  },
  {
   "cell_type": "code",
   "execution_count": 53,
   "metadata": {},
   "outputs": [
    {
     "name": "stdout",
     "output_type": "stream",
     "text": [
      "Predicted Label: Aggressive\n"
     ]
    }
   ],
   "source": [
    "Text = \"\"\"are you freaking kidding me\"\"\"\n",
    "# Used the trained model and vectorizer to get the prediction\n",
    "prediction = final_rf_classifier.predict(vectorizer.transform([Text]))\n",
    "# Display the prediction\n",
    "print(\"Predicted Label:\", prediction[0])"
   ]
  }
 ],
 "metadata": {
  "kernelspec": {
   "display_name": ".venv",
   "language": "python",
   "name": "python3"
  },
  "language_info": {
   "codemirror_mode": {
    "name": "ipython",
    "version": 3
   },
   "file_extension": ".py",
   "mimetype": "text/x-python",
   "name": "python",
   "nbconvert_exporter": "python",
   "pygments_lexer": "ipython3",
   "version": "3.10.5"
  }
 },
 "nbformat": 4,
 "nbformat_minor": 2
}
