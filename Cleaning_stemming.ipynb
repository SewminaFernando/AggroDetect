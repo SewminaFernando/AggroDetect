{
 "cells": [
  {
   "cell_type": "code",
   "execution_count": 7,
   "metadata": {},
   "outputs": [],
   "source": [
    "import pandas as pd\n",
    "import sklearn\n",
    "import re\n",
    "import nltk\n",
    "from nltk.corpus import stopwords\n",
    "from nltk.tokenize import word_tokenize\n",
    "import matplotlib.pyplot as plt\n",
    "from nltk.stem import PorterStemmer"
   ]
  },
  {
   "cell_type": "code",
   "execution_count": 2,
   "metadata": {},
   "outputs": [],
   "source": [
    "df = pd.read_csv('Data/Call_Conversation(Emotion).csv')"
   ]
  },
  {
   "cell_type": "code",
   "execution_count": 3,
   "metadata": {},
   "outputs": [
    {
     "data": {
      "text/html": [
       "<div>\n",
       "<style scoped>\n",
       "    .dataframe tbody tr th:only-of-type {\n",
       "        vertical-align: middle;\n",
       "    }\n",
       "\n",
       "    .dataframe tbody tr th {\n",
       "        vertical-align: top;\n",
       "    }\n",
       "\n",
       "    .dataframe thead th {\n",
       "        text-align: right;\n",
       "    }\n",
       "</style>\n",
       "<table border=\"1\" class=\"dataframe\">\n",
       "  <thead>\n",
       "    <tr style=\"text-align: right;\">\n",
       "      <th></th>\n",
       "      <th>VoiceClip_No</th>\n",
       "      <th>TextTranscripts</th>\n",
       "      <th>label</th>\n",
       "    </tr>\n",
       "  </thead>\n",
       "  <tbody>\n",
       "    <tr>\n",
       "      <th>0</th>\n",
       "      <td>Voice1</td>\n",
       "      <td>We want to increase our Wi-Fi services, increa...</td>\n",
       "      <td>Non</td>\n",
       "    </tr>\n",
       "    <tr>\n",
       "      <th>1</th>\n",
       "      <td>Voice2</td>\n",
       "      <td>I want to know whether I will be charged for t...</td>\n",
       "      <td>Non</td>\n",
       "    </tr>\n",
       "    <tr>\n",
       "      <th>2</th>\n",
       "      <td>Voice3</td>\n",
       "      <td>I made a complaint today morning.I did not ge...</td>\n",
       "      <td>Agg</td>\n",
       "    </tr>\n",
       "    <tr>\n",
       "      <th>3</th>\n",
       "      <td>Voice4</td>\n",
       "      <td>I'm calling to reactivate my line. I've been ...</td>\n",
       "      <td>Agg</td>\n",
       "    </tr>\n",
       "    <tr>\n",
       "      <th>4</th>\n",
       "      <td>Voice5</td>\n",
       "      <td>Can you check and tell me my balance ? \\n</td>\n",
       "      <td>Non</td>\n",
       "    </tr>\n",
       "    <tr>\n",
       "      <th>5</th>\n",
       "      <td>Voice6</td>\n",
       "      <td>I want to log a complaint that my internet POT...</td>\n",
       "      <td>Non</td>\n",
       "    </tr>\n",
       "    <tr>\n",
       "      <th>6</th>\n",
       "      <td>Voice7</td>\n",
       "      <td>I would like to add on some GB to my connectio...</td>\n",
       "      <td>Non</td>\n",
       "    </tr>\n",
       "    <tr>\n",
       "      <th>7</th>\n",
       "      <td>Voice8</td>\n",
       "      <td>I have the LOS light Blinking red color in the...</td>\n",
       "      <td>Non</td>\n",
       "    </tr>\n",
       "    <tr>\n",
       "      <th>8</th>\n",
       "      <td>Voice9</td>\n",
       "      <td>\\nActually I made this complaint on Saturday.O...</td>\n",
       "      <td>Agg</td>\n",
       "    </tr>\n",
       "    <tr>\n",
       "      <th>9</th>\n",
       "      <td>voice10</td>\n",
       "      <td>Hi can i know how much is the minimum that i s...</td>\n",
       "      <td>Non</td>\n",
       "    </tr>\n",
       "  </tbody>\n",
       "</table>\n",
       "</div>"
      ],
      "text/plain": [
       "  VoiceClip_No                                    TextTranscripts label\n",
       "0       Voice1  We want to increase our Wi-Fi services, increa...   Non\n",
       "1       Voice2  I want to know whether I will be charged for t...   Non\n",
       "2       Voice3   I made a complaint today morning.I did not ge...   Agg\n",
       "3       Voice4   I'm calling to reactivate my line. I've been ...   Agg\n",
       "4       Voice5          Can you check and tell me my balance ? \\n   Non\n",
       "5       Voice6  I want to log a complaint that my internet POT...   Non\n",
       "6       Voice7  I would like to add on some GB to my connectio...   Non\n",
       "7       Voice8  I have the LOS light Blinking red color in the...   Non\n",
       "8       Voice9  \\nActually I made this complaint on Saturday.O...   Agg\n",
       "9      voice10  Hi can i know how much is the minimum that i s...   Non"
      ]
     },
     "execution_count": 3,
     "metadata": {},
     "output_type": "execute_result"
    }
   ],
   "source": [
    "df.head(10)"
   ]
  },
  {
   "cell_type": "code",
   "execution_count": 4,
   "metadata": {},
   "outputs": [
    {
     "data": {
      "text/plain": [
       "Index(['VoiceClip_No', 'TextTranscripts', 'label'], dtype='object')"
      ]
     },
     "execution_count": 4,
     "metadata": {},
     "output_type": "execute_result"
    }
   ],
   "source": [
    "df.columns"
   ]
  },
  {
   "cell_type": "code",
   "execution_count": 5,
   "metadata": {},
   "outputs": [
    {
     "name": "stderr",
     "output_type": "stream",
     "text": [
      "[nltk_data] Downloading package punkt to\n",
      "[nltk_data]     C:\\Users\\HP\\AppData\\Roaming\\nltk_data...\n",
      "[nltk_data]   Package punkt is already up-to-date!\n",
      "[nltk_data] Downloading package stopwords to\n",
      "[nltk_data]     C:\\Users\\HP\\AppData\\Roaming\\nltk_data...\n",
      "[nltk_data]   Package stopwords is already up-to-date!\n"
     ]
    }
   ],
   "source": [
    "nltk.download('punkt')\n",
    "nltk.download('stopwords')\n",
    "stop_words = set(stopwords.words('english'))"
   ]
  },
  {
   "cell_type": "code",
   "execution_count": 8,
   "metadata": {},
   "outputs": [],
   "source": [
    "stop_words = set(stopwords.words('english'))\n",
    "stemmer = PorterStemmer()"
   ]
  },
  {
   "cell_type": "code",
   "execution_count": 14,
   "metadata": {},
   "outputs": [],
   "source": [
    "def preprocess_text(text):\n",
    "    \n",
    "    text = re.sub(r'\\d{10}', '', text)  # Remove contact numbers\n",
    "    tokens = nltk.word_tokenize(text)  # Use NLTK tokenizer for better tokenization\n",
    "    tokens = [word for word in tokens if len(word) > 2]  # Remove short words (length <= 2)\n",
    "    tokens = [word.lower() for word in tokens if word.isalnum()]  # Tokenization, lowercase\n",
    "    tokens = [stemmer.stem(word) for word in tokens if word not in stop_words]  # Stemming, remove stopwords\n",
    "\n",
    "    return ' '.join(tokens)"
   ]
  },
  {
   "cell_type": "code",
   "execution_count": 15,
   "metadata": {},
   "outputs": [],
   "source": [
    "df['processed_content'] = df['TextTranscripts'].apply(preprocess_text)"
   ]
  },
  {
   "cell_type": "code",
   "execution_count": 16,
   "metadata": {},
   "outputs": [
    {
     "data": {
      "text/html": [
       "<div>\n",
       "<style scoped>\n",
       "    .dataframe tbody tr th:only-of-type {\n",
       "        vertical-align: middle;\n",
       "    }\n",
       "\n",
       "    .dataframe tbody tr th {\n",
       "        vertical-align: top;\n",
       "    }\n",
       "\n",
       "    .dataframe thead th {\n",
       "        text-align: right;\n",
       "    }\n",
       "</style>\n",
       "<table border=\"1\" class=\"dataframe\">\n",
       "  <thead>\n",
       "    <tr style=\"text-align: right;\">\n",
       "      <th></th>\n",
       "      <th>VoiceClip_No</th>\n",
       "      <th>TextTranscripts</th>\n",
       "      <th>label</th>\n",
       "      <th>processed_content</th>\n",
       "    </tr>\n",
       "  </thead>\n",
       "  <tbody>\n",
       "    <tr>\n",
       "      <th>0</th>\n",
       "      <td>Voice1</td>\n",
       "      <td>We want to increase our Wi-Fi services, increa...</td>\n",
       "      <td>Non</td>\n",
       "      <td>want increas servic increas thespe upload down...</td>\n",
       "    </tr>\n",
       "    <tr>\n",
       "      <th>1</th>\n",
       "      <td>Voice2</td>\n",
       "      <td>I want to know whether I will be charged for t...</td>\n",
       "      <td>Non</td>\n",
       "      <td>want know whether charg dial 12it free charg w...</td>\n",
       "    </tr>\n",
       "    <tr>\n",
       "      <th>2</th>\n",
       "      <td>Voice3</td>\n",
       "      <td>I made a complaint today morning.I did not ge...</td>\n",
       "      <td>Agg</td>\n",
       "      <td>made complaint today get call guy technic issu...</td>\n",
       "    </tr>\n",
       "    <tr>\n",
       "      <th>3</th>\n",
       "      <td>Voice4</td>\n",
       "      <td>I'm calling to reactivate my line. I've been ...</td>\n",
       "      <td>Agg</td>\n",
       "      <td>call reactiv line request last three day still...</td>\n",
       "    </tr>\n",
       "    <tr>\n",
       "      <th>4</th>\n",
       "      <td>Voice5</td>\n",
       "      <td>Can you check and tell me my balance ? \\n</td>\n",
       "      <td>Non</td>\n",
       "      <td>check tell balanc</td>\n",
       "    </tr>\n",
       "  </tbody>\n",
       "</table>\n",
       "</div>"
      ],
      "text/plain": [
       "  VoiceClip_No                                    TextTranscripts label  \\\n",
       "0       Voice1  We want to increase our Wi-Fi services, increa...   Non   \n",
       "1       Voice2  I want to know whether I will be charged for t...   Non   \n",
       "2       Voice3   I made a complaint today morning.I did not ge...   Agg   \n",
       "3       Voice4   I'm calling to reactivate my line. I've been ...   Agg   \n",
       "4       Voice5          Can you check and tell me my balance ? \\n   Non   \n",
       "\n",
       "                                   processed_content  \n",
       "0  want increas servic increas thespe upload down...  \n",
       "1  want know whether charg dial 12it free charg w...  \n",
       "2  made complaint today get call guy technic issu...  \n",
       "3  call reactiv line request last three day still...  \n",
       "4                                  check tell balanc  "
      ]
     },
     "execution_count": 16,
     "metadata": {},
     "output_type": "execute_result"
    }
   ],
   "source": [
    "df.head(5)"
   ]
  },
  {
   "cell_type": "code",
   "execution_count": 17,
   "metadata": {},
   "outputs": [
    {
     "name": "stdout",
     "output_type": "stream",
     "text": [
      "label\n",
      "Agg    155\n",
      "Non    114\n",
      "Name: count, dtype: int64\n"
     ]
    }
   ],
   "source": [
    "print(df['label'].value_counts())"
   ]
  },
  {
   "cell_type": "code",
   "execution_count": 18,
   "metadata": {},
   "outputs": [],
   "source": [
    "df.to_csv('Data\\\\Cleaned_Call_Conversation(Emotion)2.csv')"
   ]
  }
 ],
 "metadata": {
  "kernelspec": {
   "display_name": "base",
   "language": "python",
   "name": "python3"
  },
  "language_info": {
   "codemirror_mode": {
    "name": "ipython",
    "version": 3
   },
   "file_extension": ".py",
   "mimetype": "text/x-python",
   "name": "python",
   "nbconvert_exporter": "python",
   "pygments_lexer": "ipython3",
   "version": "3.11.5"
  }
 },
 "nbformat": 4,
 "nbformat_minor": 2
}
