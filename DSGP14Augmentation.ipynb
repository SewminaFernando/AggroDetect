{
 "cells": [
  {
   "cell_type": "code",
   "execution_count": 1,
   "id": "7c52c5bb",
   "metadata": {},
   "outputs": [],
   "source": [
    "import pandas as pd\n",
    "import sklearn\n",
    "import re\n",
    "import nltk\n",
    "from nltk.corpus import stopwords\n",
    "from nltk.tokenize import word_tokenize\n",
    "import matplotlib.pyplot as plt\n"
   ]
  },
  {
   "cell_type": "code",
   "execution_count": 2,
   "id": "b4ff986f",
   "metadata": {},
   "outputs": [],
   "source": [
    "df = pd.read_excel('DSGP dataSet2.xlsx')"
   ]
  },
  {
   "cell_type": "code",
   "execution_count": 3,
   "id": "f6d9c68f",
   "metadata": {},
   "outputs": [
    {
     "data": {
      "text/html": [
       "<div>\n",
       "<style scoped>\n",
       "    .dataframe tbody tr th:only-of-type {\n",
       "        vertical-align: middle;\n",
       "    }\n",
       "\n",
       "    .dataframe tbody tr th {\n",
       "        vertical-align: top;\n",
       "    }\n",
       "\n",
       "    .dataframe thead th {\n",
       "        text-align: right;\n",
       "    }\n",
       "</style>\n",
       "<table border=\"1\" class=\"dataframe\">\n",
       "  <thead>\n",
       "    <tr style=\"text-align: right;\">\n",
       "      <th></th>\n",
       "      <th>VoiceClip_No</th>\n",
       "      <th>TextTranscripts</th>\n",
       "      <th>label</th>\n",
       "    </tr>\n",
       "  </thead>\n",
       "  <tbody>\n",
       "    <tr>\n",
       "      <th>0</th>\n",
       "      <td>Voice1</td>\n",
       "      <td>We want to increase our Wi-Fi services, increa...</td>\n",
       "      <td>Non</td>\n",
       "    </tr>\n",
       "    <tr>\n",
       "      <th>1</th>\n",
       "      <td>Voice2</td>\n",
       "      <td>I want to know whether I will be charged for t...</td>\n",
       "      <td>Non</td>\n",
       "    </tr>\n",
       "    <tr>\n",
       "      <th>2</th>\n",
       "      <td>Voice3</td>\n",
       "      <td>I made a complaint today morning.I did not ge...</td>\n",
       "      <td>Agg</td>\n",
       "    </tr>\n",
       "    <tr>\n",
       "      <th>3</th>\n",
       "      <td>Voice4</td>\n",
       "      <td>I'm calling to reactivate my line. I've been ...</td>\n",
       "      <td>Agg</td>\n",
       "    </tr>\n",
       "    <tr>\n",
       "      <th>4</th>\n",
       "      <td>Voice5</td>\n",
       "      <td>Can you check and tell me my balance ? \\n</td>\n",
       "      <td>Non</td>\n",
       "    </tr>\n",
       "    <tr>\n",
       "      <th>5</th>\n",
       "      <td>Voice6</td>\n",
       "      <td>I want to log a complaint that my internet POT...</td>\n",
       "      <td>Non</td>\n",
       "    </tr>\n",
       "    <tr>\n",
       "      <th>6</th>\n",
       "      <td>Voice7</td>\n",
       "      <td>I would like to add on some GB to my connectio...</td>\n",
       "      <td>Non</td>\n",
       "    </tr>\n",
       "    <tr>\n",
       "      <th>7</th>\n",
       "      <td>Voice8</td>\n",
       "      <td>I have the LOS light Blinking red color in the...</td>\n",
       "      <td>Non</td>\n",
       "    </tr>\n",
       "    <tr>\n",
       "      <th>8</th>\n",
       "      <td>Voice9</td>\n",
       "      <td>\\nActually I made this complaint on Saturday.O...</td>\n",
       "      <td>Agg</td>\n",
       "    </tr>\n",
       "    <tr>\n",
       "      <th>9</th>\n",
       "      <td>voice10</td>\n",
       "      <td>Hi can i know how much is the minimum that i s...</td>\n",
       "      <td>Non</td>\n",
       "    </tr>\n",
       "  </tbody>\n",
       "</table>\n",
       "</div>"
      ],
      "text/plain": [
       "  VoiceClip_No                                    TextTranscripts label\n",
       "0       Voice1  We want to increase our Wi-Fi services, increa...   Non\n",
       "1       Voice2  I want to know whether I will be charged for t...   Non\n",
       "2       Voice3   I made a complaint today morning.I did not ge...   Agg\n",
       "3       Voice4   I'm calling to reactivate my line. I've been ...   Agg\n",
       "4       Voice5          Can you check and tell me my balance ? \\n   Non\n",
       "5       Voice6  I want to log a complaint that my internet POT...   Non\n",
       "6       Voice7  I would like to add on some GB to my connectio...   Non\n",
       "7       Voice8  I have the LOS light Blinking red color in the...   Non\n",
       "8       Voice9  \\nActually I made this complaint on Saturday.O...   Agg\n",
       "9      voice10  Hi can i know how much is the minimum that i s...   Non"
      ]
     },
     "execution_count": 3,
     "metadata": {},
     "output_type": "execute_result"
    }
   ],
   "source": [
    "df.head(10)"
   ]
  },
  {
   "cell_type": "code",
   "execution_count": 4,
   "id": "5351b76c",
   "metadata": {},
   "outputs": [
    {
     "data": {
      "text/plain": [
       "Index(['VoiceClip_No', 'TextTranscripts', 'label'], dtype='object')"
      ]
     },
     "execution_count": 4,
     "metadata": {},
     "output_type": "execute_result"
    }
   ],
   "source": [
    "df.columns"
   ]
  },
  {
   "cell_type": "code",
   "execution_count": 5,
   "id": "1105b623",
   "metadata": {},
   "outputs": [
    {
     "name": "stderr",
     "output_type": "stream",
     "text": [
      "[nltk_data] Downloading package punkt to\n",
      "[nltk_data]     C:\\Users\\HP\\AppData\\Roaming\\nltk_data...\n",
      "[nltk_data]   Package punkt is already up-to-date!\n",
      "[nltk_data] Downloading package stopwords to\n",
      "[nltk_data]     C:\\Users\\HP\\AppData\\Roaming\\nltk_data...\n",
      "[nltk_data]   Package stopwords is already up-to-date!\n"
     ]
    }
   ],
   "source": [
    "nltk.download('punkt')\n",
    "nltk.download('stopwords')\n",
    "stop_words = set(stopwords.words('english'))"
   ]
  },
  {
   "cell_type": "code",
   "execution_count": 6,
   "id": "3cddb5b1",
   "metadata": {},
   "outputs": [],
   "source": [
    "import re\n",
    "\n",
    "def preprocess_text(text):\n",
    "    text = re.sub(r'http\\S+', '', text)  # Remove links\n",
    "    text = ' '.join([word for word in text.split() if not word.startswith('@')])  # Remove mentions (words starting with '@')\n",
    "    text = re.sub(r'\\d{10}', '', text)  # Remove contact numbers\n",
    "    text = re.sub(r'\\d{1,2}[-/]\\d{1,2}[-/]\\d{2,4}', '', text)  # Remove dates\n",
    "    text = re.sub(r'\\S+@\\S+', '', text)  # Remove emails\n",
    "    tokens = text.split()\n",
    "    tokens = [word for word in tokens if len(word) > 2]  # Remove short words (length <= 2)\n",
    "    tokens = [word.lower() for word in tokens if word.isalnum()]  # Tokenization, lowercase, and removing stopwords\n",
    "    # tokens = [word for word in tokens if word not in stop_words]\n",
    "\n",
    "    return ' '.join(tokens)"
   ]
  },
  {
   "cell_type": "code",
   "execution_count": 7,
   "id": "36357158",
   "metadata": {},
   "outputs": [],
   "source": [
    "df['processed_content'] = df['TextTranscripts'].apply(preprocess_text)"
   ]
  },
  {
   "cell_type": "code",
   "execution_count": 8,
   "id": "d88211fc",
   "metadata": {},
   "outputs": [
    {
     "data": {
      "text/html": [
       "<div>\n",
       "<style scoped>\n",
       "    .dataframe tbody tr th:only-of-type {\n",
       "        vertical-align: middle;\n",
       "    }\n",
       "\n",
       "    .dataframe tbody tr th {\n",
       "        vertical-align: top;\n",
       "    }\n",
       "\n",
       "    .dataframe thead th {\n",
       "        text-align: right;\n",
       "    }\n",
       "</style>\n",
       "<table border=\"1\" class=\"dataframe\">\n",
       "  <thead>\n",
       "    <tr style=\"text-align: right;\">\n",
       "      <th></th>\n",
       "      <th>VoiceClip_No</th>\n",
       "      <th>TextTranscripts</th>\n",
       "      <th>label</th>\n",
       "      <th>processed_content</th>\n",
       "    </tr>\n",
       "  </thead>\n",
       "  <tbody>\n",
       "    <tr>\n",
       "      <th>0</th>\n",
       "      <td>Voice1</td>\n",
       "      <td>We want to increase our Wi-Fi services, increa...</td>\n",
       "      <td>Non</td>\n",
       "      <td>want increase our increase thespeed for the up...</td>\n",
       "    </tr>\n",
       "    <tr>\n",
       "      <th>1</th>\n",
       "      <td>Voice2</td>\n",
       "      <td>I want to know whether I will be charged for t...</td>\n",
       "      <td>Non</td>\n",
       "      <td>want know whether will charged for the for dia...</td>\n",
       "    </tr>\n",
       "    <tr>\n",
       "      <th>2</th>\n",
       "      <td>Voice3</td>\n",
       "      <td>I made a complaint today morning.I did not ge...</td>\n",
       "      <td>Agg</td>\n",
       "      <td>made complaint today did not get any calls fro...</td>\n",
       "    </tr>\n",
       "    <tr>\n",
       "      <th>3</th>\n",
       "      <td>Voice4</td>\n",
       "      <td>I'm calling to reactivate my line. I've been ...</td>\n",
       "      <td>Agg</td>\n",
       "      <td>calling reactivate been requesting this for th...</td>\n",
       "    </tr>\n",
       "    <tr>\n",
       "      <th>4</th>\n",
       "      <td>Voice5</td>\n",
       "      <td>Can you check and tell me my balance ? \\n</td>\n",
       "      <td>Non</td>\n",
       "      <td>can you check and tell balance</td>\n",
       "    </tr>\n",
       "  </tbody>\n",
       "</table>\n",
       "</div>"
      ],
      "text/plain": [
       "  VoiceClip_No                                    TextTranscripts label  \\\n",
       "0       Voice1  We want to increase our Wi-Fi services, increa...   Non   \n",
       "1       Voice2  I want to know whether I will be charged for t...   Non   \n",
       "2       Voice3   I made a complaint today morning.I did not ge...   Agg   \n",
       "3       Voice4   I'm calling to reactivate my line. I've been ...   Agg   \n",
       "4       Voice5          Can you check and tell me my balance ? \\n   Non   \n",
       "\n",
       "                                   processed_content  \n",
       "0  want increase our increase thespeed for the up...  \n",
       "1  want know whether will charged for the for dia...  \n",
       "2  made complaint today did not get any calls fro...  \n",
       "3  calling reactivate been requesting this for th...  \n",
       "4                     can you check and tell balance  "
      ]
     },
     "execution_count": 8,
     "metadata": {},
     "output_type": "execute_result"
    }
   ],
   "source": [
    "df.head(5)"
   ]
  },
  {
   "cell_type": "code",
   "execution_count": 9,
   "id": "14315748",
   "metadata": {},
   "outputs": [
    {
     "name": "stdout",
     "output_type": "stream",
     "text": [
      "label\n",
      "Agg    155\n",
      "Non    114\n",
      "Name: count, dtype: int64\n"
     ]
    }
   ],
   "source": [
    "print(df['label'].value_counts())"
   ]
  },
  {
   "cell_type": "code",
   "execution_count": 10,
   "id": "7ae604b4",
   "metadata": {},
   "outputs": [],
   "source": [
    "df.to_csv('processed_datasetnewAug.csv')"
   ]
  },
  {
   "cell_type": "code",
   "execution_count": 27,
   "id": "1b8b228a",
   "metadata": {},
   "outputs": [],
   "source": [
    "import pandas as pd\n",
    "import nlpaug.augmenter.word as naw\n",
    "\n",
    "# Assuming you have a DataFrame called df with columns 'TextTranscripts', 'VoiceClip_No', 'label', and 'processed_content'\n",
    "\n",
    "# Find the maximum count among the labels\n",
    "max_count = df['label'].value_counts().max()\n",
    "\n",
    "# Define specific words for each label\n",
    "label_words = {\n",
    "    'Agg': ['worst', 'unacceptable', 'disappointed', 'fix it', 'soon'],\n",
    "    'Non': ['repair', 'broke down', 'not working', 'no signal', 'maintenance'],\n",
    "}\n",
    "\n",
    "# Augment the data to balance the sample count across all labels\n",
    "augmented_df = pd.DataFrame(columns=['VoiceClip_No', 'TextTranscript', 'label', 'processed_content'])\n",
    "\n",
    "for label in df['label'].unique():\n",
    "    label_df = df[df['label'] == label]\n",
    "\n",
    "    # Extract relevant columns\n",
    "    texts = label_df['processed_content'].tolist()  # Use the correct column name\n",
    "    voiceclip_nos = label_df['VoiceClip_No'].tolist()  # Use the correct column name\n",
    "\n",
    "    # Augment the data to match the maximum count\n",
    "    augmented_texts = []\n",
    "    augmented_voiceclip_nos = []\n",
    "    aug = naw.RandomWordAug()\n",
    "\n",
    "    for text, voiceclip_no in zip(texts, voiceclip_nos):\n",
    "        # Replace specific words for each label\n",
    "        for word in label_words.get(label, []):\n",
    "            augmented_word = aug.augment(word)\n",
    "            text = text.replace(word, augmented_word[0] if augmented_word else word)\n",
    "\n",
    "        augmented_texts.append(text)\n",
    "        augmented_voiceclip_nos.append(voiceclip_no)\n",
    "\n",
    "    # Sample each label to match the maximum count\n",
    "    sampled_texts = pd.Series(texts).sample(n=max_count, replace=True).tolist()\n",
    "    sampled_voiceclip_nos = pd.Series(voiceclip_nos).sample(n=max_count, replace=True).tolist()\n",
    "\n",
    "    # If the label is 'Agg', add 20 more augmented samples\n",
    "    if label == 'Agg':\n",
    "        for text, voiceclip_no in zip(texts[:20], voiceclip_nos[:20]):\n",
    "            for word in label_words.get(label, []):\n",
    "                augmented_word = aug.augment(word)\n",
    "                text = text.replace(word, augmented_word[0] if augmented_word else word)\n",
    "            augmented_texts.append(text)\n",
    "            augmented_voiceclip_nos.append(voiceclip_no)\n",
    "\n",
    "    # If the label is 'Non', add 3 more augmented samples\n",
    "    elif label == 'Non':\n",
    "        for text, voiceclip_no in zip(texts[:3], voiceclip_nos[:3]):\n",
    "            for word in label_words.get(label, []):\n",
    "                augmented_word = aug.augment(word)\n",
    "                text = text.replace(word, augmented_word[0] if augmented_word else word)\n",
    "            augmented_texts.append(text)\n",
    "            augmented_voiceclip_nos.append(voiceclip_no)\n",
    "\n",
    "    # Create a DataFrame for the current label\n",
    "    label_df = pd.DataFrame({\n",
    "        'VoiceClip_No': sampled_voiceclip_nos + augmented_voiceclip_nos,\n",
    "        'TextTranscript': sampled_texts + augmented_texts,\n",
    "        'label': label,\n",
    "        'processed_content': sampled_texts + augmented_texts\n",
    "    })\n",
    "\n",
    "    # Concatenate with the main DataFrame\n",
    "    augmented_df = pd.concat([augmented_df, label_df])\n",
    "\n",
    "# Save the augmented dataset to a new CSV file\n",
    "augmented_df.to_csv('balanced_augmented_Newdataset.csv', index=False)\n",
    "\n"
   ]
  },
  {
   "cell_type": "code",
   "execution_count": 28,
   "id": "c2ab272b",
   "metadata": {},
   "outputs": [
    {
     "name": "stdout",
     "output_type": "stream",
     "text": [
      "(602, 4)\n"
     ]
    }
   ],
   "source": [
    "df2 = pd.read_csv('balanced_augmented_Newdataset.csv')\n",
    "\n",
    "# Print the shape of the DataFrame\n",
    "print(df2.shape)"
   ]
  },
  {
   "cell_type": "code",
   "execution_count": 29,
   "id": "2c93dac0",
   "metadata": {},
   "outputs": [
    {
     "data": {
      "text/plain": [
       "label\n",
       "Agg    330\n",
       "Non    272\n",
       "Name: count, dtype: int64"
      ]
     },
     "execution_count": 29,
     "metadata": {},
     "output_type": "execute_result"
    }
   ],
   "source": [
    "df2['label'].value_counts()"
   ]
  },
  {
   "cell_type": "code",
   "execution_count": null,
   "id": "6bf7bc53",
   "metadata": {},
   "outputs": [],
   "source": []
  }
 ],
 "metadata": {
  "kernelspec": {
   "display_name": "Python 3 (ipykernel)",
   "language": "python",
   "name": "python3"
  },
  "language_info": {
   "codemirror_mode": {
    "name": "ipython",
    "version": 3
   },
   "file_extension": ".py",
   "mimetype": "text/x-python",
   "name": "python",
   "nbconvert_exporter": "python",
   "pygments_lexer": "ipython3",
   "version": "3.11.5"
  }
 },
 "nbformat": 4,
 "nbformat_minor": 5
}
